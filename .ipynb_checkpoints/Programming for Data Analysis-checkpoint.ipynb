{
 "cells": [
  {
   "cell_type": "markdown",
   "id": "18f1f5c0",
   "metadata": {},
   "source": [
    "# <center>Participant Representation in Cancer Clinical Trials  </center>\n",
    "\n",
    "***\n",
    "\n",
    "![Numpy](Images/Numpy.png)\n",
    "![RD](Images/RD.png)\n",
    "\n",
    "<i>Images adapted from references 1,2 respectively</i>\n",
    "\n",
    "## Conor McCaffrey\n",
    "### Programming for Data Analysis 2021\n",
    "***"
   ]
  },
  {
   "cell_type": "markdown",
   "id": "65351e4c",
   "metadata": {},
   "source": [
    "### Assignment Objectives:\n",
    "\n",
    "<b>From Offical Assignment</b>\n",
    "\n",
    "For this project you must create a data set by simulating a real-world phenomenon of\n",
    "your choosing. You may pick any phenomenon you wish – you might pick one that is\n",
    "of interest to you in your personal or professional life. Then, rather than collect data\n",
    "related to the phenomenon, you should model and synthesise such data using Python.\n",
    "We suggest you use the numpy.random package for this purpose.\n",
    "Specifically, in this project you should:\n",
    "\n",
    "• Choose a real-world phenomenon that can be measured and for which you could\n",
    "collect at least one-hundred data points across at least four different variables.\n",
    "\n",
    "• Investigate the types of variables involved, their likely distributions, and their\n",
    "relationships with each other.\n",
    "\n",
    "• Synthesise/simulate a data set as closely matching their properties as possible.\n",
    "\n",
    "• Detail your research and implement the simulation in a Jupyter notebook – the\n",
    "data set itself can simply be displayed in an output cell within the notebook.\n",
    "\n",
    "Note that this project is about simulation – you must synthesise a data set. Some\n",
    "students may already have some real-world data sets in their own files. It is okay to\n",
    "base your synthesised data set on these should you wish (please reference it if you do),\n",
    "but the main task in this project is to create a synthesised data set. The next section\n",
    "gives an example project idea.\n",
    "\n"
   ]
  },
  {
   "cell_type": "markdown",
   "id": "f7852e65",
   "metadata": {},
   "source": [
    "***\n",
    "\n",
    "\n",
    "### Justification for my chosen Title\n",
    "\n",
    "For this project, I have decided to merge both my personal interests and professional career to date. I currently am employed in the Pharmaceutical sector and have a keen interest in Analytics (hence the reason for enrolling in this H.Dip!). In light of this, I want to explore something that may seem a bit 'left-field' and for which I am not sure there will even be much data available but I believe it is the knowledge gained as opposed to the actual end-result that will have the most benefit for me in this project and my career. I want to explore the participation of different demographic groups in a company's Research and Development (hereafter denoted as '<b>R&D</b>') Clinical Trials.\n",
    "\n",
    "I can already see one potentially big caveat in our analysis that would in itself probably make for a very interesting 'stand-alone' project:\n",
    "- Patricipation rates in Cancer clinical trials of patients with 'later-stage' (cancer that has spread) cancer.\n",
    "\n",
    "This would, in itself, make for an interesting project but I want to keep this investigation focussed solely demographic participation in Clinical Trials.\n",
    "\n",
    "Some points I would like to hopefully investigate in the generation of the data set are:\n",
    "- Race/ethnicity demographic of Clincal Trial participants\n",
    "- Gender demographic of Clinical Trial participants\n",
    "- Profit margins for companies with effective anti-cancer treaments\n",
    "- Average age of Clinical Trial participants\n",
    "- Different treatment areas that account for majority of drug spend (i.e. Oncology, Cardiovascular, Metabolic, Neurodegenerative conditions). This would be as an aside to our dataset but still informative and perhaps provide rationale for choosing to explore Oncology (Cancer) treatment.\n",
    "- Prevalence of adverse events in Clinical Trails \n",
    "\n",
    "These areas will be the main focus of the 'parameters' I choose for generating this dataset. I can see this is going to be a wide-ranging project but I believe the research involved will be interesting and informative. \n",
    "***"
   ]
  },
  {
   "cell_type": "markdown",
   "id": "f37365bf",
   "metadata": {},
   "source": [
    "### Definitions of terms that will be used in Project\n",
    "\n",
    "Before we begin, it will be important to familiarise ourselves with some important terms that will be incorporated in our dataset generation: <br>\n",
    "<b>* N.B * </b> This will be updated as the project progresses.\n",
    "\n",
    "- <i><b>Profit</b></i> is defined as the surplus revenue generated within a business once all operating costs are accoutned for, such as expenses, costs and taxes associated with producing the product (3,4).\n",
    "<br>\n",
    "\n",
    "- <i><b>Revenue</b></i> (also referred to as Sales/Income) can be defined as the 'value of all sales and services' in a company or relating to a product (5). The is the initial figure for a company before all expenses are then deducted.\n",
    "<br>\n",
    "\n",
    "- <i><b>R&D</b></i> is considered work performed, outside of normal product production, in order to lead to eventual profit/knowledge gained for a company.\n",
    "<br>\n",
    "\n",
    "- <i><b>Corporation Tax</b></i> is a tex levied on a company's profits (23). \n",
    "<br>\n",
    "\n",
    "- <i><b>Biosimilars</b></i> are drugs that are highly similar to a pre-approved drug on the market. Biosimilars are generally approved for use on the basis that there are no clinical differences between the product and a pre-approved drug already available for purchase (25).\n",
    "<br>\n",
    "\n",
    "- <i><b>Control Group</b></i>. A control group within a clinical trial is a group that do not receive the product under investigation. Instead, the participants in this group receive standard care or perhaps a placebo (a substance of no therapeutic value). The effectiveness of the new product is then determined by comparison with this control group.\n",
    "***"
   ]
  },
  {
   "cell_type": "markdown",
   "id": "b863c281",
   "metadata": {},
   "source": [
    "### Importation of Required Packages"
   ]
  },
  {
   "cell_type": "code",
   "execution_count": 1,
   "id": "79770431",
   "metadata": {},
   "outputs": [],
   "source": [
    "#This line-orientated magic command, as outlined in lectures, lets us display plots inline\n",
    "%matplotlib inline \n",
    "\n",
    "import numpy as np\n",
    "import pandas as pd\n",
    "import matplotlib.pyplot as plt\n",
    "import seaborn as sns\n",
    "import scipy.stats as stats"
   ]
  },
  {
   "cell_type": "markdown",
   "id": "46051302",
   "metadata": {},
   "source": [
    "### What is a Synthetic Dataset?"
   ]
  },
  {
   "cell_type": "markdown",
   "id": "2a206ca1",
   "metadata": {},
   "source": [
    "As part of the requirements for this project, we must generate a synthetic dataset that closely resembles our research as much as possible. So, the obvious question is: <u>What is a synthetic dataset?</u>. At it's most basic, synthetic data is data generated algorithmically, as opposed to generated by collection of real-life data (6). One of the main uses for the generation of synthetic datasets is in Machine Learning (ML) (6). Advantages of incorporating the use of synthetic datasets come in the relatively cheap production costs and also the safety regarding data privacy (7). Despite the relatively recent emergence of synthetic datasets, there are already numerous companies which specialise solely in the generation of synthetic datasets such as [iData](https://intelligent-ds.com/idataquality/idata-data-quality-management/), [Sarus Technologies](https://sarus.tech/) and [BetterData](https://www.betterdata.ai/). As can be seen from the below graph, the generation of synthetic data is only going to increase over time (7).\n",
    "\n",
    "![Synthetic Datasets](Images/synthetic.png)\n",
    "<br>\n",
    "<i>Graph adapted from Reference 7</i>\n",
    "\n",
    "The use of synthetic datasets in Industry can include:\n",
    "- Financial Institutions using datasets mimicking credit/debit card transactions to train in identifying fraudulant activity (8)\n",
    "- DevOps teams using synthetic datasets to test software (8)\n",
    "- Medical companies such as Roche using synthetic datasets for clincial research (9)\n",
    "- Amazon incorporating the use of synthetic data in training Amazon Go, a new type of 'shopkeeper-less' store (10)\n",
    "\n",
    "Considerations in the generation of synthetic data must include an assessment whether the synthetic data can closely resemble 'real-data' for it's intended purpose. Otherwise, you are wasting your time generating any type of dataset for your intended purpose. \n",
    "***"
   ]
  },
  {
   "cell_type": "markdown",
   "id": "97a79699",
   "metadata": {},
   "source": [
    "### Treatment areas of Interest and their role in daily consumer life."
   ]
  },
  {
   "cell_type": "markdown",
   "id": "0aaa8a57",
   "metadata": {},
   "source": [
    "An interesting aspect of this project will be type of Pharmaceutical companies listed in our tables for most profit. From this table, we might be able to divulge which specific treatment areas seem to generate the most profit for companies. Immediately, some areas come to mind: oncology treatments, 'ultra-rare' disease treatments. For example, 'Zolgensma', developed by Novartis, is a one-time treatment for spinal muscular atrophy (degeneration of muscle) that costs €1,877,746 (11). This product is a direct competitor to 'Spinzara', produced by Biogen, which also is currently the tenth most expensive treatment with an annual cost of €331,367 (11). The difference between the treatments is that 'Spinzara' is a multiple-dose treatment as opposed to 'Zolgensma' which is a single-dose treatment. This gives you a range of drug costs for these high-end treatments. \n",
    "\n",
    "<br>\n",
    "\n",
    "<b>Graph representing projected cancer-related deaths up to 2040</b>\n",
    "![Cancer deaths projection](Images/cancer.png)\n",
    "<br>\n",
    "<i>Figure adapted from Reference 17</i>\n",
    "\n",
    "Different treatment areas can also be examined to see how they can contribute to a company's profit margin. According to [The cost of cancer in Europe 2018](https://www.sciencedirect.com/science/article/pii/S0959804920300265/), almost €32 billion was spent in Europe on cancer-related drug treatments in 2018. In 2020, almost €246 billion was spent in the USA on cancer related care (12). Neurological disorders also account for a large proportion of health spending. According to a 2019 [EU-commissioned report](https://www.europarl.europa.eu/RegData/etudes/IDAN/2019/631045/IPOL_IDA(2019)631045_EN.pdf), almost €800 billion annually is spent on direct- and indirect-care for neurological disorders in the EU (13). Roughly the same figure is spent in the USA on neurological disorder care (14).These are huge amounts of money being spent on the incidence of treatments that are each increasing globally (15,16). Naturally, with such huge amounts of money being spent on treatments for these types of diseases, vasts sums of money are spent on developing effective treatments.\n",
    "<br>\n",
    "\n",
    "Specifically in Ireland, the [Review of High-Tech Drug Expenditure](https://assets.gov.ie/193851/9490e808-1774-440d-843a-28c3a9dc195c.pdf) is an invaluable resource (26). The below graph outlines the spend from 2012-2020 by the Irish Government on certain treatment areas. Similar to the theme conveyed above, we can see a dramatically increasing annual spend on anti-cancer treatments. Expenditure on cancer treatments has increased 15% annually over this period despite a patient growth in this area of 5% (26). This appears to suggests the increasing spend on anti-cancer treatments is to cover higher costs, as opposed to higher patient numbers. It is also worth noting the graudal increase in spend for Multiple Sclerosis treatment, a neurological disorder affecting the nerves (26,27). \n",
    "\n",
    "![Irish Spending](Images/snip.png)\n",
    "<br>\n",
    "<i>Adapted from Reference 26</i>"
   ]
  },
  {
   "cell_type": "markdown",
   "id": "c969edf1",
   "metadata": {},
   "source": [
    "### What is R&D?"
   ]
  },
  {
   "cell_type": "markdown",
   "id": "09187917",
   "metadata": {},
   "source": [
    "Research and Development (R&D) is considered to be the work carried out by a company in order to develop new products which can eventually add to the overall net profit of a company (18). The main reason for a company to undertake R&D is to develop new products, add to profit and therefore remain dominant/competitive in a certain field. If a company does not engage in effective R&D, it may fall behind competitors or need to depend on mergers/acquisitions to grow and add to profit (18). The basic premise of the R&D department is to develop new products and ensure they generate income for their company (19). This is done through product testing, clinical trials and use of data to determine if a product meets a certain need/niche within the market. R&D work can consist of detailed studies/projects determining the efficacy of a certain product/process. An essential parameter here is to ensure the product satisfies all market and regulatory requirements regarding safety (19). Another function of the R&D department is a sanity check, ensuring an existing product still meets a certain market requirement and still outperforms competitor equivalents. If this is not the case, the R&D department would be responsible for making the required product alteration to improve product performence. This may also lead to changes in the manufacture of the product (19)."
   ]
  },
  {
   "cell_type": "markdown",
   "id": "43a17b70",
   "metadata": {},
   "source": [
    "#### Types of R&D\n",
    "Briefly, there are two types of R&D research work:\n",
    "- <b> Basic Research</b>, which is high-level research with the overall aim to gain a more thorough understanding of a concept/process (18). Due to the wide-ranging scope of this research, high levels of profits may not be realised from this work. However, work carried out under basic research may then lead to more applied research.\n",
    "- <b>Applied Research</b>, which is a more focussed type of research with a discernible goal, such as generating profits, improving a certain product or improving a certain manufacturing process (19).\n",
    "\n",
    "The development phase of R&D can consist of improving a certain process within a company (perhaps making it more 'lean' i.e stripping away unnecessary steps to save time or money) or designing a new production system for a new product (19). The development phase can garner knowledge gained from carrying out either basic or applied (or both) research.\n",
    "\n",
    "![ResearchandDev](Images/RD1.png)\n",
    "<br>\n",
    "<i>Image adapted from Reference 20</i>"
   ]
  },
  {
   "cell_type": "markdown",
   "id": "acf200ab",
   "metadata": {},
   "source": [
    "#### Discrete Advantages of R&D"
   ]
  },
  {
   "cell_type": "markdown",
   "id": "cfe0baf5",
   "metadata": {},
   "source": [
    "It is quite clear that an effective R&D department can generate large returns for a company and lead to the formation of new products and leaner manufacturing processes. However, there are also other advantages to carrying out R&D projects. In Ireland, specifically, there a tax credit to be gained for companies that perform R&D studies in Ireland and the European Economic Area (21). There is a 25% tax credit available for companies that engage in R&D projects which is used to reduce a company's payable Corporation Tax (22). Another advantage is the goodwill factor of publishing pertinent information to the public and also collaborating with academic institutions in order to raise awareness of a company's brand. This last point is quite prominent within the scientific field through the use of 'placements' for students who will work with a company (on a research project, perhaps exploring a certain product) for a defined period of time. \n",
    "\n",
    "This section has highlighted the importance of R&D work for a company. To summarise, a main goal of the R&D department is to develop new products. These new products are then assessed in Clinical Trials for efficacy. It is worth noting that for some of the most commonly used drugs, there exists what are known as <i>biosimilars</i>. Biosimilars are produced by smaller companies and mimic the mode-of-action of an existing pre-approved drug (24). These biosimilars generally sell at a fraction of the original drug's price.\n",
    "***"
   ]
  },
  {
   "cell_type": "markdown",
   "id": "bd32357e",
   "metadata": {},
   "source": [
    "#### Revenue of Pharmaceutical Companies\n",
    "Before we start declaring variables for our dataset, I want to explore if any company within the top 10 (Revenue-wise) focuses primarily on Oncology treatment. I would have much preferred to have taken profit as a variable however it appears to be difficult to find reliable sources that accurately quantify a company's profits. Regardless, Revenue generated by a company will still give us a good indication of a company's performence. Sources used to generate this data include [Drug Discovery Trends Top 50](https://www.drugdiscoverytrends.com/pharma-50-the-50-largest-pharmaceutical-companies-in-the-world/) and [Fierce Pharmas Top 20](https://www.fiercepharma.com/special-report/top-20-pharma-companies-by-2020-revenue), both reputable sources within the life sciences industry (28,29). From analysing the results, we immediately see the figures are not in the millions, but rather the billions. Some of the sources convey slightly conflicting numbers for Revenue but the ballpark figures are the same.\n",
    "\n",
    "To start us off, let's have a look at the Revenue generated by the Top 10 Pharma companies in the world."
   ]
  },
  {
   "cell_type": "code",
   "execution_count": 2,
   "id": "b20e86b3",
   "metadata": {},
   "outputs": [
    {
     "data": {
      "text/html": [
       "<div>\n",
       "<style scoped>\n",
       "    .dataframe tbody tr th:only-of-type {\n",
       "        vertical-align: middle;\n",
       "    }\n",
       "\n",
       "    .dataframe tbody tr th {\n",
       "        vertical-align: top;\n",
       "    }\n",
       "\n",
       "    .dataframe thead th {\n",
       "        text-align: right;\n",
       "    }\n",
       "</style>\n",
       "<table border=\"1\" class=\"dataframe\">\n",
       "  <thead>\n",
       "    <tr style=\"text-align: right;\">\n",
       "      <th></th>\n",
       "      <th>Company</th>\n",
       "      <th>Revenue in Billions $US</th>\n",
       "    </tr>\n",
       "  </thead>\n",
       "  <tbody>\n",
       "    <tr>\n",
       "      <th>0</th>\n",
       "      <td>Roche</td>\n",
       "      <td>49.50</td>\n",
       "    </tr>\n",
       "    <tr>\n",
       "      <th>1</th>\n",
       "      <td>Novartis</td>\n",
       "      <td>48.70</td>\n",
       "    </tr>\n",
       "    <tr>\n",
       "      <th>2</th>\n",
       "      <td>Merck</td>\n",
       "      <td>47.99</td>\n",
       "    </tr>\n",
       "    <tr>\n",
       "      <th>3</th>\n",
       "      <td>AbbVie</td>\n",
       "      <td>45.80</td>\n",
       "    </tr>\n",
       "    <tr>\n",
       "      <th>4</th>\n",
       "      <td>Janssen (J&amp;J)</td>\n",
       "      <td>45.57</td>\n",
       "    </tr>\n",
       "    <tr>\n",
       "      <th>5</th>\n",
       "      <td>GSK</td>\n",
       "      <td>45.53</td>\n",
       "    </tr>\n",
       "    <tr>\n",
       "      <th>6</th>\n",
       "      <td>BMS</td>\n",
       "      <td>42.42</td>\n",
       "    </tr>\n",
       "    <tr>\n",
       "      <th>7</th>\n",
       "      <td>Pfizer</td>\n",
       "      <td>41.90</td>\n",
       "    </tr>\n",
       "    <tr>\n",
       "      <th>8</th>\n",
       "      <td>Sanofi</td>\n",
       "      <td>41.10</td>\n",
       "    </tr>\n",
       "    <tr>\n",
       "      <th>9</th>\n",
       "      <td>Takeda</td>\n",
       "      <td>29.90</td>\n",
       "    </tr>\n",
       "  </tbody>\n",
       "</table>\n",
       "</div>"
      ],
      "text/plain": [
       "         Company  Revenue in Billions $US\n",
       "0          Roche                    49.50\n",
       "1       Novartis                    48.70\n",
       "2          Merck                    47.99\n",
       "3         AbbVie                    45.80\n",
       "4  Janssen (J&J)                    45.57\n",
       "5            GSK                    45.53\n",
       "6            BMS                    42.42\n",
       "7         Pfizer                    41.90\n",
       "8         Sanofi                    41.10\n",
       "9         Takeda                    29.90"
      ]
     },
     "execution_count": 2,
     "metadata": {},
     "output_type": "execute_result"
    }
   ],
   "source": [
    "# Lets plot the revenue generated by Top 10 Pharma companies worldwide\n",
    "\n",
    "# Let's create our Pandas dataframe first\n",
    "Company = [['Roche', 49.5], ['Novartis',48.7], ['Merck', 47.99], ['AbbVie',45.80], \n",
    "         ['Janssen (J&J)', 45.57], ['GSK', 45.53], ['BMS', 42.42], ['Pfizer', 41.9],\n",
    "           ['Sanofi',41.1],['Takeda', 29.9]]\n",
    "\n",
    "df_Top10 =pd.DataFrame(Company, columns = ['Company', 'Revenue in Billions $US']) \n",
    "df_Top10"
   ]
  },
  {
   "cell_type": "code",
   "execution_count": 3,
   "id": "efce7a83",
   "metadata": {},
   "outputs": [
    {
     "data": {
      "image/png": "[encoded data removed]",
      "text/plain": [
       "<Figure size 1080x576 with 1 Axes>"
      ]
     },
     "metadata": {
      "needs_background": "light"
     },
     "output_type": "display_data"
    }
   ],
   "source": [
    "# Now let's plot\n",
    "plt.figure(figsize=(15,8))\n",
    "sns.barplot(x=df_Top10['Company'], y=df_Top10['Revenue in Billions $US'], data=df_Top10,\n",
    "            color = 'blue',  palette='Blues_d') # adapted from reference 30\n",
    "plt.xlabel('Company', fontsize = 16)\n",
    "plt.ylabel('Revenue (in $US Billions)', fontsize = 16)\n",
    "plt.xticks(fontsize = 13)\n",
    "plt.suptitle('Revenue of Top 10 Pharma Companies', fontsize = 15, fontweight = 'bold');"
   ]
  },
  {
   "cell_type": "markdown",
   "id": "1d465e4b",
   "metadata": {},
   "source": [
    "I merely want to demonstrate the levels of revenue we are dealing with here. We can see that Roche's revenue is almost €44.4 billion, while our 'lowest' Revenue level lies with Takeda, at a 'mere' €26.6 billion. It is interesting however to see the drop off between Sanofi and Takeda, it appears there may be a leading 9 companies and then Takeda is the beginning of a new cluster of companies, perhaps in a 'mid-range' level of Revenue annually. From analysing reference 28, I can see this is the case. Our values range from €44.4 billion (Roche) down as far as €5.3 billion (Eisai) (28). Let's explore which (if any) of these companies primarily focus on Oncology treatments. As a side note, GitHub has issues rendering the dollar symbol correctly from Jupyter so I converted values to €'s for the sake of the text. "
   ]
  },
  {
   "cell_type": "code",
   "execution_count": 4,
   "id": "7a7e2631",
   "metadata": {},
   "outputs": [
    {
     "data": {
      "text/html": [
       "<div>\n",
       "<style scoped>\n",
       "    .dataframe tbody tr th:only-of-type {\n",
       "        vertical-align: middle;\n",
       "    }\n",
       "\n",
       "    .dataframe tbody tr th {\n",
       "        vertical-align: top;\n",
       "    }\n",
       "\n",
       "    .dataframe thead th {\n",
       "        text-align: right;\n",
       "    }\n",
       "</style>\n",
       "<table border=\"1\" class=\"dataframe\">\n",
       "  <thead>\n",
       "    <tr style=\"text-align: right;\">\n",
       "      <th></th>\n",
       "      <th>Company</th>\n",
       "      <th>Area of Focus</th>\n",
       "    </tr>\n",
       "  </thead>\n",
       "  <tbody>\n",
       "    <tr>\n",
       "      <th>0</th>\n",
       "      <td>Roche</td>\n",
       "      <td>Oncology</td>\n",
       "    </tr>\n",
       "    <tr>\n",
       "      <th>1</th>\n",
       "      <td>Novartis</td>\n",
       "      <td>Cardiovascular/Immunology</td>\n",
       "    </tr>\n",
       "    <tr>\n",
       "      <th>2</th>\n",
       "      <td>Merck</td>\n",
       "      <td>Immunology/Oncology</td>\n",
       "    </tr>\n",
       "    <tr>\n",
       "      <th>3</th>\n",
       "      <td>AbbVie</td>\n",
       "      <td>Oncology/Neuroscience</td>\n",
       "    </tr>\n",
       "    <tr>\n",
       "      <th>4</th>\n",
       "      <td>Janssen (J&amp;J)</td>\n",
       "      <td>Oncology</td>\n",
       "    </tr>\n",
       "    <tr>\n",
       "      <th>5</th>\n",
       "      <td>GSK</td>\n",
       "      <td>Vaccines/HIV</td>\n",
       "    </tr>\n",
       "    <tr>\n",
       "      <th>6</th>\n",
       "      <td>BMS</td>\n",
       "      <td>Oncology</td>\n",
       "    </tr>\n",
       "    <tr>\n",
       "      <th>7</th>\n",
       "      <td>Pfizer</td>\n",
       "      <td>Oncology</td>\n",
       "    </tr>\n",
       "    <tr>\n",
       "      <th>8</th>\n",
       "      <td>Sanofi</td>\n",
       "      <td>Immunlogy</td>\n",
       "    </tr>\n",
       "    <tr>\n",
       "      <th>9</th>\n",
       "      <td>Takeda</td>\n",
       "      <td>Oncology/Rare Disease</td>\n",
       "    </tr>\n",
       "  </tbody>\n",
       "</table>\n",
       "</div>"
      ],
      "text/plain": [
       "         Company              Area of Focus\n",
       "0          Roche                   Oncology\n",
       "1       Novartis  Cardiovascular/Immunology\n",
       "2          Merck        Immunology/Oncology\n",
       "3         AbbVie      Oncology/Neuroscience\n",
       "4  Janssen (J&J)                   Oncology\n",
       "5            GSK               Vaccines/HIV\n",
       "6            BMS                   Oncology\n",
       "7         Pfizer                   Oncology\n",
       "8         Sanofi                  Immunlogy\n",
       "9         Takeda      Oncology/Rare Disease"
      ]
     },
     "execution_count": 4,
     "metadata": {},
     "output_type": "execute_result"
    }
   ],
   "source": [
    "# Lets construct a dataframe outlining if a company produces Oncology treatments \n",
    "# or as a main area of focus.\n",
    "# Information adapted from reference 31\n",
    "\n",
    "# Let's create our Pandas dataframe first\n",
    "AreaofInterest = [['Roche', 'Oncology'], ['Novartis','Cardiovascular/Immunology'], ['Merck', 'Immunology/Oncology'], \n",
    "           ['AbbVie','Oncology/Neuroscience'], ['Janssen (J&J)', 'Oncology'], ['GSK', 'Vaccines/HIV'], ['BMS', 'Oncology'], \n",
    "           ['Pfizer', 'Oncology'], ['Sanofi','Immunlogy'],['Takeda', 'Oncology/Rare Disease']]\n",
    "\n",
    "df_AOI =pd.DataFrame(AreaofInterest, columns = ['Company', 'Area of Focus']) \n",
    "df_AOI"
   ]
  },
  {
   "cell_type": "markdown",
   "id": "0f88c1d8",
   "metadata": {},
   "source": [
    "We can see that 7 out of the top 10 Pharmaceutical Companies (based on Revenue) focus primarily on Oncological treatments. Some companies, such as GSK, have dedicated facilities towards Oncology but I have not listed it as a 'main-focus' because several other sectors are mentioned ahead of it on their information pages. Companies of this size are involved in every field of research, but some fields so more than others. "
   ]
  },
  {
   "cell_type": "markdown",
   "id": "49ff90b1",
   "metadata": {},
   "source": [
    "### Brief Overview of the process of a Clinical Trial\n",
    "\n"
   ]
  },
  {
   "cell_type": "markdown",
   "id": "dea29f2e",
   "metadata": {},
   "source": [
    "A clinical trial is a study/trial conducted by a Pharamcutical Company (can also be carried out by healthcare institutions) to determine how a product interacts within the human body (32). These trials answer some essential questions such as (33):\n",
    "- Does the treatment work?\n",
    "- What are the side effects?\n",
    "- How safe, overall, is the treatment?\n",
    "- How cost-effective is the treatment?\n",
    "- How effective is the treatment at treating a condition?\n",
    "\n",
    "These questions are answered within Clinical Trials. A study plan, or protocol, is developed prior to commencing a Clinical Trial in where the organisers will design each aspect of the trial such as dosage requirements, amount of participants, length of the study and whether a 'control group' is necessary, among other parameters (32,33). There are 4 distinct phases within a Clinical Trial: \n",
    "1. <b>Phase I</b>: Small number of participants, drug safety is assessed here i.e how the drug reacts in the human body (33).\n",
    "2. <b>Phase II</b>: Once initial safety is confirmed, participant number increases and dosage amount may increase. Again, a big aspect here is drug safety and drug efficacy (32).\n",
    "3. <b>Phase III</b>: Large patient groups. Here, the main question is how effective a treatment is (after it has been confirmed to be safe and some effect has been noted in previous Phases). Adverse reactions are closely monitored here. If the results are postiive, the study is published and approval sought from a Regulatory Agency such as the HPRA (34). \n",
    "4. <b> Phase IV</b> This phase is also known as 'Post-Marketing Surveillance Trials'. This is essentially monitoring the use of the drug and any side-effects in a huge number of patients (32). The product is also closely compared to other similar products. The idea here is to monitor the long-term effectiveness of a drug. \n",
    "\n",
    "\n",
    "![Clinical Trials](Images/Clinical-Trials-Diagrampng.png)\n",
    "<br>\n",
    " <i>Figure adapted from Reference 35</i>"
   ]
  },
  {
   "cell_type": "markdown",
   "id": "9cc0c607",
   "metadata": {},
   "source": [
    "In extreme cases, a Regulatory Agency may put a 'hold' on a certain drug product during a Clinical Trial (32). This is not common, and not a good sign. Various reasons may exist for halting a study, but usually it is to do with either patient safety (in relation to the drug causing extreme adverse reactions) or the trial setup being misleading/vague (32). Within the past few days (as of Dec 14), the U.S ood and Drug Administration (FDA) have put a hold on Merck's HIV treatment 'islatravir' due to a drop in T-cell count in patients. 'T-cells' help the body fight infection. "
   ]
  },
  {
   "cell_type": "markdown",
   "id": "166b10a3",
   "metadata": {},
   "source": [
    "### Parameters for our Synthetic Dataset"
   ]
  },
  {
   "cell_type": "markdown",
   "id": "ca2e1ede",
   "metadata": {},
   "source": [
    "#### Factors to consider for generating our Dataset\n",
    "I want to generate our dataset on the following variables:\n",
    "\n",
    "- <u>Age of participants</u> in a Clinical Trial\n",
    "\n",
    "\n",
    "- <u>Race/ethnicity of participants</u> in a Clinical Trial\n",
    "\n",
    "\n",
    "- <u>Gender of participants</u> in a Clinical Trial\n",
    "\n",
    "\n",
    "- <u>Occurence of Adverse effects</u> in a Clinical Trial\n",
    "\n",
    "\n",
    "- <u>Socio/Economic Status</u> of participants in a Clinical Trial\n",
    "<br>\n"
   ]
  },
  {
   "cell_type": "markdown",
   "id": "f97361b6",
   "metadata": {},
   "source": [
    "Let's look in detail at each of the variables. In 2020, over 4 million people died of lung cancer and breast cancer worldwide (37). I believe this highlights the importance of generating datasets relaitng to cancer research."
   ]
  },
  {
   "cell_type": "markdown",
   "id": "656b2bd5",
   "metadata": {},
   "source": [
    "##### Age of Paticipants in a Cancer Clinical Trial"
   ]
  },
  {
   "cell_type": "markdown",
   "id": "05b1311d",
   "metadata": {},
   "source": [
    "Age is an extremely important factor in clinical trial representation. While some trials are focussed on a subset of individuals above a certain age (38), the majority of clinical trials focus on individuals between 18-75 years of age (39). In the case of our dataset, this variable will be a numerical variable and a positive integer. The minimum value shall be zero (despite the fact the majority of participants are 18 or older) and there shall be no upper limit as I have seen a publication that references the participation of a 97-year old (41)!  Our first task here is to identify the distribution of ages of participants in cancer trials, and then for us to replicate this result using `numpy.random`."
   ]
  },
  {
   "cell_type": "markdown",
   "id": "78a138de",
   "metadata": {},
   "source": [
    "The below graph indicates age distributions of participants in cancer clinical trials. We can see for lung cancer that the vast majority of participants are in the 18-64 age bracket, confirming our upper limit decision for age (40). This fact is repeated to breast cancer clinical trials and for colorectal clinical trials to an even greater extent. \n",
    "\n",
    "<b><center>Age of Participants in Cancer clinical trials between 2008 and 2013</center></b>\n",
    "\n",
    "![Participants](Images/part.png)\n",
    "<br>\n",
    "<i>Figure adapted from reference 40</i>\n",
    "\n",
    "However, we are looking for data that is a little more specific than this. A recent review of cancer trials has shed some light on this topic. According to <i>Meyer et al. (2021)</i>, the mean age of cancer clinical trial respondents was 54 in 2017 and 53 in 2009 (41). This tells us that the mean age has not varied much recently. This ties in with some other publications we have found. Prior research, conducted by <i>Murthy et al. (2004)</i> found that 68% of trial participants fell within the 30-64 age bracket, while 24% of participants fell within the 65-74 age bracket in a study of 75,215 participants (42). The same result was evident in a recent summary carried out by <i>Saphner et al. (2021)</i>, in where it was calculated that patients older than 65 were less likely than patients younger than 65 to engage in clinical trials ( 38.3% vs. 61.7%, p < 0.001) (43).\n",
    "\n",
    "\n",
    "\n"
   ]
  },
  {
   "cell_type": "markdown",
   "id": "b1d78f12",
   "metadata": {},
   "source": [
    "Let's try and replicate these findings using `numpy.random`. Based on what we have seen thus far, let's go with a triangular distribution peaking around 54. I initally assumed normal distribution would be the way to go here, however I was getting results below 0 on occasions and over 100 which made me wonder how best to display age data. After extensive research, I came across 'triangular' distribution which lets you set ranges and a peak (44). My decision was based on the discussion held in [Stack Exchange](https://stats.stackexchange.com/questions/129417/if-my-histogram-shows-a-bell-shaped-curve-can-i-say-my-data-is-normally-distrib), in where age distribution is discussed (45)."
   ]
  },
  {
   "cell_type": "code",
   "execution_count": 5,
   "id": "42c61ec2",
   "metadata": {},
   "outputs": [
    {
     "name": "stdout",
     "output_type": "stream",
     "text": [
      "[33.7 39.7 64.5 57.8 44.  40.6 54.1 30.7 57.6 76.3 35.2 77.2 57.3 22.3\n",
      " 46.7 70.9 58.9 40.2 60.8 33.2 20.6 28.5 41.1 47.8 36.5 65.7 31.2 25.7\n",
      " 21.8 54.1 68.4 54.3 75.2 60.3 68.9 75.  51.8 75.9 49.3 36.9 47.2 57.2\n",
      " 40.5 72.4 35.8 41.  35.9 41.9  5.9 55.5 37.5 18.9 55.  29.8 38.9 46.6\n",
      " 27.6 33.1 48.3 48.4 35.7 38.5 37.3 36.1 48.7 32.6 49.4 35.1 67.3 30.1\n",
      " 69.  30.  61.7 54.7 32.4 62.3 35.3 21.1 55.  51.3 55.8 29.7 35.2 58.2\n",
      " 20.5 70.  46.  55.  39.4 30.1  7.8 32.5 69.6 80.7 46.7 43.3 37.1 79.6\n",
      " 17.6 44.9 29.2 34.7 63.5 32.  52.  42.6 49.9 40.7 37.5 37.5 21.1 48.7\n",
      " 70.7 77.  12.4 73.8 24.9 61.6 71.8 29.1 40.5 43.2 41.4 50.3  7.5 45.7\n",
      " 70.2 21.3 48.8 48.6 63.6 79.3 59.4 36.9 57.5 41.5 62.7 57.8 81.5 69.3\n",
      " 15.7 38.  69.  54.2 41.3 17.2 62.4  3.7 21.9 85.4 63.2 69.5 48.4 29.2\n",
      " 51.2 45.8 28.7 29.  35.9 76.5 83.5 59.2 60.2 60.7 50.4 29.9 70.2 70.4\n",
      " 59.5 75.4 82.  49.7 62.1 55.  24.3 39.6 18.9 71.  11.2 51.3 29.9 27.3\n",
      " 29.  70.1 49.3 41.1 88.4 51.7 38.8 42.8 58.8 24.8 62.2 70.7 48.3 46.4\n",
      " 27.  45.7 62.5 45.2 55.1 15.4 33.2 32.  82.2 15.5 32.9 13.2 56.  56.7\n",
      " 41.4 14.1 46.3 29.4 45.9 42.9 33.3 67.5 58.6 48.1 44.4 23.7 54.3 49.8\n",
      " 72.6 80.  65.3 69.3 49.4 43.  48.5 51.1 65.8 27.7 54.2 72.6 33.4 37.8\n",
      " 67.5 56.6 79.5 56.1 77.3 66.4 57.7 30.9 32.7 69.1 40.7 58.3 46.3 47.5\n",
      "  8.1 66.1 39.3 40.9 19.4 55.3 63.4 50.1 48.5 63.  22.4 51.5 61.6 42.6\n",
      " 70.1 47.4 24.4 81.4 47.4 61.9 20.2 65.3 27.8 25.3 37.1 45.8 48.8 45.9\n",
      " 13.8 54.1 61.2 81.7 52.1 75.2 77.6 32.7 18.7 29.3 61.4 36.1 24.  76.5\n",
      " 58.2 78.4 40.4 31.1 26.4 76.5]\n"
     ]
    },
    {
     "data": {
      "image/png": "[encoded data removed]",
      "text/plain": [
       "<Figure size 1080x576 with 1 Axes>"
      ]
     },
     "metadata": {
      "needs_background": "light"
     },
     "output_type": "display_data"
    }
   ],
   "source": [
    "# Generate random integers in triangular distribution for 300 patients\n",
    "plt.figure(figsize=(15,8))\n",
    "age = np.random.default_rng(12345).triangular(1, 54, 90, size= 300)\n",
    "age = age.round(1) # let's round our ages to one decimal place (adapted from reference 46)\n",
    "print(age)\n",
    "\n",
    "# Now let's plot\n",
    "sns.histplot(age, bins=30,\n",
    "               color='green', kde=True)\n",
    "plt.xlabel('Age', fontweight = 'bold')\n",
    "plt.ylabel('Frequency', fontweight = 'bold')\n",
    "plt.suptitle('Age of Participants in Clinical Trial Dataset', fontsize = 20);\n"
   ]
  },
  {
   "cell_type": "markdown",
   "id": "249726ee",
   "metadata": {},
   "source": [
    "I think this plot works quite well for our trial dateset. We have a triangular distribution with a peak around 54 and our range set to 0-90 years of age. We have went with 600 patients in our trial dataset to represent what would generally be the number of participants in a Phase IV trial. It would be remiss to not highlight the fact that we also see a drop-off in participants of a higher age group due to trial requirements. The majority of clinical trials have certain criteria that participants must meet in order to be eligible to enroll (47). These reasons could include prior medication, that may potentially interact with the product being investigated or existing cardiac issues (47). So, we know that participation rates drop off as age increases, however this can also be due to the exclusion of older-age applicants. While this doesn't affect the generation of our dataset, it is important to keep in mind."
   ]
  },
  {
   "cell_type": "code",
   "execution_count": 6,
   "id": "e3d66430",
   "metadata": {},
   "outputs": [
    {
     "data": {
      "image/png": "[encoded data removed]",
      "text/plain": [
       "<Figure size 576x432 with 1 Axes>"
      ]
     },
     "metadata": {},
     "output_type": "display_data"
    }
   ],
   "source": [
    "# Let's construct a violin plot of our results\n",
    "sns.set_style('ticks') # based on offical documentation (48)\n",
    "plt.figure(figsize=(8,6))\n",
    "sns.violinplot( data=age, \n",
    "inner='points')\n",
    "plt.ylabel('Age', fontweight = 'bold')\n",
    "plt.suptitle('Age of Participants in Clinical Trial Dataset', fontsize = 20);\n"
   ]
  },
  {
   "cell_type": "markdown",
   "id": "212856de",
   "metadata": {},
   "source": [
    "We can see here that our data has generated no outliers. This is good to know going forward for our dataset."
   ]
  },
  {
   "cell_type": "markdown",
   "id": "afc89fca",
   "metadata": {},
   "source": [
    "##### Gender of Paticipants in a Cancer Clinical Trial"
   ]
  },
  {
   "cell_type": "markdown",
   "id": "c4eef44d",
   "metadata": {},
   "source": [
    "Gender breakdown for participants in clinical trials is naturally an intersting categorical variable to explore. While there may be no medical advantage to knowing a participant's gender in a trial, it is still important to record for variability. Naturally, there will be differing gender participation rates for certain cancers (prostate cancer, or a smaller male participation rate for breast cancer trials). For this synthetic dataset, we are generating a general dataset for participants in all cancer trials, i.e to allow us to make summations about trial participants demographically. "
   ]
  },
  {
   "cell_type": "markdown",
   "id": "9945fe99",
   "metadata": {},
   "source": [
    "A landmark review, carried out by <i>Dymanus et al. (2021)</i>, explored gender participation rates in great detail (49). Over 140 clinical trials and nearly 60,000 participants were assessed and their gender categorised for oncology trials between 2014-2019 (49). From this, it was determined that 60.3% of participants were male and 39.7% were female (49). This was for trials that led to final drug approval (so passing Phase III, moving on to Phase IV). Naturally, gender participation varied depending on the 'cancer-site' of the product being assessed. This same study examined any disparity between 'clinical trial gender' and 'cancer incidence gender' , essentially determining if the percentages of males/females participating in trials was similar to the percentages of males/females being diagnosed with a certain cancer in the US (49). Large disparities were found for males in urinary cancer (69.2% in clinical trials vs. 80.0% population incidnce )  and soft tissue cancer (33.2% in clinical trials vs 59.9% population incidence) (49). Disparities in female participation rates were also identifed for thyroid cancer (46.7% in clinical trials vs 74.2% population incidence ) (49). These results have been seen in similarly conducted reviews for participation rates based on gender (42). <i>Murthy et al.</i> identified disparities in gender participation rates for clinical trials for breast, colorectal, lung and prostate cancer with men more likely to participate than women (42)."
   ]
  },
  {
   "cell_type": "markdown",
   "id": "fd7c3d78",
   "metadata": {},
   "source": [
    "There are many possible reasons for this under-representation of women in clinical trials. A recent study (<i>Liu et al., 2016</i>) highlighted historical concerns over enrolling women due to 'potential reporoductive adverse effects', leading to thei exclusion from participating in early stages of research (50,51). A bizarre anomaly in female under-representation in clinical trials comes from the fact the first study of using estrogen in prevention of heard disease was conducted solely with male participants (51). "
   ]
  },
  {
   "cell_type": "markdown",
   "id": "4c365c89",
   "metadata": {},
   "source": [
    "<b>Pie charts representing gender participation in trials for various cancers</b>\n",
    "\n",
    "![Rep.png](Images/pie.png)\n",
    "\n",
    "<i>Figure adapted from reference 52</i>"
   ]
  },
  {
   "cell_type": "markdown",
   "id": "29841348",
   "metadata": {},
   "source": [
    "<b> Detailed analysis of gender enrollment levels in trials leading to drug approval between 2008-2018</b>\n",
    "\n",
    "![Pie.png](Images/pie2.png)\n",
    "\n",
    "<i>Figure adapted from reference 52,</i>"
   ]
  },
  {
   "cell_type": "markdown",
   "id": "0f8f62e5",
   "metadata": {},
   "source": [
    "We can see from the figure adapted from reference 52, in where 'A' depicts gender enrollment levels in trials leading to drug approval between 2008 - 2018, and 'B' depicts pie charts of gender enrollment levels between 2008-2018 that males participate in trials more than females (52). Let's reflect this in our dataset. Again, there would be outliers for certain types of cancers (i.e breast cancer, prostate cancer) but this is a general cancer dataset for overall participation levels of differing demographics. Gender will be a categorical variable ('male' or 'female')."
   ]
  },
  {
   "cell_type": "code",
   "execution_count": 7,
   "id": "0fed116d",
   "metadata": {},
   "outputs": [
    {
     "name": "stdout",
     "output_type": "stream",
     "text": [
      "Male: 195\n",
      "Female: 105\n"
     ]
    }
   ],
   "source": [
    "# Classify gender participation for clinical trials\n",
    "gender = ['Male', 'Female']\n",
    "rng = np.random.default_rng()\n",
    "\n",
    "# let's define our patient size as 300 again, as above\n",
    "\n",
    "n = 300\n",
    "\n",
    "# From our research, we can safely assume 65% of participants are male and\n",
    "# 35% of participants are female. Let's try repicate this\n",
    "# Following code adapted from offical documentation (53)\n",
    "gender = rng.choice(gender, 300, p=[0.65,0.35], replace=True)  \n",
    "\n",
    "# Following code adapted from reference 54\n",
    "print('Male:' , np.count_nonzero(gender == 'Male'))\n",
    "print('Female:', np.count_nonzero(gender == 'Female'))\n"
   ]
  },
  {
   "cell_type": "code",
   "execution_count": 8,
   "id": "cfc61153",
   "metadata": {},
   "outputs": [
    {
     "name": "stdout",
     "output_type": "stream",
     "text": [
      "['Female' 'Female' 'Male' 'Female' 'Male' 'Male' 'Male' 'Male' 'Male'\n",
      " 'Male' 'Male' 'Male' 'Male' 'Female' 'Male' 'Male' 'Male' 'Female' 'Male'\n",
      " 'Male' 'Female' 'Male' 'Male' 'Male' 'Male' 'Male' 'Female' 'Male' 'Male'\n",
      " 'Male' 'Male' 'Male' 'Male' 'Male' 'Male' 'Male' 'Male' 'Female' 'Male'\n",
      " 'Male' 'Male' 'Male' 'Male' 'Female' 'Male' 'Male' 'Female' 'Male'\n",
      " 'Female' 'Male' 'Male' 'Female' 'Male' 'Male' 'Male' 'Male' 'Female'\n",
      " 'Male' 'Female' 'Male' 'Male' 'Male' 'Male' 'Female' 'Male' 'Female'\n",
      " 'Male' 'Female' 'Male' 'Male' 'Female' 'Male' 'Female' 'Male' 'Male'\n",
      " 'Female' 'Male' 'Male' 'Male' 'Male' 'Male' 'Male' 'Male' 'Female' 'Male'\n",
      " 'Male' 'Female' 'Female' 'Female' 'Male' 'Female' 'Male' 'Female' 'Male'\n",
      " 'Male' 'Male' 'Male' 'Male' 'Male' 'Male' 'Female' 'Female' 'Female'\n",
      " 'Male' 'Female' 'Female' 'Female' 'Male' 'Male' 'Male' 'Male' 'Female'\n",
      " 'Female' 'Female' 'Female' 'Male' 'Male' 'Female' 'Male' 'Female' 'Male'\n",
      " 'Female' 'Male' 'Female' 'Male' 'Male' 'Male' 'Female' 'Male' 'Male'\n",
      " 'Female' 'Female' 'Male' 'Female' 'Male' 'Male' 'Male' 'Male' 'Male'\n",
      " 'Female' 'Male' 'Female' 'Male' 'Female' 'Female' 'Male' 'Male' 'Male'\n",
      " 'Female' 'Male' 'Male' 'Female' 'Male' 'Female' 'Male' 'Female' 'Male'\n",
      " 'Male' 'Male' 'Male' 'Male' 'Male' 'Male' 'Female' 'Male' 'Male' 'Male'\n",
      " 'Male' 'Male' 'Female' 'Male' 'Female' 'Female' 'Female' 'Male' 'Male'\n",
      " 'Female' 'Male' 'Male' 'Female' 'Male' 'Male' 'Female' 'Female' 'Male'\n",
      " 'Male' 'Male' 'Male' 'Male' 'Female' 'Male' 'Male' 'Male' 'Female' 'Male'\n",
      " 'Female' 'Male' 'Female' 'Male' 'Male' 'Male' 'Male' 'Male' 'Male'\n",
      " 'Female' 'Male' 'Female' 'Male' 'Female' 'Female' 'Male' 'Male' 'Male'\n",
      " 'Female' 'Female' 'Female' 'Female' 'Male' 'Female' 'Male' 'Male'\n",
      " 'Female' 'Female' 'Male' 'Female' 'Male' 'Female' 'Female' 'Female'\n",
      " 'Male' 'Female' 'Female' 'Male' 'Male' 'Male' 'Male' 'Male' 'Female'\n",
      " 'Male' 'Female' 'Male' 'Female' 'Male' 'Male' 'Male' 'Male' 'Male' 'Male'\n",
      " 'Male' 'Male' 'Female' 'Female' 'Male' 'Male' 'Male' 'Female' 'Female'\n",
      " 'Male' 'Male' 'Male' 'Male' 'Female' 'Male' 'Male' 'Male' 'Male' 'Male'\n",
      " 'Male' 'Male' 'Female' 'Male' 'Male' 'Male' 'Male' 'Female' 'Male' 'Male'\n",
      " 'Female' 'Female' 'Male' 'Female' 'Male' 'Female' 'Female' 'Female'\n",
      " 'Female' 'Male' 'Female' 'Male' 'Female' 'Male' 'Male' 'Female' 'Male'\n",
      " 'Male' 'Female' 'Male' 'Male' 'Female' 'Female']\n",
      "The type of the data is: <class 'numpy.ndarray'>\n"
     ]
    }
   ],
   "source": [
    "# Let's look at the data\n",
    "print(gender)\n",
    "print('The type of the data is:',type(gender))"
   ]
  },
  {
   "cell_type": "code",
   "execution_count": 9,
   "id": "97030be3",
   "metadata": {},
   "outputs": [
    {
     "data": {
      "image/png": "[encoded data removed]",
      "text/plain": [
       "<Figure size 1080x576 with 1 Axes>"
      ]
     },
     "metadata": {},
     "output_type": "display_data"
    }
   ],
   "source": [
    "# Let's visualise our results\n",
    "plt.figure(figsize=(15,8))\n",
    "\n",
    "# Create the pandas DataFrame\n",
    "df_gender = pd.DataFrame(gender, columns = ['Gender'])\n",
    "df_gender\n",
    "\n",
    "# autopct='%.1f%%' lets us display percentages\n",
    "# .size() lets us get numerical values for strings\n",
    "\n",
    "df_gender.groupby('Gender').size().plot(kind = 'pie', x=df_gender, autopct='%.1f%%', \n",
    "                                        fontsize= 20,colors=('red', 'skyblue'))\n",
    "plt.title('Gender Participation', fontweight = 'bold', fontsize = 20)\n",
    "plt.ylabel('Gender');\n"
   ]
  },
  {
   "cell_type": "code",
   "execution_count": 10,
   "id": "27f8a252",
   "metadata": {},
   "outputs": [
    {
     "data": {
      "image/png": "[encoded data removed]",
      "text/plain": [
       "<Figure size 1080x576 with 1 Axes>"
      ]
     },
     "metadata": {},
     "output_type": "display_data"
    }
   ],
   "source": [
    "# Lets create a barplot for this data\n",
    "# Adapted from reference 55\n",
    "plt.figure(figsize=(15,8))\n",
    "ax = plt.axes()\n",
    "sns.countplot(x=df_gender['Gender'],data=df_gender)\n",
    "plt.title('Gender Participation', fontweight = 'bold', fontsize = 15)\n",
    "plt.xlabel('Occurrences')\n",
    "plt.ylabel('Frequency')\n",
    "ax.set_facecolor('white')"
   ]
  },
  {
   "cell_type": "markdown",
   "id": "f4685858",
   "metadata": {},
   "source": [
    "We can see from the resulting pie-chart and barplot that our results are quite similar to what we have discovered during research. This will serve us well as we continue to build towards constructing the tools necessary to synthesise our dataset."
   ]
  },
  {
   "cell_type": "markdown",
   "id": "a6d476e1",
   "metadata": {},
   "source": [
    "##### Race/Ethnicity in a Cancer Clinical Trial"
   ]
  },
  {
   "cell_type": "markdown",
   "id": "8fad6ec2",
   "metadata": {},
   "source": [
    "The race/ethnicity of participants in a clincal trial is of utmost importance, yet often goes overlooked/unreported. According to a recent review conducted by <i>Habr et al. (2021)</i>, White individuals were found to be over-represented (participating in clinical trials to a greater extent than disease incidence in the race category) when compared to minority groups in trials for the main cancer types, including breast, lung and prostate cancer types (56). In a study conducted examining participation demographics in trials for drugs leading to eventual FDA approval between 2008-2018 (49), it was determined that 76.3% of participants were White, 18.3% were Asian, 3.1% were Black and 6.1% were Hispanic in the US. This is of particular concern as we know that certain cancer types have a higher incidence in certain ethnic groups compared to others. Blacks and Hispanics were significantly under-reported in trials (22% and 44% when compared to disease incidence, respectively) compared to Whites and Asians (98% and 438%, respectively) (57). In an assessment of trials involving immune checkpoint inhibitors (an approach in cancer therapy that involves employing the body's own cancer-killing cells through blocking the action of checkpoint proteins in the immune system), it was discovered that less than 4% of participants were Black (57,59). In a review of 220 Phase I clinical trials conducted in the US in 2019, the following participation rates were determined for ethnic groups (60):\n",
    "\n",
    "- 84.2% White\n",
    "- 7.3 % Black/African-American\n",
    "- 3.4% Asian\n",
    "- 2.8% Hispanic/Latino\n",
    "\n",
    "Another study, using data compiled by the US Drug Trial Snapshot (DTS) (65) , identifed the following participation rates in Oncological trials from a subset of almost 10,000 participants:\n",
    "\n",
    "\n",
    "- 79.2% White\n",
    "- 10.87% Black/African-American\n",
    "- 3.48% Asian\n",
    "- 6.07% Other (Hispanic/Latino)\n",
    "\n",
    "\n",
    "In a similar study conducted for approved treatments for breast cancer in the US in 2020, the following participation levels were determined (62):\n",
    "\n",
    "- White participants were over-represented by 32%\n",
    "- Asian participants were over-represented by 95%\n",
    "- Black participants were under-represented by 38%\n",
    "- Hispanic participants were over-represented by 36%\n",
    "\n",
    "\n",
    "\n",
    "<br>\n",
    "A similar theme exists for ethnic minority population participation in clinical trials worldwide (57). There are several possible reasons for this general under-representation. There is an obvious financial-cost to participating in clinical trials. Another reason may be due to patient mistrust (60), health insurance restrictions (60), lack of available information on institutions conducting trials and even physicians not informing ethnic minorities of existing trials (61). There are naturally concerns over data privacy also. \n"
   ]
  },
  {
   "cell_type": "markdown",
   "id": "08f389ff",
   "metadata": {},
   "source": [
    "<b>Cancer Death Rates in US population 2011-2015 by ethnic group</b>\n",
    "\n",
    "![Cancerdeaths.png](Images/Cancer_deaths.png)\n",
    "<br>\n",
    "<i>Figure adapted from reference 63</i>\n",
    "\n",
    "<b>Participation Rates by ethnic group in clinical trials</b>\n",
    "\n",
    "![ethnic.png](Images/ethnic.png)\n",
    "<br>\n",
    "<i>Figure adapted from reference 65</i>"
   ]
  },
  {
   "cell_type": "markdown",
   "id": "820422f5",
   "metadata": {},
   "source": [
    "We can see from the above graph how in most cases, Whites are similarly/less-affected than other groups from some disease types. This shows how important is is to increase the participation levels of minroty ethnic group.\n",
    "There is significant concern in medical circles about this phenomenon. Under-representation of certain ethnic groups opens up the possiblilty of gaps in understanding of how certain diseases affects different ethnic groups. Several projects have commenced in order to attempt to correct this participation imbalance. Recent FDA guidance has re-emphasised the importance of [ethnic divertsity in clinical trials](https://www.fda.gov/consumers/consumer-updates/fda-encourages-more-participation-diversity-clinical-trials). Studies have concluded that the most effective ways to combat this imbalance are to (63,64):\n",
    "- Enhance patient trust in medical practitioners \n",
    "- Provide information in languages other than English in predominantly English-speaking countries \n",
    "- Increased use of patient navigators (trained staff who can provide accurate information and tool necessary to enroll in a clinical trial)\n",
    "- Increased renumeration for participation\n",
    "- Increased education about the advantages of clinical trials\n",
    "\n",
    "\n"
   ]
  },
  {
   "cell_type": "markdown",
   "id": "59e3ea29",
   "metadata": {},
   "source": [
    "Now let's try to re-create our general findings for our dataset. "
   ]
  },
  {
   "cell_type": "code",
   "execution_count": 11,
   "id": "d7ba2e4f",
   "metadata": {},
   "outputs": [
    {
     "name": "stdout",
     "output_type": "stream",
     "text": [
      "White: 240\n",
      "Black: 28\n",
      "Hispanic: 18\n",
      "Asian: 8\n",
      "Other: 6\n"
     ]
    }
   ],
   "source": [
    "# Classify ethnic/race group participation for clinical trials\n",
    "ethnicity = ['White', 'Black', 'Asian', 'Hispanic', 'Other']\n",
    "rng = np.random.default_rng()\n",
    "\n",
    "# let's define our patient size as 300 again\n",
    "n = 300\n",
    "\n",
    "# From our research, we can safely assume\n",
    "# 80% of participants are White\n",
    "# 10% of participants are Black\n",
    "# 3% of participants are Hispanic\n",
    "# 4% of participants are Asian\n",
    "# 3% of participants are 'Other'\n",
    "\n",
    "\n",
    "ethnicity = rng.choice(ethnicity, 300, p=[0.8,0.1,0.03,0.04,0.03], replace=True)  \n",
    "\n",
    "print('White:' , np.count_nonzero(ethnicity == 'White'))\n",
    "print('Black:', np.count_nonzero(ethnicity == 'Black'))\n",
    "print('Hispanic:' , np.count_nonzero(ethnicity == 'Hispanic'))\n",
    "print('Asian:' , np.count_nonzero(ethnicity == 'Asian'))\n",
    "print('Other:' , np.count_nonzero(ethnicity == 'Other'))\n",
    "\n"
   ]
  },
  {
   "cell_type": "code",
   "execution_count": 12,
   "id": "c4fda25d",
   "metadata": {},
   "outputs": [
    {
     "name": "stdout",
     "output_type": "stream",
     "text": [
      "['White' 'White' 'White' 'White' 'White' 'Other' 'White' 'White' 'Asian'\n",
      " 'White' 'White' 'White' 'White' 'White' 'White' 'White' 'White'\n",
      " 'Hispanic' 'White' 'Black' 'White' 'White' 'White' 'White' 'White'\n",
      " 'White' 'Hispanic' 'White' 'White' 'White' 'White' 'White' 'White'\n",
      " 'White' 'White' 'White' 'White' 'White' 'White' 'White' 'White' 'White'\n",
      " 'Black' 'White' 'White' 'White' 'Asian' 'White' 'White' 'White' 'White'\n",
      " 'Hispanic' 'White' 'White' 'Black' 'White' 'White' 'Other' 'White'\n",
      " 'White' 'Hispanic' 'White' 'White' 'White' 'Hispanic' 'White' 'White'\n",
      " 'White' 'Black' 'White' 'White' 'White' 'Black' 'White' 'White' 'Black'\n",
      " 'White' 'White' 'White' 'Black' 'White' 'White' 'White' 'White' 'White'\n",
      " 'White' 'Black' 'White' 'Other' 'White' 'White' 'White' 'White' 'White'\n",
      " 'White' 'White' 'White' 'White' 'White' 'White' 'White' 'Hispanic'\n",
      " 'White' 'White' 'White' 'White' 'White' 'White' 'White' 'White' 'Asian'\n",
      " 'White' 'White' 'White' 'White' 'White' 'White' 'White' 'White' 'White'\n",
      " 'White' 'White' 'White' 'White' 'White' 'Hispanic' 'Asian' 'White'\n",
      " 'White' 'Other' 'White' 'Hispanic' 'Black' 'White' 'Black' 'White'\n",
      " 'Hispanic' 'Hispanic' 'White' 'White' 'White' 'White' 'White' 'White'\n",
      " 'Asian' 'Black' 'Black' 'White' 'White' 'White' 'White' 'White' 'White'\n",
      " 'White' 'White' 'White' 'White' 'White' 'White' 'White' 'White' 'White'\n",
      " 'Hispanic' 'Black' 'White' 'White' 'White' 'White' 'White' 'Hispanic'\n",
      " 'White' 'White' 'White' 'White' 'White' 'White' 'White' 'White' 'White'\n",
      " 'White' 'Black' 'White' 'White' 'White' 'White' 'White' 'White' 'White'\n",
      " 'White' 'Hispanic' 'White' 'White' 'White' 'White' 'White' 'Black'\n",
      " 'White' 'Black' 'Black' 'White' 'White' 'White' 'White' 'Black'\n",
      " 'Hispanic' 'White' 'White' 'White' 'White' 'White' 'Black' 'White'\n",
      " 'Other' 'White' 'White' 'White' 'White' 'White' 'White' 'White' 'White'\n",
      " 'White' 'White' 'White' 'White' 'Black' 'Black' 'White' 'Other' 'White'\n",
      " 'White' 'Hispanic' 'White' 'White' 'White' 'White' 'White' 'White'\n",
      " 'White' 'White' 'White' 'White' 'White' 'White' 'Asian' 'White' 'White'\n",
      " 'Black' 'White' 'White' 'Hispanic' 'White' 'Black' 'Black' 'White'\n",
      " 'White' 'Black' 'White' 'White' 'White' 'White' 'White' 'White' 'Asian'\n",
      " 'Asian' 'White' 'White' 'Black' 'White' 'White' 'White' 'White'\n",
      " 'Hispanic' 'White' 'White' 'White' 'White' 'White' 'White' 'White'\n",
      " 'White' 'White' 'White' 'White' 'White' 'White' 'White' 'White'\n",
      " 'Hispanic' 'White' 'White' 'Black' 'White' 'White' 'White' 'White'\n",
      " 'Black' 'White' 'White' 'White']\n",
      "The type of the data is: <class 'numpy.ndarray'>\n"
     ]
    }
   ],
   "source": [
    "# Let's look at the data\n",
    "print(ethnicity)\n",
    "print('The type of the data is:',type(ethnicity))"
   ]
  },
  {
   "cell_type": "code",
   "execution_count": 13,
   "id": "90ba4ffb",
   "metadata": {},
   "outputs": [
    {
     "data": {
      "image/png": "[encoded data removed]",
      "text/plain": [
       "<Figure size 1080x576 with 1 Axes>"
      ]
     },
     "metadata": {},
     "output_type": "display_data"
    }
   ],
   "source": [
    "# Let's visualise our results\n",
    "plt.figure(figsize=(15,8))\n",
    "\n",
    "# Create the pandas DataFrame\n",
    "df_ethnicity = pd.DataFrame(ethnicity, columns = ['Race/Ethnicity'])\n",
    "df_ethnicity\n",
    "\n",
    "df_ethnicity.groupby('Race/Ethnicity').size().plot(kind = 'pie', x=df_ethnicity, autopct='%.1f%%', \n",
    "                                        fontsize= 10,colors=('red', 'skyblue','pink','grey', 'green'))\n",
    "plt.title('Race/Ethnicity Participation', fontweight = 'bold', fontsize = 20)\n",
    "plt.ylabel('Race/Ethnicity');"
   ]
  },
  {
   "cell_type": "code",
   "execution_count": 14,
   "id": "4ed4bf24",
   "metadata": {
    "scrolled": true
   },
   "outputs": [
    {
     "data": {
      "image/png": "[encoded data removed]",
      "text/plain": [
       "<Figure size 1080x576 with 1 Axes>"
      ]
     },
     "metadata": {},
     "output_type": "display_data"
    }
   ],
   "source": [
    "# Lets create a barplot for this data\n",
    "# Adapted from reference 55\n",
    "plt.figure(figsize=(15,8))\n",
    "with sns.axes_style(\"ticks\"):\n",
    "    sns.countplot(x=df_ethnicity['Race/Ethnicity'],data=df_ethnicity)\n",
    "    plt.title('Race/Ethnicity Participation', fontweight = 'bold', fontsize = 20)\n",
    "    plt.xlabel('Ethnicity/Race', fontsize = 15)\n",
    "    plt.ylabel('Frequency', fontsize = 15)"
   ]
  },
  {
   "cell_type": "markdown",
   "id": "50f15e8d",
   "metadata": {},
   "source": [
    "We can see from the resulting pie-chart and barplot that our results are quite similar to what we have discovered during research. This will serve us well as we continue to build towards constructing the tools necessary to synthesise our dataset."
   ]
  },
  {
   "cell_type": "markdown",
   "id": "f6725051",
   "metadata": {},
   "source": [
    "##### Occurrence of Adverse Events in a Cancer Clinical Trial"
   ]
  },
  {
   "cell_type": "markdown",
   "id": "82e64ea7",
   "metadata": {},
   "source": [
    "An interesting aspect to monitor is the occurrence of adverse events (AEs) in early-stage clinical trials. We have already discussed the different stages of a clinical trial, ranging from Phase I up to Phase IV. The main goal in Phase I is to determine safe levels at which to administer the new therapeutic which will then be implemented in later stages (66). Common reasons for a participant to leave a trial might be that their disease has progressed, stress due to being involved, financial burden associated with being participating, or a participant has had an adverse reaction to a drug (66). The reporting of adverse events is essential in determining the toxicity levels of a drug (67). AE's can lead to severe delays in the progression of a therapeutic through the clinical stages and may even result in the termination of a clinical trial. "
   ]
  },
  {
   "cell_type": "markdown",
   "id": "98e97d54",
   "metadata": {},
   "source": [
    "The reporting and collection of data regarding adverse events leaves a lot to be desired. In Phase I, terms such as 'maximum-tolerated dose' and 'dose-limiting toxicity' are applied but can differ in meaning among trials (67). In Phase II and Phase III, certain adverse events may be under-reported due to mildness of symptoms while some adverse events may be 'over-reported' due to enhanced focus as they are of special interest (67). The overall issues regarding the process of reporting adverse events can be summarised as such (68):\n",
    "\n",
    "- Patient experiencing the symptom. This has obvious pitfalls in where the patient doesnt report any symptoms or they feel it is unrelated to the therapy. Mild or expected symptoms may go unreported.\n",
    "\n",
    "- Physician records the adverse event. Here, the physician may feel the symptom is not related to the therapy and not disclose the issue. The physician may also make an incorrect assessment of the symptom or not provide enough detail when describing th eevent, making it impossible to categorise.\n",
    "\n",
    "- Difficulty in ascribing an adverse event. A patient's own peronsal characteristics may hinder the ability of a physician of ascribing an adverse event. The broadening of criteria for participation in clinical trials may result in some patients having 'pre-conditions' that then may result in inaccurate reporting of adverse events.\n",
    "\n",
    "\n",
    "<b>Adverse Event Reporting</b>\n",
    "![symp.png](Images/symp.png)\n",
    "<br>\n",
    "<i>Figure adapted from reference 68</i>"
   ]
  },
  {
   "cell_type": "markdown",
   "id": "b646471c",
   "metadata": {},
   "source": [
    "This lack of structure in reporting and detailing adverse events led to the organsing of a 'consensus-building workshop' in 2017 between regulatory agencies worldwide and the US National Cancer Institute (NCI) (67). It was agreed to try incorporate a more standardised approach to recording adverse events. Recommendations included the following (67):\n",
    "\n",
    "- Improving the 'time-to-reporting' of adverse events. This is self-explanatory. This is reducing the time it takes to report an event.\n",
    "\n",
    "- Use standardised terminology in reporting of data for adverse events. This would prevent the mis-classification of adverse events and facilitate the collation of data on all events. This would also aid in the publishing of information regarding trials. \n",
    "\n",
    "- Improve education on the adverse event process. This could come in the form of courses or seminars. \n"
   ]
  },
  {
   "cell_type": "markdown",
   "id": "eb6fbc81",
   "metadata": {},
   "source": [
    "Almost all participants in clinical trials experience adverse events. In a landmark paper reviewing the occurrences of adverse events during Phase I of Oncology clinical trials between 2003-2013 in the USA (66), it was determined that patients experience on average 25.1 adverse events over an average of 70-day period. This was determined from a set of 250 enrolled patients (66). The most common adverse events were pain, constitutional symptoms (weight loss, fatigue, fever) and gastrointestinal symptoms (66). It is to be expected that Phase I trials would have a high adverse event rate.\n",
    "\n",
    "\n",
    "<b>Common adverse events</b>\n",
    "![tab.png](Images/tab.png)\n",
    "<br>\n",
    "<i>Figure adapted from reference 66</i>"
   ]
  },
  {
   "cell_type": "markdown",
   "id": "f22bc806",
   "metadata": {},
   "source": [
    "We are interested in adverse event rates in the general population in clinical trials. A very interesting review carried out by <i>Luo et al. (2016)</i> broke down the incidence of adverse events based on age (69). In this review, a participants' ages were broken down into 10-year brackets. It was calculated that over 20% of participants in the 20-29 age group experienced adverse events and almost 30% of participants in the 70-100 age group experienced adverse events (69). On average 26.2% of respondants experienced an adverse event over the duration of the clinical trial (69).\n",
    "\n",
    "<b>Occurrences of adverse events by age group</b>\n",
    "\n",
    "![inc.png](Images/inc.png)\n",
    "\n",
    "<br>\n",
    "<i>Figure adapted from reference 69</i>"
   ]
  },
  {
   "cell_type": "markdown",
   "id": "8745a935",
   "metadata": {},
   "source": [
    "Let's try reflect this in our dataset. "
   ]
  },
  {
   "cell_type": "code",
   "execution_count": 15,
   "id": "c6f38ea7",
   "metadata": {},
   "outputs": [
    {
     "data": {
      "text/html": [
       "<div>\n",
       "<style scoped>\n",
       "    .dataframe tbody tr th:only-of-type {\n",
       "        vertical-align: middle;\n",
       "    }\n",
       "\n",
       "    .dataframe tbody tr th {\n",
       "        vertical-align: top;\n",
       "    }\n",
       "\n",
       "    .dataframe thead th {\n",
       "        text-align: right;\n",
       "    }\n",
       "</style>\n",
       "<table border=\"1\" class=\"dataframe\">\n",
       "  <thead>\n",
       "    <tr style=\"text-align: right;\">\n",
       "      <th></th>\n",
       "      <th>Adverse Events</th>\n",
       "    </tr>\n",
       "  </thead>\n",
       "  <tbody>\n",
       "    <tr>\n",
       "      <th>False</th>\n",
       "      <td>236</td>\n",
       "    </tr>\n",
       "    <tr>\n",
       "      <th>True</th>\n",
       "      <td>64</td>\n",
       "    </tr>\n",
       "  </tbody>\n",
       "</table>\n",
       "</div>"
      ],
      "text/plain": [
       "       Adverse Events\n",
       "False             236\n",
       "True               64"
      ]
     },
     "execution_count": 15,
     "metadata": {},
     "output_type": "execute_result"
    }
   ],
   "source": [
    "# Create a Dataframe of our age variable\n",
    "df_age = pd.DataFrame(age, columns = ['Age'])\n",
    "df_age\n",
    "\n",
    "# Classify adverse events for clinical trials\n",
    "adverse_Event = [True, False]\n",
    "rng = np.random.default_rng()\n",
    "\n",
    "# let's define our patient size as 300 again\n",
    "n = 300\n",
    "\n",
    "# From our research, we can safely assume 26% of participants will experience\n",
    "# an adverse event over the course of the trial. Let's try repicate this\n",
    "adverse_Event = rng.choice(adverse_Event, 300, p=[0.26,0.74], replace=True)  \n",
    "adverse_Event\n",
    "\n",
    "\n",
    "# Generate a new column that displays our findings for adverse events\n",
    "df_age['Adverse Events'] = adverse_Event\n",
    "df_age\n",
    "\n",
    "# Let's confirm our code worked\n",
    "bool_Count = df_age['Adverse Events'].value_counts()\n",
    "bool_Count\n",
    "\n",
    "bool_Count = pd.DataFrame(bool_Count)\n",
    "bool_Count"
   ]
  },
  {
   "cell_type": "code",
   "execution_count": 16,
   "id": "6dd48f53",
   "metadata": {},
   "outputs": [
    {
     "data": {
      "text/plain": [
       "Text(0.5, 1.0, 'Adverse Events')"
      ]
     },
     "execution_count": 16,
     "metadata": {},
     "output_type": "execute_result"
    },
    {
     "data": {
      "image/png": "[encoded data removed]",
      "text/plain": [
       "<Figure size 432x288 with 1 Axes>"
      ]
     },
     "metadata": {},
     "output_type": "display_data"
    }
   ],
   "source": [
    "# Lets create a barplot for this data\n",
    "bool_Count.plot(kind='barh', color = 'green', ec = 'blue', )\n",
    "plt.xlabel('Occurrences', fontsize = 15)\n",
    "plt.title('Adverse Events', fontweight = 'bold', fontsize = 20)\n"
   ]
  },
  {
   "cell_type": "markdown",
   "id": "6c12ae5c",
   "metadata": {},
   "source": [
    "##### Socio-economic Status of Participants"
   ]
  },
  {
   "cell_type": "markdown",
   "id": "0c53d810",
   "metadata": {},
   "source": [
    "As discussed earlier, we went through a variet of reasons an individual may participate in a clinical trial. One of the main reasons was financial imbursement. It would be an interesting aside to exmaine whether we see any correlation between socio-economic status and participation in clinical trials. A landmark review by <i>Meyer et al. (2021)</i> of participants in clinical trials in the US for the last ten years, found that 'higher-earners' (with a median income of over €44,000) were more likely to participate in clinical trials (41). This is confirmed by another review, conducted by <i>Saphner et al. (2021)</i>, that individuals with a higher income were more likely to participate in a clinical trial (43). Another study, conducted by <i>Unger et al. (2016)</i>, found that individuals with an income of less than €44,000 were 27% less likely to participate in clinical trials (70). "
   ]
  },
  {
   "cell_type": "code",
   "execution_count": 19,
   "id": "9f07ec5e",
   "metadata": {},
   "outputs": [
    {
     "data": {
      "text/html": [
       "<div>\n",
       "<style scoped>\n",
       "    .dataframe tbody tr th:only-of-type {\n",
       "        vertical-align: middle;\n",
       "    }\n",
       "\n",
       "    .dataframe tbody tr th {\n",
       "        vertical-align: top;\n",
       "    }\n",
       "\n",
       "    .dataframe thead th {\n",
       "        text-align: right;\n",
       "    }\n",
       "</style>\n",
       "<table border=\"1\" class=\"dataframe\">\n",
       "  <thead>\n",
       "    <tr style=\"text-align: right;\">\n",
       "      <th></th>\n",
       "      <th>Income over 44K</th>\n",
       "    </tr>\n",
       "  </thead>\n",
       "  <tbody>\n",
       "    <tr>\n",
       "      <th>0</th>\n",
       "      <td>True</td>\n",
       "    </tr>\n",
       "    <tr>\n",
       "      <th>1</th>\n",
       "      <td>False</td>\n",
       "    </tr>\n",
       "    <tr>\n",
       "      <th>2</th>\n",
       "      <td>True</td>\n",
       "    </tr>\n",
       "    <tr>\n",
       "      <th>3</th>\n",
       "      <td>False</td>\n",
       "    </tr>\n",
       "    <tr>\n",
       "      <th>4</th>\n",
       "      <td>False</td>\n",
       "    </tr>\n",
       "    <tr>\n",
       "      <th>...</th>\n",
       "      <td>...</td>\n",
       "    </tr>\n",
       "    <tr>\n",
       "      <th>295</th>\n",
       "      <td>False</td>\n",
       "    </tr>\n",
       "    <tr>\n",
       "      <th>296</th>\n",
       "      <td>True</td>\n",
       "    </tr>\n",
       "    <tr>\n",
       "      <th>297</th>\n",
       "      <td>True</td>\n",
       "    </tr>\n",
       "    <tr>\n",
       "      <th>298</th>\n",
       "      <td>True</td>\n",
       "    </tr>\n",
       "    <tr>\n",
       "      <th>299</th>\n",
       "      <td>False</td>\n",
       "    </tr>\n",
       "  </tbody>\n",
       "</table>\n",
       "<p>300 rows × 1 columns</p>\n",
       "</div>"
      ],
      "text/plain": [
       "     Income over 44K\n",
       "0               True\n",
       "1              False\n",
       "2               True\n",
       "3              False\n",
       "4              False\n",
       "..               ...\n",
       "295            False\n",
       "296             True\n",
       "297             True\n",
       "298             True\n",
       "299            False\n",
       "\n",
       "[300 rows x 1 columns]"
      ]
     },
     "execution_count": 19,
     "metadata": {},
     "output_type": "execute_result"
    }
   ],
   "source": [
    "# Classify adverse events for clinical trials\n",
    "income_above_44k = [True, False]\n",
    "rng = np.random.default_rng()\n",
    "\n",
    "# let's define our patient size as 300 again\n",
    "n = 300\n",
    "\n",
    "# From our research, we can safely assume 65% of participants have a median income of over €44,000\n",
    "# Let's try repicate this\n",
    "income_above_44k = rng.choice(income_above_44k, 300, p=[0.65,0.35], replace=True)  \n",
    "\n",
    "# Create the pandas DataFrame\n",
    "df_income = pd.DataFrame(income_above_44k, columns = ['Income over 44K'])\n",
    "df_income\n",
    "\n"
   ]
  },
  {
   "cell_type": "code",
   "execution_count": 20,
   "id": "582d832e",
   "metadata": {},
   "outputs": [
    {
     "ename": "TypeError",
     "evalue": "no numeric data to plot",
     "output_type": "error",
     "traceback": [
      "\u001b[1;31m---------------------------------------------------------------------------\u001b[0m",
      "\u001b[1;31mTypeError\u001b[0m                                 Traceback (most recent call last)",
      "\u001b[1;32m<ipython-input-20-de87de02df79>\u001b[0m in \u001b[0;36m<module>\u001b[1;34m\u001b[0m\n\u001b[0;32m      1\u001b[0m \u001b[1;31m# Lets create a barplot for this data\u001b[0m\u001b[1;33m\u001b[0m\u001b[1;33m\u001b[0m\u001b[1;33m\u001b[0m\u001b[0m\n\u001b[1;32m----> 2\u001b[1;33m \u001b[0mdf_income\u001b[0m\u001b[1;33m.\u001b[0m\u001b[0mplot\u001b[0m\u001b[1;33m(\u001b[0m\u001b[0mkind\u001b[0m\u001b[1;33m=\u001b[0m\u001b[1;34m'barh'\u001b[0m\u001b[1;33m,\u001b[0m \u001b[0mcolor\u001b[0m \u001b[1;33m=\u001b[0m \u001b[1;34m'green'\u001b[0m\u001b[1;33m,\u001b[0m \u001b[0mec\u001b[0m \u001b[1;33m=\u001b[0m \u001b[1;34m'blue'\u001b[0m\u001b[1;33m,\u001b[0m \u001b[1;33m)\u001b[0m\u001b[1;33m\u001b[0m\u001b[1;33m\u001b[0m\u001b[0m\n\u001b[0m\u001b[0;32m      3\u001b[0m \u001b[0mplt\u001b[0m\u001b[1;33m.\u001b[0m\u001b[0mxlabel\u001b[0m\u001b[1;33m(\u001b[0m\u001b[1;34m'Occurrences'\u001b[0m\u001b[1;33m,\u001b[0m \u001b[0mfontsize\u001b[0m \u001b[1;33m=\u001b[0m \u001b[1;36m15\u001b[0m\u001b[1;33m)\u001b[0m\u001b[1;33m\u001b[0m\u001b[1;33m\u001b[0m\u001b[0m\n\u001b[0;32m      4\u001b[0m \u001b[0mplt\u001b[0m\u001b[1;33m.\u001b[0m\u001b[0mtitle\u001b[0m\u001b[1;33m(\u001b[0m\u001b[1;34m'Adverse Events'\u001b[0m\u001b[1;33m,\u001b[0m \u001b[0mfontweight\u001b[0m \u001b[1;33m=\u001b[0m \u001b[1;34m'bold'\u001b[0m\u001b[1;33m,\u001b[0m \u001b[0mfontsize\u001b[0m \u001b[1;33m=\u001b[0m \u001b[1;36m20\u001b[0m\u001b[1;33m)\u001b[0m\u001b[1;33m\u001b[0m\u001b[1;33m\u001b[0m\u001b[0m\n",
      "\u001b[1;32m~\\anaconda3\\lib\\site-packages\\pandas\\plotting\\_core.py\u001b[0m in \u001b[0;36m__call__\u001b[1;34m(self, *args, **kwargs)\u001b[0m\n\u001b[0;32m    953\u001b[0m                     \u001b[0mdata\u001b[0m\u001b[1;33m.\u001b[0m\u001b[0mcolumns\u001b[0m \u001b[1;33m=\u001b[0m \u001b[0mlabel_name\u001b[0m\u001b[1;33m\u001b[0m\u001b[1;33m\u001b[0m\u001b[0m\n\u001b[0;32m    954\u001b[0m \u001b[1;33m\u001b[0m\u001b[0m\n\u001b[1;32m--> 955\u001b[1;33m         \u001b[1;32mreturn\u001b[0m \u001b[0mplot_backend\u001b[0m\u001b[1;33m.\u001b[0m\u001b[0mplot\u001b[0m\u001b[1;33m(\u001b[0m\u001b[0mdata\u001b[0m\u001b[1;33m,\u001b[0m \u001b[0mkind\u001b[0m\u001b[1;33m=\u001b[0m\u001b[0mkind\u001b[0m\u001b[1;33m,\u001b[0m \u001b[1;33m**\u001b[0m\u001b[0mkwargs\u001b[0m\u001b[1;33m)\u001b[0m\u001b[1;33m\u001b[0m\u001b[1;33m\u001b[0m\u001b[0m\n\u001b[0m\u001b[0;32m    956\u001b[0m \u001b[1;33m\u001b[0m\u001b[0m\n\u001b[0;32m    957\u001b[0m     \u001b[0m__call__\u001b[0m\u001b[1;33m.\u001b[0m\u001b[0m__doc__\u001b[0m \u001b[1;33m=\u001b[0m \u001b[0m__doc__\u001b[0m\u001b[1;33m\u001b[0m\u001b[1;33m\u001b[0m\u001b[0m\n",
      "\u001b[1;32m~\\anaconda3\\lib\\site-packages\\pandas\\plotting\\_matplotlib\\__init__.py\u001b[0m in \u001b[0;36mplot\u001b[1;34m(data, kind, **kwargs)\u001b[0m\n\u001b[0;32m     59\u001b[0m             \u001b[0mkwargs\u001b[0m\u001b[1;33m[\u001b[0m\u001b[1;34m\"ax\"\u001b[0m\u001b[1;33m]\u001b[0m \u001b[1;33m=\u001b[0m \u001b[0mgetattr\u001b[0m\u001b[1;33m(\u001b[0m\u001b[0max\u001b[0m\u001b[1;33m,\u001b[0m \u001b[1;34m\"left_ax\"\u001b[0m\u001b[1;33m,\u001b[0m \u001b[0max\u001b[0m\u001b[1;33m)\u001b[0m\u001b[1;33m\u001b[0m\u001b[1;33m\u001b[0m\u001b[0m\n\u001b[0;32m     60\u001b[0m     \u001b[0mplot_obj\u001b[0m \u001b[1;33m=\u001b[0m \u001b[0mPLOT_CLASSES\u001b[0m\u001b[1;33m[\u001b[0m\u001b[0mkind\u001b[0m\u001b[1;33m]\u001b[0m\u001b[1;33m(\u001b[0m\u001b[0mdata\u001b[0m\u001b[1;33m,\u001b[0m \u001b[1;33m**\u001b[0m\u001b[0mkwargs\u001b[0m\u001b[1;33m)\u001b[0m\u001b[1;33m\u001b[0m\u001b[1;33m\u001b[0m\u001b[0m\n\u001b[1;32m---> 61\u001b[1;33m     \u001b[0mplot_obj\u001b[0m\u001b[1;33m.\u001b[0m\u001b[0mgenerate\u001b[0m\u001b[1;33m(\u001b[0m\u001b[1;33m)\u001b[0m\u001b[1;33m\u001b[0m\u001b[1;33m\u001b[0m\u001b[0m\n\u001b[0m\u001b[0;32m     62\u001b[0m     \u001b[0mplot_obj\u001b[0m\u001b[1;33m.\u001b[0m\u001b[0mdraw\u001b[0m\u001b[1;33m(\u001b[0m\u001b[1;33m)\u001b[0m\u001b[1;33m\u001b[0m\u001b[1;33m\u001b[0m\u001b[0m\n\u001b[0;32m     63\u001b[0m     \u001b[1;32mreturn\u001b[0m \u001b[0mplot_obj\u001b[0m\u001b[1;33m.\u001b[0m\u001b[0mresult\u001b[0m\u001b[1;33m\u001b[0m\u001b[1;33m\u001b[0m\u001b[0m\n",
      "\u001b[1;32m~\\anaconda3\\lib\\site-packages\\pandas\\plotting\\_matplotlib\\core.py\u001b[0m in \u001b[0;36mgenerate\u001b[1;34m(self)\u001b[0m\n\u001b[0;32m    276\u001b[0m     \u001b[1;32mdef\u001b[0m \u001b[0mgenerate\u001b[0m\u001b[1;33m(\u001b[0m\u001b[0mself\u001b[0m\u001b[1;33m)\u001b[0m\u001b[1;33m:\u001b[0m\u001b[1;33m\u001b[0m\u001b[1;33m\u001b[0m\u001b[0m\n\u001b[0;32m    277\u001b[0m         \u001b[0mself\u001b[0m\u001b[1;33m.\u001b[0m\u001b[0m_args_adjust\u001b[0m\u001b[1;33m(\u001b[0m\u001b[1;33m)\u001b[0m\u001b[1;33m\u001b[0m\u001b[1;33m\u001b[0m\u001b[0m\n\u001b[1;32m--> 278\u001b[1;33m         \u001b[0mself\u001b[0m\u001b[1;33m.\u001b[0m\u001b[0m_compute_plot_data\u001b[0m\u001b[1;33m(\u001b[0m\u001b[1;33m)\u001b[0m\u001b[1;33m\u001b[0m\u001b[1;33m\u001b[0m\u001b[0m\n\u001b[0m\u001b[0;32m    279\u001b[0m         \u001b[0mself\u001b[0m\u001b[1;33m.\u001b[0m\u001b[0m_setup_subplots\u001b[0m\u001b[1;33m(\u001b[0m\u001b[1;33m)\u001b[0m\u001b[1;33m\u001b[0m\u001b[1;33m\u001b[0m\u001b[0m\n\u001b[0;32m    280\u001b[0m         \u001b[0mself\u001b[0m\u001b[1;33m.\u001b[0m\u001b[0m_make_plot\u001b[0m\u001b[1;33m(\u001b[0m\u001b[1;33m)\u001b[0m\u001b[1;33m\u001b[0m\u001b[1;33m\u001b[0m\u001b[0m\n",
      "\u001b[1;32m~\\anaconda3\\lib\\site-packages\\pandas\\plotting\\_matplotlib\\core.py\u001b[0m in \u001b[0;36m_compute_plot_data\u001b[1;34m(self)\u001b[0m\n\u001b[0;32m    439\u001b[0m         \u001b[1;31m# no non-numeric frames or series allowed\u001b[0m\u001b[1;33m\u001b[0m\u001b[1;33m\u001b[0m\u001b[1;33m\u001b[0m\u001b[0m\n\u001b[0;32m    440\u001b[0m         \u001b[1;32mif\u001b[0m \u001b[0mis_empty\u001b[0m\u001b[1;33m:\u001b[0m\u001b[1;33m\u001b[0m\u001b[1;33m\u001b[0m\u001b[0m\n\u001b[1;32m--> 441\u001b[1;33m             \u001b[1;32mraise\u001b[0m \u001b[0mTypeError\u001b[0m\u001b[1;33m(\u001b[0m\u001b[1;34m\"no numeric data to plot\"\u001b[0m\u001b[1;33m)\u001b[0m\u001b[1;33m\u001b[0m\u001b[1;33m\u001b[0m\u001b[0m\n\u001b[0m\u001b[0;32m    442\u001b[0m \u001b[1;33m\u001b[0m\u001b[0m\n\u001b[0;32m    443\u001b[0m         \u001b[0mself\u001b[0m\u001b[1;33m.\u001b[0m\u001b[0mdata\u001b[0m \u001b[1;33m=\u001b[0m \u001b[0mnumeric_data\u001b[0m\u001b[1;33m.\u001b[0m\u001b[0mapply\u001b[0m\u001b[1;33m(\u001b[0m\u001b[0mself\u001b[0m\u001b[1;33m.\u001b[0m\u001b[0m_convert_to_ndarray\u001b[0m\u001b[1;33m)\u001b[0m\u001b[1;33m\u001b[0m\u001b[1;33m\u001b[0m\u001b[0m\n",
      "\u001b[1;31mTypeError\u001b[0m: no numeric data to plot"
     ]
    }
   ],
   "source": [
    "# Lets create a barplot for this data\n",
    "df_income.plot(kind='barh', color = 'green', ec = 'blue', )\n",
    "plt.xlabel('Occurrences', fontsize = 15)\n",
    "plt.title('Adverse Events', fontweight = 'bold', fontsize = 20)\n"
   ]
  },
  {
   "cell_type": "code",
   "execution_count": null,
   "id": "0a0c67cd",
   "metadata": {},
   "outputs": [],
   "source": []
  },
  {
   "cell_type": "code",
   "execution_count": null,
   "id": "91330d91",
   "metadata": {},
   "outputs": [],
   "source": []
  }
 ],
 "metadata": {
  "kernelspec": {
   "display_name": "Python 3",
   "language": "python",
   "name": "python3"
  },
  "language_info": {
   "codemirror_mode": {
    "name": "ipython",
    "version": 3
   },
   "file_extension": ".py",
   "mimetype": "text/x-python",
   "name": "python",
   "nbconvert_exporter": "python",
   "pygments_lexer": "ipython3",
   "version": "3.8.8"
  }
 },
 "nbformat": 4,
 "nbformat_minor": 5
}
