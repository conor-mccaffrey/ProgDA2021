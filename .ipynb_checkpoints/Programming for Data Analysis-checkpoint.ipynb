{
 "cells": [
  {
   "cell_type": "markdown",
   "id": "18f1f5c0",
   "metadata": {},
   "source": [
    "# <center>Participant Representation in Cancer Clinical Trials  </center>\n",
    "\n",
    "***\n",
    "\n",
    "![Numpy](Images/Numpy.png)\n",
    "![RD](Images/RD.png)\n",
    "\n",
    "<i>Images adapted from references 1,2 respectively</i>\n",
    "\n",
    "## Conor McCaffrey\n",
    "### Programming for Data Analysis 2021\n",
    "***"
   ]
  },
  {
   "cell_type": "markdown",
   "id": "65351e4c",
   "metadata": {},
   "source": [
    "### Assignment Objectives:\n",
    "\n",
    "<b>From Offical Assignment</b>\n",
    "\n",
    "For this project you must create a data set by simulating a real-world phenomenon of\n",
    "your choosing. You may pick any phenomenon you wish – you might pick one that is\n",
    "of interest to you in your personal or professional life. Then, rather than collect data\n",
    "related to the phenomenon, you should model and synthesise such data using Python.\n",
    "We suggest you use the numpy.random package for this purpose.\n",
    "Specifically, in this project you should:\n",
    "\n",
    "• Choose a real-world phenomenon that can be measured and for which you could\n",
    "collect at least one-hundred data points across at least four different variables.\n",
    "\n",
    "• Investigate the types of variables involved, their likely distributions, and their\n",
    "relationships with each other.\n",
    "\n",
    "• Synthesise/simulate a data set as closely matching their properties as possible.\n",
    "\n",
    "• Detail your research and implement the simulation in a Jupyter notebook – the\n",
    "data set itself can simply be displayed in an output cell within the notebook.\n",
    "\n",
    "Note that this project is about simulation – you must synthesise a data set. Some\n",
    "students may already have some real-world data sets in their own files. It is okay to\n",
    "base your synthesised data set on these should you wish (please reference it if you do),\n",
    "but the main task in this project is to create a synthesised data set. The next section\n",
    "gives an example project idea.\n",
    "\n"
   ]
  },
  {
   "cell_type": "markdown",
   "id": "f7852e65",
   "metadata": {},
   "source": [
    "***\n",
    "\n",
    "\n",
    "### Justification for my chosen Title\n",
    "\n",
    "For this project, I have decided to merge both my personal interests and professional career to date. I currently am employed in the Pharmaceutical sector and have a keen interest in Analytics (hence the reason for enrolling in this H.Dip!). In light of this, I want to explore something that may seem a bit 'left-field' and for which I am not sure there will even be much data available but I believe it is the knowledge gained as opposed to the actual end-result that will have the most benefit for me in this project and my career. I want to explore the participation of different demographic groups in a company's Research and Development (hereafter denoted as '<b>R&D</b>') Clinical Trials.\n",
    "\n",
    "I can already see one potentially big caveat in our analysis that would in itself probably make for a very interesting 'stand-alone' project:\n",
    "- Patricipation rates in Cancer clinical trials of patients with 'later-stage' (cancer that has spread) cancer.\n",
    "\n",
    "This would, in itself, make for an interesting project but I want to keep this investigation focussed solely demographic participation in Clinical Trials.\n",
    "\n",
    "Some points I would like to hopefully investigate in the generation of the data set are:\n",
    "- Race/ethnicity demographic of Clincal Trial participants\n",
    "- Gender demographic of Clinical Trial participants\n",
    "- Profit margins for companies with effective anti-cancer treaments\n",
    "- Average age of Clinical Trial participants\n",
    "- Different treatment areas that account for majority of drug spend (i.e. Oncology, Cardiovascular, Metabolic, Neurodegenerative conditions). This would be as an aside to our dataset but still informative and perhaps provide rationale for choosing to explore Oncology (Cancer) treatment.\n",
    "- Prevalence of adverse events in Clinical Trails \n",
    "\n",
    "These areas will be the main focus of the 'parameters' I choose for generating this dataset. I can see this is going to be a wide-ranging project but I believe the research involved will be interesting and informative. \n",
    "***"
   ]
  },
  {
   "cell_type": "markdown",
   "id": "f37365bf",
   "metadata": {},
   "source": [
    "### Definitions of terms that will be used in Project\n",
    "\n",
    "Before we begin, it will be important to familiarise ourselves with some important terms that will be incorporated in our dataset generation: <br>\n",
    "<b>* N.B * </b> This will be updated as the project progresses.\n",
    "\n",
    "- <i><b>Profit</b></i> is defined as the surplus revenue generated within a business once all operating costs are accoutned for, such as expenses, costs and taxes associated with producing the product (3,4).\n",
    "<br>\n",
    "\n",
    "- <i><b>Revenue</b></i> (also referred to as Sales/Income) can be defined as the 'value of all sales and services' in a company or relating to a product (5). The is the initial figure for a company before all expenses are then deducted.\n",
    "<br>\n",
    "\n",
    "- <i><b>R&D</b></i> is considered work performed, outside of normal product production, in order to lead to eventual profit/knowledge gained for a company.\n",
    "<br>\n",
    "\n",
    "- <i><b>Corporation Tax</b></i> is a tex levied on a company's profits (23). \n",
    "<br>\n",
    "\n",
    "- <i><b>Biosimilars</b></i> are drugs that are highly similar to a pre-approved drug on the market. Biosimilars are generally approved for use on the basis that there are no clinical differences between the product and a pre-approved drug already available for purchase (25).\n",
    "<br>\n",
    "\n",
    "- <i><b>Control Group</b></i>. A control group within a clinical trial is a group that do not receive the product under investigation. Instead, the participants in this group receive standard care or perhaps a placebo (a substance of no therapeutic value). The effectiveness of the new product is then determined by comparison with this control group.\n",
    "***"
   ]
  },
  {
   "cell_type": "markdown",
   "id": "b863c281",
   "metadata": {},
   "source": [
    "### Importation of Required Packages"
   ]
  },
  {
   "cell_type": "code",
   "execution_count": 1,
   "id": "79770431",
   "metadata": {},
   "outputs": [],
   "source": [
    "#This line-orientated magic command, as outlined in lectures, lets us display plots inline\n",
    "%matplotlib inline \n",
    "\n",
    "import numpy as np\n",
    "import pandas as pd\n",
    "import matplotlib.pyplot as plt\n",
    "import seaborn as sns\n",
    "import scipy.stats as stats"
   ]
  },
  {
   "cell_type": "markdown",
   "id": "46051302",
   "metadata": {},
   "source": [
    "### What is a Synthetic Dataset?"
   ]
  },
  {
   "cell_type": "markdown",
   "id": "2a206ca1",
   "metadata": {},
   "source": [
    "As part of the requirements for this project, we must generate a synthetic dataset that closely resembles our research as much as possible. So, the obvious question is: <u>What is a synthetic dataset?</u>. At it's most basic, synthetic data is data generated algorithmically, as opposed to generated by collection of real-life data (6). One of the main uses for the generation of synthetic datasets is in Machine Learning (ML) (6). Advantages of incorporating the use of synthetic datasets come in the relatively cheap production costs and also the safety regarding data privacy (7). Despite the relatively recent emergence of synthetic datasets, there are already numerous companies which specialise solely in the generation of synthetic datasets such as [iData](https://intelligent-ds.com/idataquality/idata-data-quality-management/), [Sarus Technologies](https://sarus.tech/) and [BetterData](https://www.betterdata.ai/). As can be seen from the below graph, the generation of synthetic data is only going to increase over time (7).\n",
    "\n",
    "![Synthetic Datasets](Images/synthetic.png)\n",
    "<br>\n",
    "<i>Graph adapted from Reference 7</i>\n",
    "\n",
    "The use of synthetic datasets in Industry can include:\n",
    "- Financial Institutions using datasets mimicking credit/debit card transactions to train in identifying fraudulant activity (8)\n",
    "- DevOps teams using synthetic datasets to test software (8)\n",
    "- Medical companies such as Roche using synthetic datasets for clincial research (9)\n",
    "- Amazon incorporating the use of synthetic data in training Amazon Go, a new type of 'shopkeeper-less' store (10)\n",
    "\n",
    "Considerations in the generation of synthetic data must include an assessment whether the synthetic data can closely resemble 'real-data' for it's intended purpose. Otherwise, you are wasting your time generating any type of dataset for your intended purpose. \n",
    "***"
   ]
  },
  {
   "cell_type": "markdown",
   "id": "97a79699",
   "metadata": {},
   "source": [
    "### Treatment areas of Interest and their role in daily consumer life."
   ]
  },
  {
   "cell_type": "markdown",
   "id": "0aaa8a57",
   "metadata": {},
   "source": [
    "An interesting aspect of this project will be type of Pharmaceutical companies listed in our tables for most profit. From this table, we might be able to divulge which specific treatment areas seem to generate the most profit for companies. Immediately, some areas come to mind: oncology treatments, 'ultra-rare' disease treatments. For example, 'Zolgensma', developed by Novartis, is a one-time treatment for spinal muscular atrophy (degeneration of muscle) that costs €1,877,746 (11). This product is a direct competitor to 'Spinzara', produced by Biogen, which also is currently the tenth most expensive treatment with an annual cost of €331,367 (11). The difference between the treatments is that 'Spinzara' is a multiple-dose treatment as opposed to 'Zolgensma' which is a single-dose treatment. This gives you a range of drug costs for these high-end treatments. \n",
    "\n",
    "<br>\n",
    "\n",
    "<b>Graph representing projected cancer-related deaths up to 2040</b>\n",
    "![Cancer deaths projection](Images/cancer.png)\n",
    "<br>\n",
    "<i>Figure adapted from Reference 17</i>\n",
    "\n",
    "Different treatment areas can also be examined to see how they can contribute to a company's profit margin. According to [The cost of cancer in Europe 2018](https://www.sciencedirect.com/science/article/pii/S0959804920300265/), almost €32 billion was spent in Europe on cancer-related drug treatments in 2018. In 2020, almost €246 billion was spent in the USA on cancer related care (12). Neurological disorders also account for a large proportion of health spending. According to a 2019 [EU-commissioned report](https://www.europarl.europa.eu/RegData/etudes/IDAN/2019/631045/IPOL_IDA(2019)631045_EN.pdf), almost €800 billion annually is spent on direct- and indirect-care for neurological disorders in the EU (13). Roughly the same figure is spent in the USA on neurological disorder care (14).These are huge amounts of money being spent on the incidence of treatments that are each increasing globally (15,16). Naturally, with such huge amounts of money being spent on treatments for these types of diseases, vasts sums of money are spent on developing effective treatments.\n",
    "<br>\n",
    "\n",
    "Specifically in Ireland, the [Review of High-Tech Drug Expenditure](https://assets.gov.ie/193851/9490e808-1774-440d-843a-28c3a9dc195c.pdf) is an invaluable resource (26). The below graph outlines the spend from 2012-2020 by the Irish Government on certain treatment areas. Similar to the theme conveyed above, we can see a dramatically increasing annual spend on anti-cancer treatments. Expenditure on cancer treatments has increased 15% annually over this period despite a patient growth in this area of 5% (26). This appears to suggests the increasing spend on anti-cancer treatments is to cover higher costs, as opposed to higher patient numbers. It is also worth noting the graudal increase in spend for Multiple Sclerosis treatment, a neurological disorder affecting the nerves (26,27). \n",
    "\n",
    "![Irish Spending](Images/snip.png)\n",
    "<br>\n",
    "<i>Adapted from Reference 26</i>"
   ]
  },
  {
   "cell_type": "markdown",
   "id": "c969edf1",
   "metadata": {},
   "source": [
    "### What is R&D?"
   ]
  },
  {
   "cell_type": "markdown",
   "id": "09187917",
   "metadata": {},
   "source": [
    "Research and Development (R&D) is considered to be the work carried out by a company in order to develop new products which can eventually add to the overall net profit of a company (18). The main reason for a company to undertake R&D is to develop new products, add to profit and therefore remain dominant/competitive in a certain field. If a company does not engage in effective R&D, it may fall behind competitors or need to depend on mergers/acquisitions to grow and add to profit (18). The basic premise of the R&D department is to develop new products and ensure they generate income for their company (19). This is done through product testing, clinical trials and use of data to determine if a product meets a certain need/niche within the market. R&D work can consist of detailed studies/projects determining the efficacy of a certain product/process. An essential parameter here is to ensure the product satisfies all market and regulatory requirements regarding safety (19). Another function of the R&D department is a sanity check, ensuring an existing product still meets a certain market requirement and still outperforms competitor equivalents. If this is not the case, the R&D department would be responsible for making the required product alteration to improve product performence. This may also lead to changes in the manufacture of the product (19)."
   ]
  },
  {
   "cell_type": "markdown",
   "id": "43a17b70",
   "metadata": {},
   "source": [
    "#### Types of R&D\n",
    "Briefly, there are two types of R&D research work:\n",
    "- <b> Basic Research</b>, which is high-level research with the overall aim to gain a more thorough understanding of a concept/process (18). Due to the wide-ranging scope of this research, high levels of profits may not be realised from this work. However, work carried out under basic research may then lead to more applied research.\n",
    "- <b>Applied Research</b>, which is a more focussed type of research with a discernible goal, such as generating profits, improving a certain product or improving a certain manufacturing process (19).\n",
    "\n",
    "The development phase of R&D can consist of improving a certain process within a company (perhaps making it more 'lean' i.e stripping away unnecessary steps to save time or money) or designing a new production system for a new product (19). The development phase can garner knowledge gained from carrying out either basic or applied (or both) research.\n",
    "\n",
    "![ResearchandDev](Images/RD1.png)\n",
    "<br>\n",
    "<i>Image adapted from Reference 20</i>"
   ]
  },
  {
   "cell_type": "markdown",
   "id": "acf200ab",
   "metadata": {},
   "source": [
    "#### Discrete Advantages of R&D"
   ]
  },
  {
   "cell_type": "markdown",
   "id": "cfe0baf5",
   "metadata": {},
   "source": [
    "It is quite clear that an effective R&D department can generate large returns for a company and lead to the formation of new products and leaner manufacturing processes. However, there are also other advantages to carrying out R&D projects. In Ireland, specifically, there a tax credit to be gained for companies that perform R&D studies in Ireland and the European Economic Area (21). There is a 25% tax credit available for companies that engage in R&D projects which is used to reduce a company's payable Corporation Tax (22). Another advantage is the goodwill factor of publishing pertinent information to the public and also collaborating with academic institutions in order to raise awareness of a company's brand. This last point is quite prominent within the scientific field through the use of 'placements' for students who will work with a company (on a research project, perhaps exploring a certain product) for a defined period of time. \n",
    "\n",
    "This section has highlighted the importance of R&D work for a company. To summarise, a main goal of the R&D department is to develop new products. These new products are then assessed in Clinical Trials for efficacy. It is worth noting that for some of the most commonly used drugs, there exists what are known as <i>biosimilars</i>. Biosimilars are produced by smaller companies and mimic the mode-of-action of an existing pre-approved drug (24). These biosimilars generally sell at a fraction of the original drug's price.\n",
    "***"
   ]
  },
  {
   "cell_type": "markdown",
   "id": "bd32357e",
   "metadata": {},
   "source": [
    "#### Revenue of Pharmaceutical Companies\n",
    "Before we start declaring variables for our dataset, I want to explore if any company within the top 10 (Revenue-wise) focuses primarily on Oncology treatment. I would have much preferred to have taken profit as a variable however it appears to be difficult to find reliable sources that accurately quantify a company's profits. Regardless, Revenue generated by a company will still give us a good indication of a company's performence. Sources used to generate this data include [Drug Discovery Trends Top 50](https://www.drugdiscoverytrends.com/pharma-50-the-50-largest-pharmaceutical-companies-in-the-world/) and [Fierce Pharmas Top 20](https://www.fiercepharma.com/special-report/top-20-pharma-companies-by-2020-revenue), both reputable sources within the life sciences industry (28,29). From analysing the results, we immediately see the figures are not in the millions, but rather the billions. Some of the sources convey slightly conflicting numbers for Revenue but the ballpark figures are the same.\n",
    "\n",
    "To start us off, let's have a look at the Revenue generated by the Top 10 Pharma companies in the world."
   ]
  },
  {
   "cell_type": "code",
   "execution_count": 2,
   "id": "b20e86b3",
   "metadata": {},
   "outputs": [
    {
     "data": {
      "text/html": [
       "<div>\n",
       "<style scoped>\n",
       "    .dataframe tbody tr th:only-of-type {\n",
       "        vertical-align: middle;\n",
       "    }\n",
       "\n",
       "    .dataframe tbody tr th {\n",
       "        vertical-align: top;\n",
       "    }\n",
       "\n",
       "    .dataframe thead th {\n",
       "        text-align: right;\n",
       "    }\n",
       "</style>\n",
       "<table border=\"1\" class=\"dataframe\">\n",
       "  <thead>\n",
       "    <tr style=\"text-align: right;\">\n",
       "      <th></th>\n",
       "      <th>Company</th>\n",
       "      <th>Revenue in Billions $US</th>\n",
       "    </tr>\n",
       "  </thead>\n",
       "  <tbody>\n",
       "    <tr>\n",
       "      <th>0</th>\n",
       "      <td>Roche</td>\n",
       "      <td>49.50</td>\n",
       "    </tr>\n",
       "    <tr>\n",
       "      <th>1</th>\n",
       "      <td>Novartis</td>\n",
       "      <td>48.70</td>\n",
       "    </tr>\n",
       "    <tr>\n",
       "      <th>2</th>\n",
       "      <td>Merck</td>\n",
       "      <td>47.99</td>\n",
       "    </tr>\n",
       "    <tr>\n",
       "      <th>3</th>\n",
       "      <td>AbbVie</td>\n",
       "      <td>45.80</td>\n",
       "    </tr>\n",
       "    <tr>\n",
       "      <th>4</th>\n",
       "      <td>Janssen (J&amp;J)</td>\n",
       "      <td>45.57</td>\n",
       "    </tr>\n",
       "    <tr>\n",
       "      <th>5</th>\n",
       "      <td>GSK</td>\n",
       "      <td>45.53</td>\n",
       "    </tr>\n",
       "    <tr>\n",
       "      <th>6</th>\n",
       "      <td>BMS</td>\n",
       "      <td>42.42</td>\n",
       "    </tr>\n",
       "    <tr>\n",
       "      <th>7</th>\n",
       "      <td>Pfizer</td>\n",
       "      <td>41.90</td>\n",
       "    </tr>\n",
       "    <tr>\n",
       "      <th>8</th>\n",
       "      <td>Sanofi</td>\n",
       "      <td>41.10</td>\n",
       "    </tr>\n",
       "    <tr>\n",
       "      <th>9</th>\n",
       "      <td>Takeda</td>\n",
       "      <td>29.90</td>\n",
       "    </tr>\n",
       "  </tbody>\n",
       "</table>\n",
       "</div>"
      ],
      "text/plain": [
       "         Company  Revenue in Billions $US\n",
       "0          Roche                    49.50\n",
       "1       Novartis                    48.70\n",
       "2          Merck                    47.99\n",
       "3         AbbVie                    45.80\n",
       "4  Janssen (J&J)                    45.57\n",
       "5            GSK                    45.53\n",
       "6            BMS                    42.42\n",
       "7         Pfizer                    41.90\n",
       "8         Sanofi                    41.10\n",
       "9         Takeda                    29.90"
      ]
     },
     "execution_count": 2,
     "metadata": {},
     "output_type": "execute_result"
    }
   ],
   "source": [
    "# Lets plot the revenue generated by Top 10 Pharma companies worldwide\n",
    "\n",
    "# Let's create our Pandas dataframe first\n",
    "Company = [['Roche', 49.5], ['Novartis',48.7], ['Merck', 47.99], ['AbbVie',45.80], \n",
    "         ['Janssen (J&J)', 45.57], ['GSK', 45.53], ['BMS', 42.42], ['Pfizer', 41.9],\n",
    "           ['Sanofi',41.1],['Takeda', 29.9]]\n",
    "\n",
    "df_Top10 =pd.DataFrame(Company, columns = ['Company', 'Revenue in Billions $US']) \n",
    "df_Top10"
   ]
  },
  {
   "cell_type": "code",
   "execution_count": 3,
   "id": "efce7a83",
   "metadata": {},
   "outputs": [
    {
     "data": {
      "image/png": "[encoded data removed]",
      "text/plain": [
       "<Figure size 1080x576 with 1 Axes>"
      ]
     },
     "metadata": {
      "needs_background": "light"
     },
     "output_type": "display_data"
    }
   ],
   "source": [
    "# Now let's plot\n",
    "plt.figure(figsize=(15,8))\n",
    "sns.barplot(x=df_Top10['Company'], y=df_Top10['Revenue in Billions $US'], data=df_Top10,\n",
    "            color = 'blue',  palette='Blues_d') # adapted from reference 30\n",
    "plt.xlabel('Company', fontsize = 16)\n",
    "plt.ylabel('Revenue (in $US Billions)', fontsize = 16)\n",
    "plt.xticks(fontsize = 13)\n",
    "plt.suptitle('Revenue of Top 10 Pharma Companies', fontsize = 15, fontweight = 'bold');"
   ]
  },
  {
   "cell_type": "markdown",
   "id": "1d465e4b",
   "metadata": {},
   "source": [
    "I merely want to demonstrate the levels of revenue we are dealing with here. We can see that Roche's revenue is almost €44.4 billion, while our 'lowest' Revenue level lies with Takeda, at a 'mere' €26.6 billion. It is interesting however to see the drop off between Sanofi and Takeda, it appears there may be a leading 9 companies and then Takeda is the beginning of a new cluster of companies, perhaps in a 'mid-range' level of Revenue annually. From analysing reference 28, I can see this is the case. Our values range from €44.4 billion (Roche) down as far as €5.3 billion (Eisai) (28). Let's explore which (if any) of these companies primarily focus on Oncology treatments. As a side note, GitHub has issues rendering the dollar symbol correctly from Jupyter so I converted values to €'s for the sake of the text. "
   ]
  },
  {
   "cell_type": "code",
   "execution_count": 4,
   "id": "7a7e2631",
   "metadata": {},
   "outputs": [
    {
     "data": {
      "text/html": [
       "<div>\n",
       "<style scoped>\n",
       "    .dataframe tbody tr th:only-of-type {\n",
       "        vertical-align: middle;\n",
       "    }\n",
       "\n",
       "    .dataframe tbody tr th {\n",
       "        vertical-align: top;\n",
       "    }\n",
       "\n",
       "    .dataframe thead th {\n",
       "        text-align: right;\n",
       "    }\n",
       "</style>\n",
       "<table border=\"1\" class=\"dataframe\">\n",
       "  <thead>\n",
       "    <tr style=\"text-align: right;\">\n",
       "      <th></th>\n",
       "      <th>Company</th>\n",
       "      <th>Area of Focus</th>\n",
       "    </tr>\n",
       "  </thead>\n",
       "  <tbody>\n",
       "    <tr>\n",
       "      <th>0</th>\n",
       "      <td>Roche</td>\n",
       "      <td>Oncology</td>\n",
       "    </tr>\n",
       "    <tr>\n",
       "      <th>1</th>\n",
       "      <td>Novartis</td>\n",
       "      <td>Cardiovascular/Immunology</td>\n",
       "    </tr>\n",
       "    <tr>\n",
       "      <th>2</th>\n",
       "      <td>Merck</td>\n",
       "      <td>Immunology/Oncology</td>\n",
       "    </tr>\n",
       "    <tr>\n",
       "      <th>3</th>\n",
       "      <td>AbbVie</td>\n",
       "      <td>Oncology/Neuroscience</td>\n",
       "    </tr>\n",
       "    <tr>\n",
       "      <th>4</th>\n",
       "      <td>Janssen (J&amp;J)</td>\n",
       "      <td>Oncology</td>\n",
       "    </tr>\n",
       "    <tr>\n",
       "      <th>5</th>\n",
       "      <td>GSK</td>\n",
       "      <td>Vaccines/HIV</td>\n",
       "    </tr>\n",
       "    <tr>\n",
       "      <th>6</th>\n",
       "      <td>BMS</td>\n",
       "      <td>Oncology</td>\n",
       "    </tr>\n",
       "    <tr>\n",
       "      <th>7</th>\n",
       "      <td>Pfizer</td>\n",
       "      <td>Oncology</td>\n",
       "    </tr>\n",
       "    <tr>\n",
       "      <th>8</th>\n",
       "      <td>Sanofi</td>\n",
       "      <td>Immunlogy</td>\n",
       "    </tr>\n",
       "    <tr>\n",
       "      <th>9</th>\n",
       "      <td>Takeda</td>\n",
       "      <td>Oncology/Rare Disease</td>\n",
       "    </tr>\n",
       "  </tbody>\n",
       "</table>\n",
       "</div>"
      ],
      "text/plain": [
       "         Company              Area of Focus\n",
       "0          Roche                   Oncology\n",
       "1       Novartis  Cardiovascular/Immunology\n",
       "2          Merck        Immunology/Oncology\n",
       "3         AbbVie      Oncology/Neuroscience\n",
       "4  Janssen (J&J)                   Oncology\n",
       "5            GSK               Vaccines/HIV\n",
       "6            BMS                   Oncology\n",
       "7         Pfizer                   Oncology\n",
       "8         Sanofi                  Immunlogy\n",
       "9         Takeda      Oncology/Rare Disease"
      ]
     },
     "execution_count": 4,
     "metadata": {},
     "output_type": "execute_result"
    }
   ],
   "source": [
    "# Lets construct a dataframe outlining if a company produces Oncology treatments \n",
    "# or as a main area of focus.\n",
    "# Information adapted from reference 31\n",
    "\n",
    "# Let's create our Pandas dataframe first\n",
    "AreaofInterest = [['Roche', 'Oncology'], ['Novartis','Cardiovascular/Immunology'], ['Merck', 'Immunology/Oncology'], \n",
    "           ['AbbVie','Oncology/Neuroscience'], ['Janssen (J&J)', 'Oncology'], ['GSK', 'Vaccines/HIV'], ['BMS', 'Oncology'], \n",
    "           ['Pfizer', 'Oncology'], ['Sanofi','Immunlogy'],['Takeda', 'Oncology/Rare Disease']]\n",
    "\n",
    "df_AOI =pd.DataFrame(AreaofInterest, columns = ['Company', 'Area of Focus']) \n",
    "df_AOI"
   ]
  },
  {
   "cell_type": "markdown",
   "id": "0f88c1d8",
   "metadata": {},
   "source": [
    "We can see that 7 out of the top 10 Pharmaceutical Companies (based on Revenue) focus primarily on Oncological treatments. Some companies, such as GSK, have dedicated facilities towards Oncology but I have not listed it as a 'main-focus' because several other sectors are mentioned ahead of it on their information pages. Companies of this size are involved in every field of research, but some fields so more than others. "
   ]
  },
  {
   "cell_type": "markdown",
   "id": "49ff90b1",
   "metadata": {},
   "source": [
    "### Brief Overview of the process of a Clinical Trial\n",
    "\n"
   ]
  },
  {
   "cell_type": "markdown",
   "id": "dea29f2e",
   "metadata": {},
   "source": [
    "A clinical trial is a study/trial conducted by a Pharamcutical Company (can also be carried out by healthcare institutions) to determine how a product interacts within the human body (32). These trials answer some essential questions such as (33):\n",
    "- Does the treatment work?\n",
    "- What are the side effects?\n",
    "- How safe, overall, is the treatment?\n",
    "- How cost-effective is the treatment?\n",
    "- How effective is the treatment at treating a condition?\n",
    "\n",
    "These questions are answered within Clinical Trials. A study plan, or protocol, is developed prior to commencing a Clinical Trial in where the organisers will design each aspect of the trial such as dosage requirements, amount of participants, length of the study and whether a 'control group' is necessary, among other parameters (32,33). There are 4 distinct phases within a Clinical Trial: \n",
    "1. <b>Phase I</b>: Small number of participants, drug safety is assessed here i.e how the drug reacts in the human body (33).\n",
    "2. <b>Phase II</b>: Once initial safety is confirmed, participant number increases and dosage amount may increase. Again, a big aspect here is drug safety and drug efficacy (32).\n",
    "3. <b>Phase III</b>: Large patient groups. Here, the main question is how effective a treatment is (after it has been confirmed to be safe and some effect has been noted in previous Phases). Adverse reactions are closely monitored here. If the results are postiive, the study is published and approval sought from a Regulatory Agency such as the HPRA (34). \n",
    "4. <b> Phase IV</b> This phase is also known as 'Post-Marketing Surveillance Trials'. This is essentially monitoring the use of the drug and any side-effects in a huge number of patients (32). The product is also closely compared to other similar products. The idea here is to monitor the long-term effectiveness of a drug. \n",
    "\n",
    "\n",
    "![Clinical Trials](Images/Clinical-Trials-Diagrampng.png)\n",
    "<br>\n",
    " <i>Figure adapted from Reference 35</i>"
   ]
  },
  {
   "cell_type": "markdown",
   "id": "9cc0c607",
   "metadata": {},
   "source": [
    "In extreme cases, a Regulatory Agency may put a 'hold' on a certain drug product during a Clinical Trial (32). This is not common, and not a good sign. Various reasons may exist for halting a study, but usually it is to do with either patient safety (in relation to the drug causing extreme adverse reactions) or the trial setup being misleading/vague (32). Within the past few days (as of Dec 14), the U.S ood and Drug Administration (FDA) have put a hold on Merck's HIV treatment 'islatravir' due to a drop in T-cell count in patients. 'T-cells' help the body fight infection. "
   ]
  },
  {
   "cell_type": "markdown",
   "id": "166b10a3",
   "metadata": {},
   "source": [
    "### Parameters for our Synthetic Dataset"
   ]
  },
  {
   "cell_type": "markdown",
   "id": "ca2e1ede",
   "metadata": {},
   "source": [
    "#### Factors to consider for generating our Dataset\n",
    "I want to generate our dataset on the following variables:\n",
    "\n",
    "- <u>Age of participants</u> in a Clinical Trial\n",
    "\n",
    "\n",
    "- <u>Race/ethnicity of participants</u> in a Clinical Trial\n",
    "\n",
    "\n",
    "- <u>Gender of participants</u> in a Clinical Trial\n",
    "\n",
    "\n",
    "- <u>Occurence of Adverse effects</u> in a Clinical Trial\n",
    "\n",
    "\n",
    "- <u>Socio/Economic Status</u> of participants in a Clinical Trial\n",
    "<br>\n"
   ]
  },
  {
   "cell_type": "markdown",
   "id": "f97361b6",
   "metadata": {},
   "source": [
    "Let's look in detail at each of the variables. In 2020, over 4 million people died of lung cancer and breast cancer worldwide (37). I believe this highlights the importance of generating datasets relaitng to cancer research."
   ]
  },
  {
   "cell_type": "markdown",
   "id": "656b2bd5",
   "metadata": {},
   "source": [
    "##### Age of Paticipants in a Cancer Clinical Trial"
   ]
  },
  {
   "cell_type": "markdown",
   "id": "05b1311d",
   "metadata": {},
   "source": [
    "Age is an extremely important factor in clinical trial representation. While some trials are focussed on a subset of individuals above a certain age (38), the majority of clinical trials focus on individuals between 18-75 years of age (39). In the case of our dataset, this variable will be a numerical variable and a positive integer. The minimum value shall be zero (despite the fact the majority of participants are 18 or older) and there shall be no upper limit as I have seen a publication that references the participation of a 97-year old (41)!  Our first task here is to identify the distribution of ages of participants in cancer trials, and then for us to replicate this result using `numpy.random`."
   ]
  },
  {
   "cell_type": "markdown",
   "id": "78a138de",
   "metadata": {},
   "source": [
    "The below graph indicates age distributions of participants in cancer clinical trials. We can see for lung cancer that the vast majority of participants are in the 18-64 age bracket, confirming our upper limit decision for age (40). This fact is repeated to breast cancer clinical trials and for colorectal clinical trials to an even greater extent. \n",
    "\n",
    "<b><center>Age of Participants in Cancer clinical trials between 2008 and 2013</center></b>\n",
    "\n",
    "![Participants](Images/part.png)\n",
    "<br>\n",
    "<i>Figure adapted from reference 40</i>\n",
    "\n",
    "However, we are looking for data that is a little more specific than this. A recent review of cancer trials has shed some light on this topic. According to <i>Meyer et al. (2021)</i>, the mean age of cancer clinical trial respondents was 54 in 2017 and 53 in 2009 (41). This tells us that the mean age has not varied much recently. This ties in with some other publications we have found. Prior research, conducted by <i>Murthy et al. (2004)</i> found that 68% of trial participants fell within the 30-64 age bracket, while 24% of participants fell within the 65-74 age bracket in a study of 75,215 participants (42). The same result was evident in a recent summary carried out by <i>Saphner et al. (2021)</i>, in where it was calculated that patients older than 65 were less likely than patients younger than 65 to engage in clinical trials ( 38.3% vs. 61.7%, p < 0.001) (43).\n",
    "\n",
    "\n",
    "\n"
   ]
  },
  {
   "cell_type": "markdown",
   "id": "b1d78f12",
   "metadata": {},
   "source": [
    "Let's try and replicate these findings using `numpy.random`. Based on what we have seen thus far, let's go with a triangular distribution peaking around 54. I initally assumed normal distribution would be the way to go here, however I was getting results below 0 on occasions and over 100 which made me wonder how best to display age data. After extensive research, I came across 'triangular' distribution which lets you set ranges and a peak (44). My decision was based on the discussion held in [Stack Exchange](https://stats.stackexchange.com/questions/129417/if-my-histogram-shows-a-bell-shaped-curve-can-i-say-my-data-is-normally-distrib), in where age distribution is discussed (45)."
   ]
  },
  {
   "cell_type": "code",
   "execution_count": 5,
   "id": "42c61ec2",
   "metadata": {},
   "outputs": [
    {
     "name": "stdout",
     "output_type": "stream",
     "text": [
      "[50.1 77.4 27.1 77.2 39.4 45.7 66.5 44.9 51.9 12.4 61.9 51.4 40.4 64.\n",
      " 38.8 47.3 26.1 44.6 32.  36.2 61.7 37.4 48.8 82.1 78.9 60.3 51.5 37.1\n",
      " 28.5 80.2 50.3 24.4 55.3 63.3 54.8 73.7 14.7 50.9 47.5 18.1 56.1 68.3\n",
      " 53.9 36.  67.4 50.  50.1 61.9 27.4 66.  58.1 63.9 31.1 64.8 31.  20.6\n",
      " 68.5 68.9 70.1 48.2 37.   6.8 56.3 60.  67.  37.5 32.9 56.  65.  79.2\n",
      " 27.6 48.7 71.6 45.7 53.7 11.7 57.7 73.9 66.4 70.8 57.  35.  62.8 32.6\n",
      " 66.7 18.2 66.4 28.9 43.1 39.7 58.6 30.  44.2  6.2 36.2 45.6 23.4 55.7\n",
      " 43.4 60.3 56.7 46.1 69.4 55.7 65.3 41.2 51.6 31.4 86.5 34.9 35.8 19.6\n",
      " 35.9 62.5 58.9 25.6 43.1 45.6 57.2 47.4 53.6 67.3 60.4 42.5 47.  42.6\n",
      " 23.8 32.  37.6 39.5 39.4 53.2 80.5 63.1 64.1 62.2 54.1 73.8 58.5 49.6\n",
      " 20.1 49.  32.7 26.  49.9 63.8 38.3 62.8 50.8 27.5 79.4 44.5 38.3 67.9\n",
      " 25.2 60.8 30.8 44.  34.1 67.4 43.9 81.  55.3 58.7 50.6 39.2 44.2 76.2\n",
      " 31.8 83.9 62.2 42.2 56.1 43.4 43.4 49.7  9.9 49.3 80.5 37.7 61.6 46.7\n",
      " 32.4 72.6  9.9 38.8 88.2 36.2 68.  54.5 65.1 55.6 42.4 62.3 12.2 46.9\n",
      " 42.9 48.4 25.5 33.4 52.5 43.8 64.2 54.4 68.9 60.7 54.3 37.8 63.6 35.4\n",
      " 19.8 79.1 51.5 63.1 51.  54.7 13.6 30.7 57.7 52.9 28.3 77.6 28.  50.1\n",
      " 27.1 59.9 37.1 26.2 15.7 29.7 31.1 51.3 47.1 78.3 77.9 64.5 57.6 67.7\n",
      " 76.  11.3 24.6 42.2 22.  54.2 36.  36.3 37.9 22.5 61.2 56.5 54.5 13.7\n",
      " 46.  58.2 28.2 43.7 10.7 20.7 33.  45.2 47.7 70.8 39.6 11.1 66.4 18.1\n",
      " 21.9 79.1 61.9 40.9 26.  43.7 41.  69.9 45.4 20.7 74.7 55.2 24.5 24.1\n",
      " 47.9 21.8 55.7 54.9 13.3 65.2 63.9 73.5 57.5 58.6 28.8 11.6 18.6 79.3\n",
      " 56.3 77.  41.6 62.  18.6 29. ]\n"
     ]
    },
    {
     "data": {
      "image/png": "[encoded data removed]",
      "text/plain": [
       "<Figure size 1080x576 with 1 Axes>"
      ]
     },
     "metadata": {
      "needs_background": "light"
     },
     "output_type": "display_data"
    }
   ],
   "source": [
    "# Generate random integers in triangular distribution for 300 patients\n",
    "plt.figure(figsize=(15,8))\n",
    "age = np.random.default_rng(1).triangular(1, 54, 90, size= 300)\n",
    "age = age.round(1) # let's round our ages to one decimal place (adapted from reference 46)\n",
    "print(age)\n",
    "\n",
    "# Now let's plot\n",
    "sns.histplot(age, bins=30,\n",
    "               color='green', kde=True)\n",
    "plt.xlabel('Age', fontweight = 'bold')\n",
    "plt.ylabel('Frequency', fontweight = 'bold')\n",
    "plt.suptitle('Age of Participants in Clinical Trial Dataset', fontsize = 20);\n"
   ]
  },
  {
   "cell_type": "markdown",
   "id": "249726ee",
   "metadata": {},
   "source": [
    "I think this plot works quite well for our trial dateset. We have a triangular distribution with a peak around 54 and our range set to 0-90 years of age. We have went with 600 patients in our trial dataset to represent what would generally be the number of participants in a Phase IV trial. It would be remiss to not highlight the fact that we also see a drop-off in participants of a higher age group due to trial requirements. The majority of clinical trials have certain criteria that participants must meet in order to be eligible to enroll (47). These reasons could include prior medication, that may potentially interact with the product being investigated or existing cardiac issues (47). So, we know that participation rates drop off as age increases, however this can also be due to the exclusion of older-age applicants. While this doesn't affect the generation of our dataset, it is important to keep in mind."
   ]
  },
  {
   "cell_type": "code",
   "execution_count": 6,
   "id": "e3d66430",
   "metadata": {},
   "outputs": [
    {
     "data": {
      "image/png": "[encoded data removed]",
      "text/plain": [
       "<Figure size 576x432 with 1 Axes>"
      ]
     },
     "metadata": {},
     "output_type": "display_data"
    }
   ],
   "source": [
    "# Let's construct a violin plot of our results\n",
    "sns.set_style('ticks') # based on offical documentation (48)\n",
    "plt.figure(figsize=(8,6))\n",
    "sns.violinplot( data=age, \n",
    "inner='points')\n",
    "plt.ylabel('Age', fontweight = 'bold')\n",
    "plt.suptitle('Age of Participants in Clinical Trial Dataset', fontsize = 20);\n"
   ]
  },
  {
   "cell_type": "markdown",
   "id": "212856de",
   "metadata": {},
   "source": [
    "We can see here that our data has generated no outliers. This is good to know going forward for our dataset."
   ]
  },
  {
   "cell_type": "markdown",
   "id": "afc89fca",
   "metadata": {},
   "source": [
    "##### Gender of Paticipants in a Cancer Clinical Trial"
   ]
  },
  {
   "cell_type": "markdown",
   "id": "c4eef44d",
   "metadata": {},
   "source": [
    "Gender breakdown for participants in clinical trials is naturally an intersting categorical variable to explore. While there may be no medical advantage to knowing a participant's gender in a trial, it is still important to record for variability. Naturally, there will be differing gender participation rates for certain cancers (prostate cancer, or a smaller male participation rate for breast cancer trials). For this synthetic dataset, we are generating a general dataset for participants in all cancer trials, i.e to allow us to make summations about trial participants demographically. "
   ]
  },
  {
   "cell_type": "markdown",
   "id": "9945fe99",
   "metadata": {},
   "source": [
    "A landmark review, carried out by <i>Dymanus et al. (2021)</i>, explored gender participation rates in great detail (49). Over 140 clinical trials and nearly 60,000 participants were assessed and their gender categorised for oncology trials between 2014-2019 (49). From this, it was determined that 60.3% of participants were male and 39.7% were female (49). This was for trials that led to final drug approval (so passing Phase III, moving on to Phase IV). Naturally, gender participation varied depending on the 'cancer-site' of the product being assessed. This same study examined any disparity between 'clinical trial gender' and 'cancer incidence gender' , essentially determining if the percentages of males/females participating in trials was similar to the percentages of males/females being diagnosed with a certain cancer in the US (49). Large disparities were found for males in urinary cancer (69.2% in clinical trials vs. 80.0% population incidnce )  and soft tissue cancer (33.2% in clinical trials vs 59.9% population incidence) (49). Disparities in female participation rates were also identifed for thyroid cancer (46.7% in clinical trials vs 74.2% population incidence ) (49). These results have been seen in similarly conducted reviews for participation rates based on gender (42). <i>Murthy et al.</i> identified disparities in gender participation rates for clinical trials for breast, colorectal, lung and prostate cancer with men more likely to participate than women (42)."
   ]
  },
  {
   "cell_type": "markdown",
   "id": "fd7c3d78",
   "metadata": {},
   "source": [
    "There are many possible reasons for this under-representation of women in clinical trials. A recent study (<i>Liu et al., 2016</i>) highlighted historical concerns over enrolling women due to 'potential reporoductive adverse effects', leading to thei exclusion from participating in early stages of research (50,51). A bizarre anomaly in female under-representation in clinical trials comes from the fact the first study of using estrogen in prevention of heard disease was conducted solely with male participants (51). "
   ]
  },
  {
   "cell_type": "markdown",
   "id": "4c365c89",
   "metadata": {},
   "source": [
    "<b>Pie charts representing gender participation in trials for various cancers</b>\n",
    "\n",
    "![Rep.png](Images/pie.png)\n",
    "\n",
    "<i>Figure adapted from reference 52</i>"
   ]
  },
  {
   "cell_type": "markdown",
   "id": "29841348",
   "metadata": {},
   "source": [
    "<b> Detailed analysis of gender enrollment levels in trials leading to drug approval between 2008-2018</b>\n",
    "\n",
    "![Pie.png](Images/pie2.png)\n",
    "\n",
    "<i>Figure adapted from reference 52,</i>"
   ]
  },
  {
   "cell_type": "markdown",
   "id": "0f8f62e5",
   "metadata": {},
   "source": [
    "We can see from the figure adapted from reference 52, in where 'A' depicts gender enrollment levels in trials leading to drug approval between 2008 - 2018, and 'B' depicts pie charts of gender enrollment levels between 2008-2018 that males participate in trials more than females (52). Let's reflect this in our dataset. Again, there would be outliers for certain types of cancers (i.e breast cancer, prostate cancer) but this is a general cancer dataset for overall participation levels of differing demographics. Gender will be a categorical variable ('male' or 'female')."
   ]
  },
  {
   "cell_type": "code",
   "execution_count": 7,
   "id": "0fed116d",
   "metadata": {},
   "outputs": [
    {
     "name": "stdout",
     "output_type": "stream",
     "text": [
      "Male: 195\n",
      "Female: 105\n"
     ]
    }
   ],
   "source": [
    "# Classify gender participation for clinical trials\n",
    "gender = ['Male', 'Female']\n",
    "rng = np.random.default_rng()\n",
    "\n",
    "# let's define our patient size as 300 again, as above\n",
    "\n",
    "n = 300\n",
    "\n",
    "# From our research, we can safely assume 65% of participants are male and\n",
    "# 35% of participants are female. Let's try repicate this\n",
    "# Following code adapted from offical documentation (53)\n",
    "gender = rng.choice(gender, 300, p=[0.65,0.35], replace=True)  \n",
    "\n",
    "# Following code adapted from reference 54\n",
    "print('Male:' , np.count_nonzero(gender == 'Male'))\n",
    "print('Female:', np.count_nonzero(gender == 'Female'))\n"
   ]
  },
  {
   "cell_type": "code",
   "execution_count": 8,
   "id": "cfc61153",
   "metadata": {},
   "outputs": [
    {
     "name": "stdout",
     "output_type": "stream",
     "text": [
      "['Male' 'Female' 'Male' 'Male' 'Male' 'Female' 'Male' 'Male' 'Male'\n",
      " 'Female' 'Male' 'Female' 'Male' 'Male' 'Male' 'Male' 'Male' 'Male' 'Male'\n",
      " 'Male' 'Male' 'Male' 'Male' 'Female' 'Female' 'Male' 'Female' 'Male'\n",
      " 'Male' 'Female' 'Male' 'Male' 'Female' 'Male' 'Female' 'Male' 'Male'\n",
      " 'Male' 'Male' 'Male' 'Female' 'Female' 'Male' 'Female' 'Female' 'Male'\n",
      " 'Female' 'Male' 'Female' 'Female' 'Male' 'Female' 'Female' 'Male' 'Male'\n",
      " 'Male' 'Female' 'Male' 'Male' 'Male' 'Female' 'Male' 'Female' 'Male'\n",
      " 'Male' 'Male' 'Female' 'Female' 'Female' 'Male' 'Female' 'Female' 'Male'\n",
      " 'Male' 'Male' 'Female' 'Female' 'Male' 'Female' 'Male' 'Female' 'Male'\n",
      " 'Male' 'Male' 'Male' 'Male' 'Male' 'Male' 'Female' 'Male' 'Female'\n",
      " 'Female' 'Male' 'Female' 'Male' 'Female' 'Male' 'Male' 'Male' 'Male'\n",
      " 'Female' 'Female' 'Male' 'Male' 'Male' 'Male' 'Female' 'Male' 'Female'\n",
      " 'Male' 'Male' 'Female' 'Female' 'Female' 'Female' 'Male' 'Female' 'Male'\n",
      " 'Male' 'Male' 'Male' 'Male' 'Male' 'Female' 'Male' 'Female' 'Female'\n",
      " 'Male' 'Male' 'Male' 'Male' 'Female' 'Male' 'Male' 'Male' 'Male' 'Male'\n",
      " 'Female' 'Male' 'Male' 'Male' 'Female' 'Male' 'Male' 'Female' 'Male'\n",
      " 'Female' 'Male' 'Male' 'Male' 'Male' 'Female' 'Male' 'Male' 'Female'\n",
      " 'Female' 'Female' 'Male' 'Female' 'Female' 'Female' 'Male' 'Male'\n",
      " 'Female' 'Female' 'Male' 'Male' 'Male' 'Male' 'Male' 'Female' 'Male'\n",
      " 'Male' 'Male' 'Male' 'Male' 'Male' 'Male' 'Male' 'Male' 'Female' 'Male'\n",
      " 'Male' 'Male' 'Female' 'Male' 'Male' 'Female' 'Female' 'Male' 'Female'\n",
      " 'Female' 'Male' 'Male' 'Male' 'Male' 'Female' 'Male' 'Male' 'Male' 'Male'\n",
      " 'Male' 'Female' 'Male' 'Female' 'Female' 'Male' 'Male' 'Male' 'Male'\n",
      " 'Male' 'Male' 'Male' 'Female' 'Female' 'Male' 'Male' 'Female' 'Male'\n",
      " 'Male' 'Female' 'Female' 'Female' 'Female' 'Female' 'Male' 'Male' 'Male'\n",
      " 'Male' 'Female' 'Male' 'Male' 'Male' 'Male' 'Male' 'Male' 'Female' 'Male'\n",
      " 'Male' 'Male' 'Male' 'Male' 'Male' 'Male' 'Male' 'Male' 'Female' 'Male'\n",
      " 'Male' 'Male' 'Male' 'Male' 'Female' 'Female' 'Male' 'Male' 'Male'\n",
      " 'Female' 'Male' 'Female' 'Male' 'Male' 'Male' 'Female' 'Male' 'Female'\n",
      " 'Male' 'Female' 'Female' 'Female' 'Female' 'Male' 'Female' 'Female'\n",
      " 'Male' 'Male' 'Female' 'Male' 'Male' 'Male' 'Male' 'Female' 'Male' 'Male'\n",
      " 'Male' 'Female' 'Female' 'Female' 'Male' 'Male' 'Female' 'Female' 'Male'\n",
      " 'Male' 'Male' 'Male' 'Male' 'Female' 'Female' 'Male']\n",
      "The type of the data is: <class 'numpy.ndarray'>\n"
     ]
    }
   ],
   "source": [
    "# Let's look at the data\n",
    "print(gender)\n",
    "print('The type of the data is:',type(gender))"
   ]
  },
  {
   "cell_type": "code",
   "execution_count": 9,
   "id": "97030be3",
   "metadata": {},
   "outputs": [
    {
     "data": {
      "image/png": "[encoded data removed]",
      "text/plain": [
       "<Figure size 1080x576 with 1 Axes>"
      ]
     },
     "metadata": {},
     "output_type": "display_data"
    }
   ],
   "source": [
    "# Let's visualise our results\n",
    "plt.figure(figsize=(15,8))\n",
    "\n",
    "# Create the pandas DataFrame\n",
    "df_gender = pd.DataFrame(gender, columns = ['Gender'])\n",
    "df_gender\n",
    "\n",
    "# autopct='%.1f%%' lets us display percentages\n",
    "# .size() lets us get numerical values for strings\n",
    "\n",
    "df_gender.groupby('Gender').size().plot(kind = 'pie', x=df_gender, autopct='%.1f%%', \n",
    "                                        fontsize= 20,colors=('red', 'skyblue'))\n",
    "plt.title('Gender Participation', fontweight = 'bold', fontsize = 20)\n",
    "plt.ylabel('Gender');\n"
   ]
  },
  {
   "cell_type": "code",
   "execution_count": 10,
   "id": "27f8a252",
   "metadata": {},
   "outputs": [
    {
     "data": {
      "image/png": "[encoded data removed]",
      "text/plain": [
       "<Figure size 1080x576 with 1 Axes>"
      ]
     },
     "metadata": {},
     "output_type": "display_data"
    }
   ],
   "source": [
    "# Lets create a barplot for this data\n",
    "# Adapted from reference 55\n",
    "plt.figure(figsize=(15,8))\n",
    "ax = plt.axes()\n",
    "sns.countplot(x=df_gender['Gender'],data=df_gender)\n",
    "plt.title('Gender Participation', fontweight = 'bold', fontsize = 15)\n",
    "plt.xlabel('Occurrences')\n",
    "plt.ylabel('Frequency')\n",
    "ax.set_facecolor('white')"
   ]
  },
  {
   "cell_type": "markdown",
   "id": "f4685858",
   "metadata": {},
   "source": [
    "We can see from the resulting pie-chart and barplot that our results are quite similar to what we have discovered during research. This will serve us well as we continue to build towards constructing the tools necessary to synthesise our dataset."
   ]
  },
  {
   "cell_type": "markdown",
   "id": "a6d476e1",
   "metadata": {},
   "source": [
    "##### Race/Ethnicity in a Cancer Clinical Trial"
   ]
  },
  {
   "cell_type": "markdown",
   "id": "8fad6ec2",
   "metadata": {},
   "source": [
    "The race/ethnicity of participants in a clincal trial is of utmost importance, yet often goes overlooked/unreported. According to a recent review conducted by <i>Habr et al. (2021)</i>, White individuals were found to be over-represented (participating in clinical trials to a greater extent than disease incidence in the race category) when compared to minority groups in trials for the main cancer types, including breast, lung and prostate cancer types (56). In a study conducted examining participation demographics in trials for drugs leading to eventual FDA approval between 2008-2018 (49), it was determined that 76.3% of participants were White, 18.3% were Asian, 3.1% were Black and 6.1% were Hispanic in the US. This is of particular concern as we know that certain cancer types have a higher incidence in certain ethnic groups compared to others. Blacks and Hispanics were significantly under-reported in trials (22% and 44% when compared to disease incidence, respectively) compared to Whites and Asians (98% and 438%, respectively) (57). In an assessment of trials involving immune checkpoint inhibitors (an approach in cancer therapy that involves employing the body's own cancer-killing cells through blocking the action of checkpoint proteins in the immune system), it was discovered that less than 4% of participants were Black (57,59). In a review of 220 Phase I clinical trials conducted in the US in 2019, the following participation rates were determined for ethnic groups (60):\n",
    "\n",
    "- 84.2% White\n",
    "- 7.3 % Black/African-American\n",
    "- 3.4% Asian\n",
    "- 2.8% Hispanic/Latino\n",
    "\n",
    "Another study, using data compiled by the US Drug Trial Snapshot (DTS) (65) , identifed the following participation rates in Oncological trials from a subset of almost 10,000 participants:\n",
    "\n",
    "\n",
    "- 79.2% White\n",
    "- 10.87% Black/African-American\n",
    "- 3.48% Asian\n",
    "- 6.07% Other (Hispanic/Latino)\n",
    "\n",
    "\n",
    "In a similar study conducted for approved treatments for breast cancer in the US in 2020, the following participation levels were determined (62):\n",
    "\n",
    "- White participants were over-represented by 32%\n",
    "- Asian participants were over-represented by 95%\n",
    "- Black participants were under-represented by 38%\n",
    "- Hispanic participants were over-represented by 36%\n",
    "\n",
    "\n",
    "\n",
    "<br>\n",
    "A similar theme exists for ethnic minority population participation in clinical trials worldwide (57). There are several possible reasons for this general under-representation. There is an obvious financial-cost to participating in clinical trials. Another reason may be due to patient mistrust (60), health insurance restrictions (60), lack of available information on institutions conducting trials and even physicians not informing ethnic minorities of existing trials (61). There are naturally concerns over data privacy also. \n"
   ]
  },
  {
   "cell_type": "markdown",
   "id": "08f389ff",
   "metadata": {},
   "source": [
    "<b>Cancer Death Rates in US population 2011-2015 by ethnic group</b>\n",
    "\n",
    "![Cancerdeaths.png](Images/Cancer_deaths.png)\n",
    "<br>\n",
    "<i>Figure adapted from reference 63</i>\n",
    "\n",
    "<b>Participation Rates by ethnic group in clinical trials</b>\n",
    "\n",
    "![ethnic.png](Images/ethnic.png)\n",
    "<br>\n",
    "<i>Figure adapted from reference 65</i>"
   ]
  },
  {
   "cell_type": "markdown",
   "id": "820422f5",
   "metadata": {},
   "source": [
    "We can see from the above graph how in most cases, Whites are similarly/less-affected than other groups from some disease types. This shows how important is is to increase the participation levels of minroty ethnic group.\n",
    "There is significant concern in medical circles about this phenomenon. Under-representation of certain ethnic groups opens up the possiblilty of gaps in understanding of how certain diseases affects different ethnic groups. Several projects have commenced in order to attempt to correct this participation imbalance. Recent FDA guidance has re-emphasised the importance of [ethnic divertsity in clinical trials](https://www.fda.gov/consumers/consumer-updates/fda-encourages-more-participation-diversity-clinical-trials). Studies have concluded that the most effective ways to combat this imbalance are to (63,64):\n",
    "- Enhance patient trust in medical practitioners \n",
    "- Provide information in languages other than English in predominantly English-speaking countries \n",
    "- Increased use of patient navigators (trained staff who can provide accurate information and tool necessary to enroll in a clinical trial)\n",
    "- Increased renumeration for participation\n",
    "- Increased education about the advantages of clinical trials\n",
    "\n",
    "\n"
   ]
  },
  {
   "cell_type": "markdown",
   "id": "59e3ea29",
   "metadata": {},
   "source": [
    "Now let's try to re-create our general findings for our dataset. This variable will be a categorical variable, with 97% of participants being classified, leaivng 3% for 'Others' as I have seen in research. "
   ]
  },
  {
   "cell_type": "code",
   "execution_count": 11,
   "id": "d7ba2e4f",
   "metadata": {},
   "outputs": [
    {
     "name": "stdout",
     "output_type": "stream",
     "text": [
      "White: 244\n",
      "Black: 27\n",
      "Hispanic: 15\n",
      "Asian: 8\n",
      "Other: 6\n"
     ]
    }
   ],
   "source": [
    "# Classify ethnic/race group participation for clinical trials\n",
    "ethnicity = ['White', 'Black', 'Asian', 'Hispanic', 'Other']\n",
    "rng = np.random.default_rng()\n",
    "\n",
    "# let's define our patient size as 300 again\n",
    "n = 300\n",
    "\n",
    "# From our research, we can safely assume\n",
    "# 80% of participants are White\n",
    "# 10% of participants are Black\n",
    "# 3% of participants are Hispanic\n",
    "# 4% of participants are Asian\n",
    "# 3% of participants are 'Other'\n",
    "\n",
    "\n",
    "ethnicity = rng.choice(ethnicity, 300, p=[0.8,0.1,0.03,0.04,0.03], replace=True)  \n",
    "\n",
    "print('White:' , np.count_nonzero(ethnicity == 'White'))\n",
    "print('Black:', np.count_nonzero(ethnicity == 'Black'))\n",
    "print('Hispanic:' , np.count_nonzero(ethnicity == 'Hispanic'))\n",
    "print('Asian:' , np.count_nonzero(ethnicity == 'Asian'))\n",
    "print('Other:' , np.count_nonzero(ethnicity == 'Other'))\n",
    "\n"
   ]
  },
  {
   "cell_type": "code",
   "execution_count": 12,
   "id": "c4fda25d",
   "metadata": {},
   "outputs": [
    {
     "name": "stdout",
     "output_type": "stream",
     "text": [
      "['White' 'White' 'White' 'White' 'White' 'White' 'White' 'White' 'White'\n",
      " 'Black' 'White' 'Other' 'Black' 'White' 'White' 'White' 'White' 'White'\n",
      " 'Black' 'White' 'White' 'White' 'White' 'White' 'White' 'White' 'White'\n",
      " 'White' 'White' 'White' 'White' 'White' 'Black' 'Hispanic' 'White'\n",
      " 'White' 'White' 'Hispanic' 'White' 'White' 'White' 'White' 'White'\n",
      " 'White' 'White' 'White' 'White' 'White' 'White' 'White' 'White' 'White'\n",
      " 'White' 'Hispanic' 'White' 'White' 'White' 'White' 'White' 'Hispanic'\n",
      " 'White' 'White' 'Hispanic' 'White' 'White' 'White' 'White' 'White'\n",
      " 'White' 'Black' 'White' 'Hispanic' 'White' 'White' 'White' 'Hispanic'\n",
      " 'White' 'White' 'Hispanic' 'White' 'White' 'Black' 'White' 'White'\n",
      " 'White' 'White' 'White' 'White' 'White' 'White' 'White' 'White' 'White'\n",
      " 'White' 'White' 'Black' 'White' 'White' 'Asian' 'White' 'White' 'Black'\n",
      " 'White' 'Asian' 'White' 'White' 'White' 'White' 'White' 'White' 'White'\n",
      " 'White' 'White' 'White' 'Black' 'Black' 'White' 'White' 'White' 'White'\n",
      " 'White' 'White' 'White' 'White' 'White' 'White' 'White' 'White' 'White'\n",
      " 'White' 'Other' 'White' 'White' 'White' 'Asian' 'White' 'White' 'White'\n",
      " 'White' 'White' 'White' 'White' 'White' 'White' 'White' 'White' 'White'\n",
      " 'Hispanic' 'White' 'Other' 'White' 'White' 'White' 'White' 'Black'\n",
      " 'Black' 'White' 'White' 'White' 'White' 'White' 'White' 'White' 'White'\n",
      " 'White' 'White' 'White' 'White' 'White' 'Black' 'White' 'White' 'White'\n",
      " 'White' 'White' 'White' 'Hispanic' 'White' 'White' 'White' 'White'\n",
      " 'White' 'White' 'Other' 'White' 'White' 'Hispanic' 'Black' 'Black'\n",
      " 'Black' 'White' 'White' 'Black' 'White' 'White' 'White' 'Asian' 'White'\n",
      " 'White' 'White' 'Black' 'White' 'White' 'Black' 'Hispanic' 'White'\n",
      " 'White' 'White' 'White' 'White' 'White' 'White' 'White' 'White' 'White'\n",
      " 'White' 'White' 'White' 'White' 'Asian' 'White' 'White' 'White' 'White'\n",
      " 'White' 'Hispanic' 'Other' 'Other' 'White' 'White' 'White' 'White'\n",
      " 'White' 'Black' 'White' 'Asian' 'White' 'White' 'Black' 'White' 'White'\n",
      " 'White' 'White' 'White' 'White' 'White' 'White' 'White' 'Black' 'White'\n",
      " 'White' 'White' 'White' 'White' 'White' 'White' 'White' 'White' 'White'\n",
      " 'White' 'Black' 'White' 'White' 'Black' 'White' 'White' 'White' 'White'\n",
      " 'White' 'White' 'White' 'White' 'White' 'White' 'White' 'White' 'Asian'\n",
      " 'Black' 'White' 'White' 'Black' 'White' 'White' 'White' 'White' 'White'\n",
      " 'Black' 'White' 'Hispanic' 'White' 'White' 'Hispanic' 'White' 'White'\n",
      " 'White' 'Asian' 'White' 'White' 'White' 'White']\n",
      "The type of the data is: <class 'numpy.ndarray'>\n"
     ]
    }
   ],
   "source": [
    "# Let's look at the data\n",
    "print(ethnicity)\n",
    "print('The type of the data is:',type(ethnicity))"
   ]
  },
  {
   "cell_type": "code",
   "execution_count": 13,
   "id": "90ba4ffb",
   "metadata": {},
   "outputs": [
    {
     "data": {
      "image/png": "[encoded data removed]",
      "text/plain": [
       "<Figure size 1080x576 with 1 Axes>"
      ]
     },
     "metadata": {},
     "output_type": "display_data"
    }
   ],
   "source": [
    "# Let's visualise our results\n",
    "plt.figure(figsize=(15,8))\n",
    "\n",
    "# Create the pandas DataFrame\n",
    "df_ethnicity = pd.DataFrame(ethnicity, columns = ['Race/Ethnicity'])\n",
    "df_ethnicity\n",
    "\n",
    "df_ethnicity.groupby('Race/Ethnicity').size().plot(kind = 'pie', x=df_ethnicity, autopct='%.1f%%', \n",
    "                                        fontsize= 10,colors=('red', 'skyblue','pink','grey', 'green'))\n",
    "plt.title('Race/Ethnicity Participation', fontweight = 'bold', fontsize = 20)\n",
    "plt.ylabel('Race/Ethnicity');"
   ]
  },
  {
   "cell_type": "code",
   "execution_count": 14,
   "id": "4ed4bf24",
   "metadata": {
    "scrolled": true
   },
   "outputs": [
    {
     "data": {
      "image/png": "[encoded data removed]",
      "text/plain": [
       "<Figure size 1080x576 with 1 Axes>"
      ]
     },
     "metadata": {},
     "output_type": "display_data"
    }
   ],
   "source": [
    "# Lets create a barplot for this data\n",
    "# Adapted from reference 55\n",
    "plt.figure(figsize=(15,8))\n",
    "with sns.axes_style(\"ticks\"):\n",
    "    sns.countplot(x=df_ethnicity['Race/Ethnicity'],data=df_ethnicity)\n",
    "    plt.title('Race/Ethnicity Participation', fontweight = 'bold', fontsize = 20)\n",
    "    plt.xlabel('Ethnicity/Race', fontsize = 15)\n",
    "    plt.ylabel('Frequency', fontsize = 15)"
   ]
  },
  {
   "cell_type": "markdown",
   "id": "50f15e8d",
   "metadata": {},
   "source": [
    "We can see from the resulting pie-chart and barplot that our results are quite similar to what we have discovered during research. This will serve us well as we continue to build towards constructing the tools necessary to synthesise our dataset."
   ]
  },
  {
   "cell_type": "markdown",
   "id": "f6725051",
   "metadata": {},
   "source": [
    "##### Occurrence of Adverse Events in a Cancer Clinical Trial"
   ]
  },
  {
   "cell_type": "markdown",
   "id": "82e64ea7",
   "metadata": {},
   "source": [
    "An interesting aspect to monitor is the occurrence of adverse events (AEs) in early-stage clinical trials. We have already discussed the different stages of a clinical trial, ranging from Phase I up to Phase IV. The main goal in Phase I is to determine safe levels at which to administer the new therapeutic which will then be implemented in later stages (66). Common reasons for a participant to leave a trial might be that their disease has progressed, stress due to being involved, financial burden associated with being participating, or a participant has had an adverse reaction to a drug (66). The reporting of adverse events is essential in determining the toxicity levels of a drug (67). AE's can lead to severe delays in the progression of a therapeutic through the clinical stages and may even result in the termination of a clinical trial. "
   ]
  },
  {
   "cell_type": "markdown",
   "id": "98e97d54",
   "metadata": {},
   "source": [
    "The reporting and collection of data regarding adverse events leaves a lot to be desired. In Phase I, terms such as 'maximum-tolerated dose' and 'dose-limiting toxicity' are applied but can differ in meaning among trials (67). In Phase II and Phase III, certain adverse events may be under-reported due to mildness of symptoms while some adverse events may be 'over-reported' due to enhanced focus as they are of special interest (67). The overall issues regarding the process of reporting adverse events can be summarised as such (68):\n",
    "\n",
    "- Patient experiencing the symptom. This has obvious pitfalls in where the patient doesnt report any symptoms or they feel it is unrelated to the therapy. Mild or expected symptoms may go unreported.\n",
    "\n",
    "- Physician records the adverse event. Here, the physician may feel the symptom is not related to the therapy and not disclose the issue. The physician may also make an incorrect assessment of the symptom or not provide enough detail when describing th eevent, making it impossible to categorise.\n",
    "\n",
    "- Difficulty in ascribing an adverse event. A patient's own peronsal characteristics may hinder the ability of a physician of ascribing an adverse event. The broadening of criteria for participation in clinical trials may result in some patients having 'pre-conditions' that then may result in inaccurate reporting of adverse events.\n",
    "\n",
    "\n",
    "<b>Adverse Event Reporting</b>\n",
    "![symp.png](Images/symp.png)\n",
    "<br>\n",
    "<i>Figure adapted from reference 68</i>"
   ]
  },
  {
   "cell_type": "markdown",
   "id": "b646471c",
   "metadata": {},
   "source": [
    "This lack of structure in reporting and detailing adverse events led to the organsing of a 'consensus-building workshop' in 2017 between regulatory agencies worldwide and the US National Cancer Institute (NCI) (67). It was agreed to try incorporate a more standardised approach to recording adverse events. Recommendations included the following (67):\n",
    "\n",
    "- Improving the 'time-to-reporting' of adverse events. This is self-explanatory. This is reducing the time it takes to report an event.\n",
    "\n",
    "- Use standardised terminology in reporting of data for adverse events. This would prevent the mis-classification of adverse events and facilitate the collation of data on all events. This would also aid in the publishing of information regarding trials. \n",
    "\n",
    "- Improve education on the adverse event process. This could come in the form of courses or seminars. \n"
   ]
  },
  {
   "cell_type": "markdown",
   "id": "eb6fbc81",
   "metadata": {},
   "source": [
    "Almost all participants in clinical trials experience adverse events. In a landmark paper reviewing the occurrences of adverse events during Phase I of Oncology clinical trials between 2003-2013 in the USA (66), it was determined that patients experience on average 25.1 adverse events over an average of 70-day period. This was determined from a set of 250 enrolled patients (66). The most common adverse events were pain, constitutional symptoms (weight loss, fatigue, fever) and gastrointestinal symptoms (66). It is to be expected that Phase I trials would have a high adverse event rate.\n",
    "\n",
    "\n",
    "<b>Common adverse events</b>\n",
    "![tab.png](Images/tab.png)\n",
    "<br>\n",
    "<i>Figure adapted from reference 66</i>"
   ]
  },
  {
   "cell_type": "markdown",
   "id": "f22bc806",
   "metadata": {},
   "source": [
    "We are interested in adverse event rates in the general population in clinical trials. A very interesting review carried out by <i>Luo et al. (2016)</i> broke down the incidence of adverse events based on age (69). In this review, a participants' ages were broken down into 10-year brackets. It was calculated that over 20% of participants in the 20-29 age group experienced adverse events and almost 30% of participants in the 70-100 age group experienced adverse events (69). On average 26.2% of respondants experienced an adverse event over the duration of the clinical trial (69).\n",
    "\n",
    "<b>Occurrences of adverse events by age group</b>\n",
    "\n",
    "![inc.png](Images/inc.png)\n",
    "\n",
    "<br>\n",
    "<i>Figure adapted from reference 69</i>"
   ]
  },
  {
   "cell_type": "markdown",
   "id": "8745a935",
   "metadata": {},
   "source": [
    "Let's try reflect this in our dataset. This variable will be categorical (as we have only two possible values). We can then set probability values to align with knowledge gained in our research to date. "
   ]
  },
  {
   "cell_type": "code",
   "execution_count": 15,
   "id": "c6f38ea7",
   "metadata": {},
   "outputs": [
    {
     "data": {
      "text/html": [
       "<div>\n",
       "<style scoped>\n",
       "    .dataframe tbody tr th:only-of-type {\n",
       "        vertical-align: middle;\n",
       "    }\n",
       "\n",
       "    .dataframe tbody tr th {\n",
       "        vertical-align: top;\n",
       "    }\n",
       "\n",
       "    .dataframe thead th {\n",
       "        text-align: right;\n",
       "    }\n",
       "</style>\n",
       "<table border=\"1\" class=\"dataframe\">\n",
       "  <thead>\n",
       "    <tr style=\"text-align: right;\">\n",
       "      <th></th>\n",
       "      <th>Adverse Events</th>\n",
       "    </tr>\n",
       "  </thead>\n",
       "  <tbody>\n",
       "    <tr>\n",
       "      <th>False</th>\n",
       "      <td>221</td>\n",
       "    </tr>\n",
       "    <tr>\n",
       "      <th>True</th>\n",
       "      <td>79</td>\n",
       "    </tr>\n",
       "  </tbody>\n",
       "</table>\n",
       "</div>"
      ],
      "text/plain": [
       "       Adverse Events\n",
       "False             221\n",
       "True               79"
      ]
     },
     "execution_count": 15,
     "metadata": {},
     "output_type": "execute_result"
    }
   ],
   "source": [
    "# Create a Dataframe of our age variable\n",
    "df_age = pd.DataFrame(age, columns = ['Age'])\n",
    "df_age\n",
    "\n",
    "# Classify adverse events for clinical trials\n",
    "adverse_Event = [True, False]\n",
    "rng = np.random.default_rng()\n",
    "\n",
    "# let's define our patient size as 300 again\n",
    "n = 300\n",
    "\n",
    "# From our research, we can safely assume 26% of participants will experience\n",
    "# an adverse event over the course of the trial. Let's try repicate this\n",
    "adverse_Event = rng.choice(adverse_Event, 300, p=[0.26,0.74], replace=True)  \n",
    "adverse_Event\n",
    "\n",
    "\n",
    "# Generate a new column that displays our findings for adverse events\n",
    "df_age['Adverse Events'] = adverse_Event\n",
    "df_age\n",
    "\n",
    "# Let's confirm our code worked\n",
    "bool_Count = df_age['Adverse Events'].value_counts()\n",
    "bool_Count\n",
    "\n",
    "bool_Count = pd.DataFrame(bool_Count)\n",
    "bool_Count"
   ]
  },
  {
   "cell_type": "code",
   "execution_count": 16,
   "id": "6dd48f53",
   "metadata": {},
   "outputs": [
    {
     "data": {
      "text/plain": [
       "Text(0.5, 1.0, 'Adverse Events')"
      ]
     },
     "execution_count": 16,
     "metadata": {},
     "output_type": "execute_result"
    },
    {
     "data": {
      "image/png": "[encoded data removed]",
      "text/plain": [
       "<Figure size 432x288 with 1 Axes>"
      ]
     },
     "metadata": {},
     "output_type": "display_data"
    }
   ],
   "source": [
    "# Lets create a barplot for this data\n",
    "bool_Count.plot(kind='barh', color = 'green', ec = 'blue', )\n",
    "plt.xlabel('Occurrences', fontsize = 15)\n",
    "plt.title('Adverse Events', fontweight = 'bold', fontsize = 20)\n"
   ]
  },
  {
   "cell_type": "markdown",
   "id": "6c12ae5c",
   "metadata": {},
   "source": [
    "##### Socio-economic Status of Participants"
   ]
  },
  {
   "cell_type": "markdown",
   "id": "0c53d810",
   "metadata": {},
   "source": [
    "As discussed earlier, we went through a variet of reasons an individual may participate in a clinical trial. One of the main reasons was financial imbursement. It would be an interesting aside to exmaine whether we see any correlation between socio-economic status and participation in clinical trials. A landmark review by <i>Meyer et al. (2021)</i> of participants in clinical trials in the US for the last ten years, found that 'higher-earners' (with a median income of over €44,000) were more likely to participate in clinical trials (41). This is confirmed by another review, conducted by <i>Saphner et al. (2021)</i>, that individuals with a higher income were more likely to participate in a clinical trial (43). Another study, conducted by <i>Unger et al. (2016)</i>, found that individuals with an income of less than €44,000 were 27% less likely to participate in clinical trials (70). \n",
    "<br>\n",
    "Again, this will be a discrete categorical variable. "
   ]
  },
  {
   "cell_type": "code",
   "execution_count": 17,
   "id": "9f07ec5e",
   "metadata": {},
   "outputs": [
    {
     "data": {
      "text/html": [
       "<div>\n",
       "<style scoped>\n",
       "    .dataframe tbody tr th:only-of-type {\n",
       "        vertical-align: middle;\n",
       "    }\n",
       "\n",
       "    .dataframe tbody tr th {\n",
       "        vertical-align: top;\n",
       "    }\n",
       "\n",
       "    .dataframe thead th {\n",
       "        text-align: right;\n",
       "    }\n",
       "</style>\n",
       "<table border=\"1\" class=\"dataframe\">\n",
       "  <thead>\n",
       "    <tr style=\"text-align: right;\">\n",
       "      <th></th>\n",
       "      <th>Income over 44K</th>\n",
       "    </tr>\n",
       "  </thead>\n",
       "  <tbody>\n",
       "    <tr>\n",
       "      <th>0</th>\n",
       "      <td>False</td>\n",
       "    </tr>\n",
       "    <tr>\n",
       "      <th>1</th>\n",
       "      <td>True</td>\n",
       "    </tr>\n",
       "    <tr>\n",
       "      <th>2</th>\n",
       "      <td>True</td>\n",
       "    </tr>\n",
       "    <tr>\n",
       "      <th>3</th>\n",
       "      <td>True</td>\n",
       "    </tr>\n",
       "    <tr>\n",
       "      <th>4</th>\n",
       "      <td>True</td>\n",
       "    </tr>\n",
       "    <tr>\n",
       "      <th>...</th>\n",
       "      <td>...</td>\n",
       "    </tr>\n",
       "    <tr>\n",
       "      <th>295</th>\n",
       "      <td>True</td>\n",
       "    </tr>\n",
       "    <tr>\n",
       "      <th>296</th>\n",
       "      <td>True</td>\n",
       "    </tr>\n",
       "    <tr>\n",
       "      <th>297</th>\n",
       "      <td>False</td>\n",
       "    </tr>\n",
       "    <tr>\n",
       "      <th>298</th>\n",
       "      <td>False</td>\n",
       "    </tr>\n",
       "    <tr>\n",
       "      <th>299</th>\n",
       "      <td>True</td>\n",
       "    </tr>\n",
       "  </tbody>\n",
       "</table>\n",
       "<p>300 rows × 1 columns</p>\n",
       "</div>"
      ],
      "text/plain": [
       "     Income over 44K\n",
       "0              False\n",
       "1               True\n",
       "2               True\n",
       "3               True\n",
       "4               True\n",
       "..               ...\n",
       "295             True\n",
       "296             True\n",
       "297            False\n",
       "298            False\n",
       "299             True\n",
       "\n",
       "[300 rows x 1 columns]"
      ]
     },
     "execution_count": 17,
     "metadata": {},
     "output_type": "execute_result"
    }
   ],
   "source": [
    "# Classify adverse events for clinical trials\n",
    "income_above_44k = [True, False]\n",
    "rng = np.random.default_rng()\n",
    "\n",
    "# let's define our patient size as 300 again\n",
    "n = 300\n",
    "\n",
    "# From our research, we can safely assume 65% of participants have a median income of over €44,000\n",
    "# Let's try repicate this\n",
    "income_above_44k = rng.choice(income_above_44k, 300, p=[0.65,0.35], replace=True)  \n",
    "\n",
    "# Create the pandas DataFrame\n",
    "df_income = pd.DataFrame(income_above_44k, columns = ['Income over 44K'])\n",
    "df_income\n",
    "\n"
   ]
  },
  {
   "cell_type": "code",
   "execution_count": 18,
   "id": "582d832e",
   "metadata": {},
   "outputs": [
    {
     "data": {
      "text/plain": [
       "Text(0.5, 1.0, 'Income over €44K')"
      ]
     },
     "execution_count": 18,
     "metadata": {},
     "output_type": "execute_result"
    },
    {
     "data": {
      "image/png": "[encoded data removed]",
      "text/plain": [
       "<Figure size 432x288 with 1 Axes>"
      ]
     },
     "metadata": {},
     "output_type": "display_data"
    }
   ],
   "source": [
    "# Let's confirm our code worked\n",
    "income = df_income['Income over 44K'].value_counts()\n",
    "income\n",
    "\n",
    "income = pd.DataFrame(income)\n",
    "income\n",
    "\n",
    "# Lets create a barplot for this data\n",
    "income.plot(kind='barh', color = 'green', ec = 'blue', )\n",
    "plt.xlabel('Occurrences', fontsize = 15)\n",
    "plt.title('Income over €44K', fontweight = 'bold', fontsize = 20)\n",
    "\n"
   ]
  },
  {
   "cell_type": "markdown",
   "id": "a1477315",
   "metadata": {},
   "source": [
    "### Generation of our synthetic Dataset"
   ]
  },
  {
   "cell_type": "markdown",
   "id": "c7cc864c",
   "metadata": {},
   "source": [
    "Now the time has come to tie together the work we have done and describe the relationships between each of the variables. "
   ]
  },
  {
   "cell_type": "markdown",
   "id": "6b132b81",
   "metadata": {},
   "source": [
    "##### Age"
   ]
  },
  {
   "cell_type": "code",
   "execution_count": 19,
   "id": "2b9f0229",
   "metadata": {},
   "outputs": [
    {
     "data": {
      "text/html": [
       "<div>\n",
       "<style scoped>\n",
       "    .dataframe tbody tr th:only-of-type {\n",
       "        vertical-align: middle;\n",
       "    }\n",
       "\n",
       "    .dataframe tbody tr th {\n",
       "        vertical-align: top;\n",
       "    }\n",
       "\n",
       "    .dataframe thead th {\n",
       "        text-align: right;\n",
       "    }\n",
       "</style>\n",
       "<table border=\"1\" class=\"dataframe\">\n",
       "  <thead>\n",
       "    <tr style=\"text-align: right;\">\n",
       "      <th></th>\n",
       "      <th>Age</th>\n",
       "    </tr>\n",
       "  </thead>\n",
       "  <tbody>\n",
       "    <tr>\n",
       "      <th>0</th>\n",
       "      <td>50.1</td>\n",
       "    </tr>\n",
       "    <tr>\n",
       "      <th>1</th>\n",
       "      <td>77.4</td>\n",
       "    </tr>\n",
       "    <tr>\n",
       "      <th>2</th>\n",
       "      <td>27.1</td>\n",
       "    </tr>\n",
       "    <tr>\n",
       "      <th>3</th>\n",
       "      <td>77.2</td>\n",
       "    </tr>\n",
       "    <tr>\n",
       "      <th>4</th>\n",
       "      <td>39.4</td>\n",
       "    </tr>\n",
       "    <tr>\n",
       "      <th>...</th>\n",
       "      <td>...</td>\n",
       "    </tr>\n",
       "    <tr>\n",
       "      <th>295</th>\n",
       "      <td>77.0</td>\n",
       "    </tr>\n",
       "    <tr>\n",
       "      <th>296</th>\n",
       "      <td>41.6</td>\n",
       "    </tr>\n",
       "    <tr>\n",
       "      <th>297</th>\n",
       "      <td>62.0</td>\n",
       "    </tr>\n",
       "    <tr>\n",
       "      <th>298</th>\n",
       "      <td>18.6</td>\n",
       "    </tr>\n",
       "    <tr>\n",
       "      <th>299</th>\n",
       "      <td>29.0</td>\n",
       "    </tr>\n",
       "  </tbody>\n",
       "</table>\n",
       "<p>300 rows × 1 columns</p>\n",
       "</div>"
      ],
      "text/plain": [
       "      Age\n",
       "0    50.1\n",
       "1    77.4\n",
       "2    27.1\n",
       "3    77.2\n",
       "4    39.4\n",
       "..    ...\n",
       "295  77.0\n",
       "296  41.6\n",
       "297  62.0\n",
       "298  18.6\n",
       "299  29.0\n",
       "\n",
       "[300 rows x 1 columns]"
      ]
     },
     "execution_count": 19,
     "metadata": {},
     "output_type": "execute_result"
    }
   ],
   "source": [
    "new_age = np.random.default_rng(1234).triangular(1, 54, 90, size= 300)\n",
    "new_age = age.round(1) # let's round our ages to one decimal place (adapted from reference 46)\n",
    "clinical_Trial = pd.DataFrame(new_age, columns = ['Age'])\n",
    "clinical_Trial"
   ]
  },
  {
   "cell_type": "markdown",
   "id": "2b2695d7",
   "metadata": {},
   "source": [
    "##### Gender"
   ]
  },
  {
   "cell_type": "code",
   "execution_count": 20,
   "id": "e6d7a624",
   "metadata": {},
   "outputs": [],
   "source": [
    "# Classify gender participation for clinical trials\n",
    "new_gender = ['Male', 'Female']\n",
    "rng = np.random.default_rng(123)\n",
    "# let's define our patient size as 300\n",
    "n = 300\n",
    "# From our research, we can safely assume 65% of participants are male and\n",
    "# 35% of participants are female. Let's try repicate this\n",
    "new_gender = rng.choice(new_gender, 300, p=[0.65,0.35], replace=True)  \n",
    "clinical_Trial['Gender'] = new_gender"
   ]
  },
  {
   "cell_type": "markdown",
   "id": "aec3f5f0",
   "metadata": {},
   "source": [
    "##### Race"
   ]
  },
  {
   "cell_type": "code",
   "execution_count": 21,
   "id": "796fbb54",
   "metadata": {},
   "outputs": [],
   "source": [
    "# Classify ethnic/race group participation for clinical trials\n",
    "new_ethnicity = ['White', 'Black', 'Asian', 'Hispanic', 'Other']\n",
    "rng = np.random.default_rng(13245)\n",
    "\n",
    "# let's define our patient size as 300 again\n",
    "n = 300\n",
    "\n",
    "# From our research, we can safely assume\n",
    "# 80% of participants are White\n",
    "# 10% of participants are Black\n",
    "# 3% of participants are Hispanic\n",
    "# 4% of participants are Asian\n",
    "# 3% of participants are 'Other'\n",
    "\n",
    "new_ethnicity = rng.choice(new_ethnicity, 300, p=[0.8,0.1,0.03,0.04,0.03], replace=True) \n",
    "clinical_Trial['Race/Ethnicity'] = new_ethnicity"
   ]
  },
  {
   "cell_type": "markdown",
   "id": "d465419d",
   "metadata": {},
   "source": [
    "##### Adverse Events"
   ]
  },
  {
   "cell_type": "code",
   "execution_count": 22,
   "id": "99a71129",
   "metadata": {},
   "outputs": [],
   "source": [
    "# Classify adverse events for clinical trials\n",
    "new_adverse_Event = [True, False]\n",
    "rng = np.random.default_rng(12345)\n",
    "\n",
    "# let's define our patient size as 300 again\n",
    "n = 300\n",
    "\n",
    "# From our research, we can safely assume 26% of participants will experience\n",
    "# an adverse event over the course of the trial. Let's try repicate this\n",
    "new_adverse_Event = rng.choice(new_adverse_Event, 300, p=[0.26,0.74], replace=True)  \n",
    "\n",
    "# Generate a new column that displays our findings for adverse events\n",
    "clinical_Trial['Adverse Event'] = new_adverse_Event\n"
   ]
  },
  {
   "cell_type": "markdown",
   "id": "e232ea8f",
   "metadata": {},
   "source": [
    "##### Socio-Economic Status"
   ]
  },
  {
   "cell_type": "code",
   "execution_count": 23,
   "id": "c9439ca7",
   "metadata": {
    "scrolled": true
   },
   "outputs": [
    {
     "data": {
      "text/html": [
       "<div>\n",
       "<style scoped>\n",
       "    .dataframe tbody tr th:only-of-type {\n",
       "        vertical-align: middle;\n",
       "    }\n",
       "\n",
       "    .dataframe tbody tr th {\n",
       "        vertical-align: top;\n",
       "    }\n",
       "\n",
       "    .dataframe thead th {\n",
       "        text-align: right;\n",
       "    }\n",
       "</style>\n",
       "<table border=\"1\" class=\"dataframe\">\n",
       "  <thead>\n",
       "    <tr style=\"text-align: right;\">\n",
       "      <th></th>\n",
       "      <th>Age</th>\n",
       "      <th>Gender</th>\n",
       "      <th>Race/Ethnicity</th>\n",
       "      <th>Adverse Event</th>\n",
       "      <th>Household Income Over €44k</th>\n",
       "    </tr>\n",
       "  </thead>\n",
       "  <tbody>\n",
       "    <tr>\n",
       "      <th>0</th>\n",
       "      <td>50.1</td>\n",
       "      <td>Female</td>\n",
       "      <td>White</td>\n",
       "      <td>True</td>\n",
       "      <td>True</td>\n",
       "    </tr>\n",
       "    <tr>\n",
       "      <th>1</th>\n",
       "      <td>77.4</td>\n",
       "      <td>Male</td>\n",
       "      <td>White</td>\n",
       "      <td>False</td>\n",
       "      <td>True</td>\n",
       "    </tr>\n",
       "    <tr>\n",
       "      <th>2</th>\n",
       "      <td>27.1</td>\n",
       "      <td>Male</td>\n",
       "      <td>White</td>\n",
       "      <td>False</td>\n",
       "      <td>False</td>\n",
       "    </tr>\n",
       "    <tr>\n",
       "      <th>3</th>\n",
       "      <td>77.2</td>\n",
       "      <td>Male</td>\n",
       "      <td>White</td>\n",
       "      <td>False</td>\n",
       "      <td>False</td>\n",
       "    </tr>\n",
       "    <tr>\n",
       "      <th>4</th>\n",
       "      <td>39.4</td>\n",
       "      <td>Male</td>\n",
       "      <td>White</td>\n",
       "      <td>False</td>\n",
       "      <td>True</td>\n",
       "    </tr>\n",
       "    <tr>\n",
       "      <th>...</th>\n",
       "      <td>...</td>\n",
       "      <td>...</td>\n",
       "      <td>...</td>\n",
       "      <td>...</td>\n",
       "      <td>...</td>\n",
       "    </tr>\n",
       "    <tr>\n",
       "      <th>295</th>\n",
       "      <td>77.0</td>\n",
       "      <td>Male</td>\n",
       "      <td>White</td>\n",
       "      <td>False</td>\n",
       "      <td>False</td>\n",
       "    </tr>\n",
       "    <tr>\n",
       "      <th>296</th>\n",
       "      <td>41.6</td>\n",
       "      <td>Male</td>\n",
       "      <td>White</td>\n",
       "      <td>False</td>\n",
       "      <td>True</td>\n",
       "    </tr>\n",
       "    <tr>\n",
       "      <th>297</th>\n",
       "      <td>62.0</td>\n",
       "      <td>Female</td>\n",
       "      <td>White</td>\n",
       "      <td>True</td>\n",
       "      <td>True</td>\n",
       "    </tr>\n",
       "    <tr>\n",
       "      <th>298</th>\n",
       "      <td>18.6</td>\n",
       "      <td>Male</td>\n",
       "      <td>Black</td>\n",
       "      <td>True</td>\n",
       "      <td>True</td>\n",
       "    </tr>\n",
       "    <tr>\n",
       "      <th>299</th>\n",
       "      <td>29.0</td>\n",
       "      <td>Male</td>\n",
       "      <td>White</td>\n",
       "      <td>False</td>\n",
       "      <td>False</td>\n",
       "    </tr>\n",
       "  </tbody>\n",
       "</table>\n",
       "<p>300 rows × 5 columns</p>\n",
       "</div>"
      ],
      "text/plain": [
       "      Age  Gender Race/Ethnicity  Adverse Event  Household Income Over €44k\n",
       "0    50.1  Female          White           True                        True\n",
       "1    77.4    Male          White          False                        True\n",
       "2    27.1    Male          White          False                       False\n",
       "3    77.2    Male          White          False                       False\n",
       "4    39.4    Male          White          False                        True\n",
       "..    ...     ...            ...            ...                         ...\n",
       "295  77.0    Male          White          False                       False\n",
       "296  41.6    Male          White          False                        True\n",
       "297  62.0  Female          White           True                        True\n",
       "298  18.6    Male          Black           True                        True\n",
       "299  29.0    Male          White          False                       False\n",
       "\n",
       "[300 rows x 5 columns]"
      ]
     },
     "execution_count": 23,
     "metadata": {},
     "output_type": "execute_result"
    }
   ],
   "source": [
    "# Classify adverse events for clinical trials\n",
    "income_above_44k_new = [True, False]\n",
    "rng = np.random.default_rng(12345)\n",
    "\n",
    "# let's define our patient size as 300 again\n",
    "n = 300\n",
    "\n",
    "# From our research, we can safely assume 65% of participants have a median income of over €44,000\n",
    "# Let's try repicate this\n",
    "income_above_44k_new = rng.choice(income_above_44k_new, 300, p=[0.65,0.35], replace=True)  \n",
    "\n",
    "# Create the pandas DataFrame\n",
    "clinical_Trial['Household Income Over €44k'] = income_above_44k_new\n",
    "clinical_Trial"
   ]
  },
  {
   "cell_type": "markdown",
   "id": "d7c9173a",
   "metadata": {},
   "source": [
    "### Analysis of our Generated Dataset"
   ]
  },
  {
   "cell_type": "markdown",
   "id": "bc6f62b6",
   "metadata": {},
   "source": [
    "Now let's look at our dataset. "
   ]
  },
  {
   "cell_type": "code",
   "execution_count": 24,
   "id": "fd8a5574",
   "metadata": {},
   "outputs": [
    {
     "data": {
      "text/html": [
       "<div>\n",
       "<style scoped>\n",
       "    .dataframe tbody tr th:only-of-type {\n",
       "        vertical-align: middle;\n",
       "    }\n",
       "\n",
       "    .dataframe tbody tr th {\n",
       "        vertical-align: top;\n",
       "    }\n",
       "\n",
       "    .dataframe thead th {\n",
       "        text-align: right;\n",
       "    }\n",
       "</style>\n",
       "<table border=\"1\" class=\"dataframe\">\n",
       "  <thead>\n",
       "    <tr style=\"text-align: right;\">\n",
       "      <th></th>\n",
       "      <th>Age</th>\n",
       "      <th>Gender</th>\n",
       "      <th>Race/Ethnicity</th>\n",
       "      <th>Adverse Event</th>\n",
       "      <th>Household Income Over €44k</th>\n",
       "    </tr>\n",
       "  </thead>\n",
       "  <tbody>\n",
       "    <tr>\n",
       "      <th>0</th>\n",
       "      <td>50.1</td>\n",
       "      <td>Female</td>\n",
       "      <td>White</td>\n",
       "      <td>True</td>\n",
       "      <td>True</td>\n",
       "    </tr>\n",
       "    <tr>\n",
       "      <th>1</th>\n",
       "      <td>77.4</td>\n",
       "      <td>Male</td>\n",
       "      <td>White</td>\n",
       "      <td>False</td>\n",
       "      <td>True</td>\n",
       "    </tr>\n",
       "    <tr>\n",
       "      <th>2</th>\n",
       "      <td>27.1</td>\n",
       "      <td>Male</td>\n",
       "      <td>White</td>\n",
       "      <td>False</td>\n",
       "      <td>False</td>\n",
       "    </tr>\n",
       "    <tr>\n",
       "      <th>3</th>\n",
       "      <td>77.2</td>\n",
       "      <td>Male</td>\n",
       "      <td>White</td>\n",
       "      <td>False</td>\n",
       "      <td>False</td>\n",
       "    </tr>\n",
       "    <tr>\n",
       "      <th>4</th>\n",
       "      <td>39.4</td>\n",
       "      <td>Male</td>\n",
       "      <td>White</td>\n",
       "      <td>False</td>\n",
       "      <td>True</td>\n",
       "    </tr>\n",
       "    <tr>\n",
       "      <th>5</th>\n",
       "      <td>45.7</td>\n",
       "      <td>Female</td>\n",
       "      <td>White</td>\n",
       "      <td>False</td>\n",
       "      <td>True</td>\n",
       "    </tr>\n",
       "    <tr>\n",
       "      <th>6</th>\n",
       "      <td>66.5</td>\n",
       "      <td>Female</td>\n",
       "      <td>White</td>\n",
       "      <td>False</td>\n",
       "      <td>True</td>\n",
       "    </tr>\n",
       "    <tr>\n",
       "      <th>7</th>\n",
       "      <td>44.9</td>\n",
       "      <td>Male</td>\n",
       "      <td>White</td>\n",
       "      <td>True</td>\n",
       "      <td>True</td>\n",
       "    </tr>\n",
       "    <tr>\n",
       "      <th>8</th>\n",
       "      <td>51.9</td>\n",
       "      <td>Female</td>\n",
       "      <td>White</td>\n",
       "      <td>False</td>\n",
       "      <td>False</td>\n",
       "    </tr>\n",
       "    <tr>\n",
       "      <th>9</th>\n",
       "      <td>12.4</td>\n",
       "      <td>Female</td>\n",
       "      <td>White</td>\n",
       "      <td>False</td>\n",
       "      <td>False</td>\n",
       "    </tr>\n",
       "  </tbody>\n",
       "</table>\n",
       "</div>"
      ],
      "text/plain": [
       "    Age  Gender Race/Ethnicity  Adverse Event  Household Income Over €44k\n",
       "0  50.1  Female          White           True                        True\n",
       "1  77.4    Male          White          False                        True\n",
       "2  27.1    Male          White          False                       False\n",
       "3  77.2    Male          White          False                       False\n",
       "4  39.4    Male          White          False                        True\n",
       "5  45.7  Female          White          False                        True\n",
       "6  66.5  Female          White          False                        True\n",
       "7  44.9    Male          White           True                        True\n",
       "8  51.9  Female          White          False                       False\n",
       "9  12.4  Female          White          False                       False"
      ]
     },
     "execution_count": 24,
     "metadata": {},
     "output_type": "execute_result"
    }
   ],
   "source": [
    "# Display the first 10 rows\n",
    "clinical_Trial.head(10)"
   ]
  },
  {
   "cell_type": "code",
   "execution_count": 25,
   "id": "a3b4fc07",
   "metadata": {},
   "outputs": [
    {
     "data": {
      "text/plain": [
       "(300, 5)"
      ]
     },
     "execution_count": 25,
     "metadata": {},
     "output_type": "execute_result"
    }
   ],
   "source": [
    "# Number of rows/columns (confirming we have indeed 300 rows)\n",
    "clinical_Trial.shape"
   ]
  },
  {
   "cell_type": "markdown",
   "id": "57d2c19c",
   "metadata": {},
   "source": [
    "We can see we have 5 columns and 300 rows. Our dataset has generated as we expected."
   ]
  },
  {
   "cell_type": "code",
   "execution_count": 26,
   "id": "96419ff4",
   "metadata": {},
   "outputs": [
    {
     "data": {
      "text/html": [
       "<div>\n",
       "<style scoped>\n",
       "    .dataframe tbody tr th:only-of-type {\n",
       "        vertical-align: middle;\n",
       "    }\n",
       "\n",
       "    .dataframe tbody tr th {\n",
       "        vertical-align: top;\n",
       "    }\n",
       "\n",
       "    .dataframe thead th {\n",
       "        text-align: right;\n",
       "    }\n",
       "</style>\n",
       "<table border=\"1\" class=\"dataframe\">\n",
       "  <thead>\n",
       "    <tr style=\"text-align: right;\">\n",
       "      <th></th>\n",
       "      <th>Age</th>\n",
       "    </tr>\n",
       "  </thead>\n",
       "  <tbody>\n",
       "    <tr>\n",
       "      <th>count</th>\n",
       "      <td>300.000000</td>\n",
       "    </tr>\n",
       "    <tr>\n",
       "      <th>mean</th>\n",
       "      <td>47.750667</td>\n",
       "    </tr>\n",
       "    <tr>\n",
       "      <th>std</th>\n",
       "      <td>18.304908</td>\n",
       "    </tr>\n",
       "    <tr>\n",
       "      <th>min</th>\n",
       "      <td>6.200000</td>\n",
       "    </tr>\n",
       "    <tr>\n",
       "      <th>25%</th>\n",
       "      <td>34.975000</td>\n",
       "    </tr>\n",
       "    <tr>\n",
       "      <th>50%</th>\n",
       "      <td>48.750000</td>\n",
       "    </tr>\n",
       "    <tr>\n",
       "      <th>75%</th>\n",
       "      <td>61.900000</td>\n",
       "    </tr>\n",
       "    <tr>\n",
       "      <th>max</th>\n",
       "      <td>88.200000</td>\n",
       "    </tr>\n",
       "  </tbody>\n",
       "</table>\n",
       "</div>"
      ],
      "text/plain": [
       "              Age\n",
       "count  300.000000\n",
       "mean    47.750667\n",
       "std     18.304908\n",
       "min      6.200000\n",
       "25%     34.975000\n",
       "50%     48.750000\n",
       "75%     61.900000\n",
       "max     88.200000"
      ]
     },
     "execution_count": 26,
     "metadata": {},
     "output_type": "execute_result"
    }
   ],
   "source": [
    "# This will only work on numeric columns (Age, in our case)\n",
    "clinical_Trial.describe()\n"
   ]
  },
  {
   "cell_type": "markdown",
   "id": "818c8f92",
   "metadata": {},
   "source": [
    "Our age variable has generated as expected also. We can see that the lowest age is 6 and the highest age is 88. This makes sense as we feasibly would not be including anyone over 88 and under 6 in our clinical trials, unless absolutley necessary. The mean age is 48 which is generally correct and we have 300 values. Our 75% percentile is ~62 years old, this is also correct as we have seen in our research that participation tails over in later years. This is for various reasons but primarily the eligibility criteria for enrolling in clinical trials. "
   ]
  },
  {
   "cell_type": "code",
   "execution_count": 27,
   "id": "f8a9abb2",
   "metadata": {},
   "outputs": [
    {
     "name": "stdout",
     "output_type": "stream",
     "text": [
      "<class 'pandas.core.frame.DataFrame'>\n",
      "RangeIndex: 300 entries, 0 to 299\n",
      "Data columns (total 5 columns):\n",
      " #   Column                      Non-Null Count  Dtype  \n",
      "---  ------                      --------------  -----  \n",
      " 0   Age                         300 non-null    float64\n",
      " 1   Gender                      300 non-null    object \n",
      " 2   Race/Ethnicity              300 non-null    object \n",
      " 3   Adverse Event               300 non-null    bool   \n",
      " 4   Household Income Over €44k  300 non-null    bool   \n",
      "dtypes: bool(2), float64(1), object(2)\n",
      "memory usage: 7.7+ KB\n"
     ]
    }
   ],
   "source": [
    "# Basic information on our dataset\n",
    "clinical_Trial.info()\n"
   ]
  },
  {
   "cell_type": "markdown",
   "id": "bb97bd51",
   "metadata": {},
   "source": [
    "As expected, our 'Age' variable is a float, our 'Gender' and 'Race/Ethnicity' variables are objects and our 'Adverse Events' and 'Income over €44k' variables are boolean values. We have 300 values for each and no NULL values, a good start. "
   ]
  },
  {
   "cell_type": "markdown",
   "id": "5bd1c382",
   "metadata": {},
   "source": [
    "Let's begin to explore our dataset and some variables and see if the relationships line up to what we have seen in our research."
   ]
  },
  {
   "cell_type": "code",
   "execution_count": 28,
   "id": "2e138786",
   "metadata": {},
   "outputs": [
    {
     "name": "stdout",
     "output_type": "stream",
     "text": [
      "The number of participiants between 10 - 30 years who experienced an adverse advent is: 9\n",
      "The number of participiants between 31 and 50 who experienced an adverse advent is: 33\n",
      "The number of participiants between 51 and 70 who experienced an adverse advent is: 36\n",
      "The number of participiants over 70 who experienced an adverse advent is: 7\n"
     ]
    }
   ],
   "source": [
    "# Let's look at the percentages of people within certain age brackets who have experienced adverse events in our dataset\n",
    "\n",
    "#10-30 years\n",
    "#Setting limits\n",
    "adverse_age_10 = clinical_Trial[(clinical_Trial['Age'] <= 30) & (clinical_Trial['Age'] > 10)\n",
    "                                    & (clinical_Trial['Adverse Event'] == True ) ].sort_values('Age')\n",
    "#31-50 years\n",
    "#Setting limits\n",
    "adverse_age_31 = clinical_Trial[(clinical_Trial['Age'] <= 50) & (clinical_Trial['Age'] > 30)\n",
    "                                    & (clinical_Trial['Adverse Event'] == True ) ].sort_values('Age')\n",
    "#51-70 years\n",
    "#Setting limits\n",
    "adverse_age_51 = clinical_Trial[(clinical_Trial['Age'] <= 70) & (clinical_Trial['Age'] > 50)\n",
    "                                 & (clinical_Trial['Adverse Event'] == True ) ].sort_values('Age')\n",
    "#71+ years\n",
    "#Setting limits\n",
    "adverse_age_71 = clinical_Trial[(clinical_Trial['Age'] > 70) \n",
    "                                    & (clinical_Trial['Adverse Event'] == True ) ].sort_values('Age')\n",
    "\n",
    "\n",
    "adverse_age_10_sorted= adverse_age_10['Adverse Event'].count()\n",
    "adverse_age_31_sorted= adverse_age_31['Adverse Event'].count()  \n",
    "adverse_age_51_sorted= adverse_age_51['Adverse Event'].count()  \n",
    "adverse_age_71_sorted= adverse_age_71['Adverse Event'].count()  \n",
    "\n",
    "\n",
    "\n",
    "print('The number of participiants between 10 - 30 years who experienced an adverse advent is:',\n",
    "      adverse_age_10_sorted)                         \n",
    "print('The number of participiants between 31 and 50 who experienced an adverse advent is:',\n",
    "     adverse_age_31_sorted)\n",
    "print('The number of participiants between 51 and 70 who experienced an adverse advent is:',\n",
    "      adverse_age_51_sorted)\n",
    "print('The number of participiants over 70 who experienced an adverse advent is:',\n",
    "      adverse_age_71_sorted)\n"
   ]
  },
  {
   "cell_type": "markdown",
   "id": "d792a057",
   "metadata": {},
   "source": [
    "We can see that we have 9 adverse events in the 10-30 age bracket, 33 adverse events in the 31-50 age bracket, 36 adverse events in the 51-70 age bracket and finally 7 adverse events in the over 70 age bracket. This ties in to what we found in our research in where there is a drop off in adverse events in the older age group. This is also due to less participants in this age bracket. \n",
    "<br>\n",
    "Let's explore the age difference between genders."
   ]
  },
  {
   "cell_type": "code",
   "execution_count": 29,
   "id": "9ca5797b",
   "metadata": {},
   "outputs": [],
   "source": [
    "#10-50 years Male\n",
    "#Setting limits\n",
    "young_Male= clinical_Trial[(clinical_Trial['Age'] <= 50) & (clinical_Trial['Age'] > 10)\n",
    "                                    & (clinical_Trial['Gender'] == 'Male' ) ]\n",
    "young_Male = young_Male[[ 'Age', 'Gender']] # Isolate what we want\n",
    "\n",
    "#50+ years Male\n",
    "#Setting limits\n",
    "old_Male = clinical_Trial[(clinical_Trial['Age'] > 50)\n",
    "                                    & (clinical_Trial['Gender'] == 'Male' ) ]\n",
    "old_Male = old_Male[[ 'Age', 'Gender']] # Isolate what we want\n",
    "\n",
    "#10-50 years Female\n",
    "#Setting limits\n",
    "young_Female = clinical_Trial[(clinical_Trial['Age'] <= 50) & (clinical_Trial['Age'] > 10)\n",
    "                                 & (clinical_Trial['Gender'] == 'Female' ) ]\n",
    "young_Female = young_Female[[ 'Age', 'Gender']] # Isolate what we want\n",
    "\n",
    "#50+ years Female\n",
    "#Setting limits\n",
    "old_Female = clinical_Trial[(clinical_Trial['Age'] > 50) \n",
    "                                    & (clinical_Trial['Gender'] == 'Female' ) ]\n",
    "old_Female = old_Female[[ 'Age', 'Gender']] # Isolate what we want\n",
    "\n"
   ]
  },
  {
   "cell_type": "code",
   "execution_count": 30,
   "id": "0b4a2a19",
   "metadata": {},
   "outputs": [],
   "source": [
    "# Now lets count the occurrences of each Value\n",
    "# Old Male\n",
    "OM  =  old_Male['Gender'].value_counts()\n",
    "OM = old_Male['Gender'].value_counts().rename_axis('Gender').reset_index(name='Count')\n",
    "\n",
    "# Young Male\n",
    "YM  =  young_Male['Gender'].value_counts()\n",
    "YM = young_Male['Gender'].value_counts().rename_axis('Gender').reset_index(name='Count')\n",
    "\n",
    "# Old Female\n",
    "OF  =  old_Female['Gender'].value_counts()\n",
    "OF = old_Female['Gender'].value_counts().rename_axis('Gender').reset_index(name='Count')\n",
    "\n",
    "# Young Female\n",
    "YF  =  young_Female['Gender'].value_counts()\n",
    "YF = young_Female['Gender'].value_counts().rename_axis('Gender').reset_index(name='Count')\n"
   ]
  },
  {
   "cell_type": "code",
   "execution_count": 31,
   "id": "f4cfbf25",
   "metadata": {},
   "outputs": [
    {
     "data": {
      "image/png": "[encoded data removed]",
      "text/plain": [
       "<Figure size 864x864 with 4 Axes>"
      ]
     },
     "metadata": {},
     "output_type": "display_data"
    }
   ],
   "source": [
    "# Let's use subplots to plot our data\n",
    "fig, (ax1,ax2,ax3,ax4) = plt.subplots(1,4, figsize=(12, 12))\n",
    "\n",
    "ax1.bar(OF['Gender'], OF['Count'], label='Over 50', color = 'green',)\n",
    "ax1.set_title('Over 50 Female', fontsize = 15)\n",
    "ax1.set_ylabel('Occurrences', fontsize = 15)\n",
    "ax1.set_ylim([0, 120]) # setting y limits\n",
    "\n",
    "\n",
    "\n",
    "ax2.bar(YF['Gender'], YF['Count'], label='Under 50', color = 'orange')\n",
    "ax2.set_title('Under 50 Female', fontsize = 15)\n",
    "ax2.set_ylim([0, 120])\n",
    "\n",
    "\n",
    "ax3.bar(YM['Gender'], YM['Count'], label='Under 50', color = 'blue')\n",
    "ax3.set_title('Under 50 Male', fontsize = 15)\n",
    "ax3.set_ylim([0, 120])\n",
    "\n",
    "\n",
    "ax4.bar(OM['Gender'], OM['Count'], label='Over 50', color = 'red')\n",
    "ax4.set_title('Over 50 Male', fontsize = 15)\n",
    "ax4.set_ylim([0, 120]);\n"
   ]
  },
  {
   "cell_type": "markdown",
   "id": "3bc8a969",
   "metadata": {},
   "source": [
    "As expected, we can see that males under the age of 50 are the most represented demographic in our trial daatset. This ties in with what we have seen in our research.\n",
    "<br>\n",
    "Let's have a look at race/ethnicity in conjunction with our gender parameter to examine the breakdown."
   ]
  },
  {
   "cell_type": "code",
   "execution_count": 32,
   "id": "1232f92c",
   "metadata": {},
   "outputs": [],
   "source": [
    "# White Male\n",
    "white_Male= clinical_Trial[(clinical_Trial['Gender'] == 'Male') & (clinical_Trial['Race/Ethnicity'] == 'White')]\n",
    "white_Male = white_Male[[ 'Race/Ethnicity', 'Gender']] \n",
    "# Black Male\n",
    "#Setting limits\n",
    "black_Male = clinical_Trial[(clinical_Trial['Gender'] == 'Male') & (clinical_Trial['Race/Ethnicity'] == 'Black')]\n",
    "black_Male = black_Male[[ 'Race/Ethnicity', 'Gender']]\n",
    "# Black Female\n",
    "black_Female = clinical_Trial[(clinical_Trial['Gender'] == 'Female') & (clinical_Trial['Race/Ethnicity'] == 'Black')]\n",
    "black_Female = black_Female[[ 'Race/Ethnicity', 'Gender']] \n",
    "#White Female\n",
    "white_Female = clinical_Trial[(clinical_Trial['Gender'] == 'Female') & (clinical_Trial['Race/Ethnicity'] == 'White')]\n",
    "white_Female = white_Female[['Race/Ethnicity', 'Gender']]"
   ]
  },
  {
   "cell_type": "code",
   "execution_count": 33,
   "id": "02032569",
   "metadata": {},
   "outputs": [
    {
     "name": "stdout",
     "output_type": "stream",
     "text": [
      "  Race/Ethnicity  Count\n",
      "0          White    152\n",
      "  Race/Ethnicity  Count\n",
      "0          Black     27\n",
      "  Race/Ethnicity  Count\n",
      "0          Black      6\n",
      "  Race/Ethnicity  Count\n",
      "0          White     88\n"
     ]
    }
   ],
   "source": [
    "# Now lets count the occurrences of each Value\n",
    "# White Male\n",
    "WM  =  white_Male['Race/Ethnicity'].value_counts()\n",
    "WM = white_Male['Race/Ethnicity'].value_counts().rename_axis('Race/Ethnicity').reset_index(name='Count')\n",
    "\n",
    "# Black Male\n",
    "BM  =  black_Male['Race/Ethnicity'].value_counts()\n",
    "BM = black_Male['Race/Ethnicity'].value_counts().rename_axis('Race/Ethnicity').reset_index(name='Count')\n",
    "\n",
    "# Black Female\n",
    "BF  =  black_Female['Race/Ethnicity'].value_counts()\n",
    "BF = black_Female['Race/Ethnicity'].value_counts().rename_axis('Race/Ethnicity').reset_index(name='Count')\n",
    "\n",
    "# White Female\n",
    "WF  =  white_Female['Race/Ethnicity'].value_counts()\n",
    "WF = white_Female['Race/Ethnicity'].value_counts().rename_axis('Race/Ethnicity').reset_index(name='Count')\n",
    "\n",
    "print(WM)\n",
    "print(BM)\n",
    "print(BF)\n",
    "print(WF)"
   ]
  },
  {
   "cell_type": "code",
   "execution_count": 34,
   "id": "ecc7c1f6",
   "metadata": {},
   "outputs": [
    {
     "data": {
      "image/png": "[encoded data removed]",
      "text/plain": [
       "<Figure size 864x864 with 4 Axes>"
      ]
     },
     "metadata": {},
     "output_type": "display_data"
    }
   ],
   "source": [
    "# Let's use subplots to plot our data\n",
    "fig, (ax1,ax2,ax3,ax4) = plt.subplots(1,4, figsize=(12, 12))\n",
    "\n",
    "ax1.bar(WM['Race/Ethnicity'], WM['Count'], label='White Male', color = 'green',)\n",
    "ax1.set_title('White Male', fontsize = 15)\n",
    "ax1.set_ylabel('Occurrences', fontsize = 15)\n",
    "ax1.set_ylim([0, 180]) # setting y limits\n",
    "\n",
    "ax2.bar(BM['Race/Ethnicity'], BM['Count'], label='Black Male', color = 'orange')\n",
    "ax2.set_title('Black Male', fontsize = 15)\n",
    "ax2.set_ylim([0, 180])\n",
    "\n",
    "\n",
    "ax3.bar(BF['Race/Ethnicity'], BF['Count'], label='Black Female', color = 'blue')\n",
    "ax3.set_title('Black Female', fontsize = 15)\n",
    "ax3.set_ylim([0, 180])\n",
    "\n",
    "\n",
    "ax4.bar(WF['Race/Ethnicity'], WF['Count'], label='White Female', color = 'red')\n",
    "ax4.set_title('White Female', fontsize = 15)\n",
    "ax4.set_ylim([0, 180]);"
   ]
  },
  {
   "cell_type": "markdown",
   "id": "b191d60c",
   "metadata": {},
   "source": [
    "This is an interesting result. We can see the relationship between gender and race quite clearly here. We know from research that dramatically more participants in trials are 'White' compared to any other race. This is reflected in our generated dataset. "
   ]
  },
  {
   "cell_type": "markdown",
   "id": "babb7c39",
   "metadata": {},
   "source": [
    "For further analysis, it would be interesting to delve further into trial datasets however a lot of information regarding clinical trials is no made publicly available. This is where I believe the generation of synthetic datasets will be most valuable in the future. "
   ]
  },
  {
   "cell_type": "markdown",
   "id": "77c87a01",
   "metadata": {},
   "source": [
    "### References"
   ]
  },
  {
   "cell_type": "markdown",
   "id": "c1ae0301",
   "metadata": {},
   "source": [
    "```Python\n",
    "1. https://towardsdatascience.com/how-to-create-numpy-arrays-from-scratch-3e0341f9ffea [Accessed Nov. 2021]\n",
    "2. https://www.utblick.org/2021/11/11/rd-innovation-and-tax-policy/ [Accessed Nov. 2021]\n",
    "3. https://www.investopedia.com/terms/p/profit.asp [Accessed Nov. 2021]\n",
    "4. https://stats.oecd.org/glossary/detail.asp?ID=3288 [Accessed Nov. 2021]\n",
    "5. https://corporatefinanceinstitute.com/resources/knowledge/accounting/revenue/ [Accessed Nov. 2021]\n",
    "6. https://blogs.nvidia.com/blog/2021/06/08/what-is-synthetic-data/ [Accessed Nov. 2021]\n",
    "7. https://research.aimultiple.com/synthetic-data/ [Accessed Nov. 2021]\n",
    "8. https://searchcio.techtarget.com/definition/synthetic-data [Accessed Nov. 2021]\n",
    "9. https://www.roche.com/about/priorities/personalised_healthcare/machine-learning.htm [Accessed Nov. 2021]\n",
    "10. https://analyticsindiamag.com/understanding-ai-behind-amazon-go/ [Accessed Nov. 2021]\n",
    "11. https://pharmaoffer.com/blog/10-most-expensive-drugs-in-the-world/ [Accessed Nov. 2021]\n",
    "12. https://progressreport.cancer.gov/after/economic_burden#:~:text=National%20costs%20for%20cancer%20care,services%20and%20oral%20prescription%20drugs. [Accessed Nov. 2021]\n",
    "13. https://www.europarl.europa.eu/RegData/etudes/IDAN/2019/631045/IPOL_IDA(2019)631045_EN.pdf [Accessed Nov. 2021]\n",
    "14. https://www.sciencedaily.com/releases/2017/03/170328105855.htm#:~:text=Summary%3A,financial%20burden%20for%20the%20nation. [Accessed Nov. 2021]\n",
    "15. Feigin VL, Nichols E, Alam T, et al. Global, regional, and national burden of neurological disorders, 1990–2016: a systematic analysis for the global burden of disease study 2016. The Lancet Neurology. 2019;18(5):459–480. doi:10.1016/s1474-4422(18)30499-x\n",
    "16. Sung, H., et al. (2021) Global Cancer Statistics 2020: GLOBOCAN Estimates of Incidence and Mortality Worldwide for 36 Cancers in 185 Countries. CA: A Cancer Journal for Clinicians. doi.org/10.3322/caac.21660.\n",
    "17. https://www.statista.com/statistics/1031323/cancer-deaths-forecast-worldwide/ [Accessed Nov. 2021]\n",
    "18. https://www.investopedia.com/terms/r/randd.asp [Accessed Nov. 2021]\n",
    "19. https://elmelin.com/what-is-the-role-of-the-r-and-d-department/ [Accessed Nov. 2021]\n",
    "20. https://laptrinhx.com/news/research-and-development-r-d-xrmMrEN/ [Accessed Nov. 2021]\n",
    "21. https://www.idaireland.com/doing-business-here/activities/research-development-and-innovation [Accessed Nov. 2021]\n",
    "22. https://www.revenue.ie/en/companies-and-charities/reliefs-and-exemptions/research-and-development-rd-tax-credit/index.aspx [Accessed Nov. 2021]\n",
    "23. https://www.revenue.ie/en/companies-and-charities/corporation-tax-for-companies/corporation-tax/index.aspx [Accessed Nov. 2021]\n",
    "24. http://www.hpra.ie/homepage/medicines/special-topics/biosimilar-medicines [Accessed Nov. 2021]\n",
    "25. https://www.pfizerbiosimilars.com/characteristics-of-biosimilars [Accessed Nov. 2021]\n",
    "26. https://assets.gov.ie/193851/9490e808-1774-440d-843a-28c3a9dc195c.pdf [Accessed Nov. 2021]\n",
    "27. https://www.hopkinsmedicine.org/neurology_neurosurgery/centers_clinics/multiple_sclerosis/conditions/ [Accessed Nov. 2021]\n",
    "28. https://www.drugdiscoverytrends.com/pharma-50-the-50-largest-pharmaceutical-companies-in-the-world/ [Accessed Nov. 2021]\n",
    "29. https://www.fiercepharma.com/special-report/top-20-pharma-companies-by-2020-revenue [Accessed Nov. 2021]\n",
    "30. https://seaborn.pydata.org/generated/seaborn.barplot.html [Accessed Nov. 2021]\n",
    "31. https://www.pharmaceutical-technology.com/features/top-ten-pharma-companies-in-2020/ [Accessed Nov. 2021]\n",
    "32. https://www.fda.gov/patients/drug-development-process/step-3-clinical-research [Accessed Nov. 2021]\n",
    "33. https://www.roche.com/research_and_development/who_we_are_how_we_work/research_and_clinical_trials/what_is_a_clinical_trial.htm?tab_id=tab1 [Accessed Nov. 2021]\n",
    "34. https://www.cancer.net/research-and-advocacy/clinical-trials/phases-clinical-trials [Accessed Nov. 2021]\n",
    "35. https://debraireland.org/eb-news/what-are-clinical-trials/ [Accessed Nov. 2021]\n",
    "36. https://www.reuters.com/business/healthcare-pharmaceuticals/us-fda-puts-mercks-hiv-drug-trials-hold-2021-12-13/ [Accessed Nov. 2021]\n",
    "37. https://www.who.int/news-room/fact-sheets/detail/cancer [Accessed Nov. 2021]\n",
    "38. https://clinicaltrials.gov/ct2/show/NCT04533451 [Accessed Nov. 2021]\n",
    "39. Shenoy P, Harugeri A. Elderly patients' participation in clinical trials. Perspect Clin Res. 2015;6(4):184-189. doi:10.4103/2229-3485.167099\n",
    "40. https://www.statista.com/statistics/989867/age-distribution-of-clinical-trials-worldwide-by-cancer/ [Accessed Nov. 2021]\n",
    "41. Meyer S, Woldu HG, Sheets LR. Sociodemographic diversity in cancer clinical trials: New findings on the effect of race and ethnicity. Contemp Clin Trials Commun. 2021;21:100718.\n",
    "42. Murthy Vivek H., Krumholz Harlan M., Gross Cary P. Participation in cancer clinical TrialsRace-, sex-, and age-based disparities. J. Am. Med. Assoc. 2004;291(22):2720–2726. doi: 10.1001/jama.291.22.2720.\n",
    "43. Thomas Saphner, Andy Marek, Jennifer K. Homa, Lisa Robinson, Neha Glandt, Clinical trial participation assessed by age, sex, race, ethnicity, and socioeconomic status,Contemporary Clinical Trials,Volume 103,2021,106315, ISSN 1551-7144,https://doi.org/10.1016/j.cct.2021.106315.\n",
    "44. https://numpy.org/doc/stable/reference/random/generated/numpy.random.triangular.html [Accessed Nov. 2021]\n",
    "45. https://stats.stackexchange.com/questions/129417/if-my-histogram-shows-a-bell-shaped-curve-can-i-say-my-data-is-normally-distrib [Accessed Dec. 2021]\n",
    "46. https://stackoverflow.com/questions/62499436/python-np-random-random-round-up-to-1-decimal [Accessed Dec. 2021]\n",
    "47. van Marum RJ. Underrepresentation of the elderly in clinical trials, time for action. Br J Clin Pharmacol. 2020;86(10):2014-2016. https://doi.org/10.1111/bcp.14539\n",
    "48. https://seaborn.pydata.org/tutorial/aesthetics.html [Accessed Dec. 2021]\n",
    "49. Dymanus KA, Butaney M, Magee DE, Hird AE, Luckenbaugh AN, Ma MW, Hall ME, Huelster HL, Laviana AA, Davis NB, Terris MK, Klaassen Z, Wallis CJD. Assessment of gender representation in clinical trials leading to FDA approval for oncology therapeutics between 2014 and 2019: A systematic review-based cohort study. Cancer. 2021 Sep 1;127(17):3156-3162. doi: 10.1002/cncr.33533.\n",
    "50. Liu KA, Mager NA. Women's involvement in clinical trials: historical perspective and future implications. Pharm Pract (Granada). 2016 Jan-Mar;14(1):708. doi: 10.18549/PharmPract.2016.01.708.\n",
    "51. Schiebinger L. Women's health and clinical trials. J Clin Invest. 2003 Oct;112(7):973-7. doi: 10.1172/JCI19993. PMID: 14523031; PMCID: PMC198535..\n",
    "52. Mendis S, Anand S, Karasinska JM, Dasari A, Unger JM, Gothwal A, Ellis LM, Varadhachary G, Kopetz S, Overman MJ, Raghav K, Loree JM. Sex Representation in Clinical Trials Associated with FDA Cancer Drug Approvals Differs Between Solid and Hematologic Malignancies. Oncologist. 2021 Feb;26(2):107-114. doi: 10.1002/onco.13534. Epub 2020 Oct 7. PMID: 32960478; PMCID: PMC7873318.\n",
    "53. https://numpy.org/doc/stable/reference/random/generated/numpy.random.Generator.choice.html [Accessed Dec. 2021]\n",
    "54. https://thispointer.com/count-occurrences-of-a-value-in-numpy-array-in-python/ [Accessed Dec. 2021]\n",
    "55. https://datascienceplus.com/seaborn-categorical-plots-in-python/ [Accessed Dec. 2021]\n",
    "56. Habr D, Ferdinand R. Addressing racial/ethnic disparities in cancer clinical trials: Everyone has a role to play. Cancer. 2021 Sep 15;127(18):3282-3289. doi: 10.1002/cncr.33600. Epub 2021 Apr 27. PMID: 33904590.\n",
    "57. Loree JM, Anand S, Dasari A, et al. Disparity of race reporting and representation in clinical trials leading to cancer drug approvals from 2008 to 2018. JAMA Oncol. 2019;5:e191870. doi:10.1001/jamaoncol.2019.1870\n",
    "58. https://www.cancer.gov/about-cancer/treatment/types/immunotherapy/checkpoint-inhibitors [Accessed Dec. 2021]\n",
    "59. https://www.merck.com/news/fda-approves-mercks-keytruda-pembrolizumab-as-adjuvant-treatment-for-adult-and-pediatric-%E2%89%A512-years-of-age-patients-with-stage-iib-or-iic-melanoma-following-complete-resectio/ [Accessed Dec. 2021]\n",
    "60. Camidge DR, Park H, Smoyer KE, Jacobs I, Lee LJ, Askerova Z, McGinnis J, Zakharia Y. Race and ethnicity representation in clinical trials: findings from a literature review of Phase I oncology trials. Future Oncol. 2021 Aug;17(24):3271-3280. doi: 10.2217/fon-2020-1262. Epub 2021 May 28. PMID: 34047192.\n",
    "61. Davis TC, Arnold CL, Mills G, Miele L. A Qualitative Study Exploring Barriers and Facilitators of Enrolling Underrepresented Populations in Clinical Trials and Biobanking. Front Cell Dev Biol. 2019 Apr 30;7:74. doi: 10.3389/fcell.2019.00074. PMID: 31114788; PMCID: PMC6502895.\n",
    "62. https://www.breastcancer.org/research-news/minorities-underrepresented-in-cancer-research [Accessed Dec. 2021]\n",
    "63. Vuong, I., Wright, J., Nolan, M.B. et al. Overcoming Barriers: Evidence-Based Strategies to Increase Enrollment of Underrepresented Populations in Cancer Therapeutic Clinical Trials—a Narrative Review. J Canc Educ 35, 841–849 (2020). https://doi.org/10.1007/s13187-019-01650-y\n",
    "64. Willis A, Isaacs T, Khunti K. Improving diversity in research and trial participation: the challenges of language. Lancet Public Health. 2021 Jul;6(7):e445-e446. doi: 10.1016/S2468-2667(21)00100-6. PMID: 34174997.\n",
    "65. U.S. Food and Drug Administration. Drug trials snapshots. Available at: https://www.fda.gov/drugs/drug-approvals-and-databases/drug-trials-snapshots\n",
    "66. Treasure, M., Daly, B., Fu, P. et al. Relationship between phase I study duration and symptom burden. Support Care Cancer 26, 731–737 (2018). https://doi.org/10.1007/s00520-017-3879-1\n",
    "67. George GC, Barata PC, Campbell A, Chen A, Cortes JE, Hyman DM, Jones L, Karagiannis T, Klaar S, Le-Rademacher JG, LoRusso P, Mandrekar SJ, Merino DM, Minasian LM, Mitchell SA, Montez S, O'Connor DJ, Pettit S, Silk E, Sloan JA, Stewart M, Takimoto CH, Wong GY, Yap TA, Cleeland CS, Hong DS. Improving attribution of adverse events in oncology clinical trials. Cancer Treat Rev. 2019 Jun;76:33-40. doi: 10.1016/j.ctrv.2019.04.004. Epub 2019 Apr 25. PMID: 31108240.\n",
    "68. Shanthi Sivendran & Matthew D. Galsky (2016) Adverse event reporting in oncology clinical trials - lost in translation?, Expert Opinion on Drug Safety, 15:7, 893-896, DOI: 10.1080/14740338.2016.1175429\n",
    "69. Luo J, Eldredge C, Cho CC, Cisler RA. Population Analysis of Adverse Events in Different Age Groups Using Big Clinical Trials Data. JMIR Med Inform. 2016 Oct 17;4(4):e30. doi: 10.2196/medinform.6437. PMID: 27751983; PMCID: PMC5088342.\n",
    "70. Unger JM, Gralow JR, Albain KS, Ramsey SD, Hershman DL. Patient Income Level and Cancer Clinical Trial Participation: A Prospective Survey Study. JAMA Oncol. 2016 Jan;2(1):137-9. doi: 10.1001/jamaoncol.2015.3924. PMID: 26468994; PMCID: PMC4824189.\n",
    "```\n",
    "\n",
    "\n",
    "\n",
    "\n",
    "\n",
    "\n",
    "\n",
    "\n"
   ]
  },
  {
   "cell_type": "code",
   "execution_count": null,
   "id": "62325392",
   "metadata": {},
   "outputs": [],
   "source": []
  },
  {
   "cell_type": "markdown",
   "id": "a391254a",
   "metadata": {},
   "source": [
    "### The End"
   ]
  }
 ],
 "metadata": {
  "kernelspec": {
   "display_name": "Python 3",
   "language": "python",
   "name": "python3"
  },
  "language_info": {
   "codemirror_mode": {
    "name": "ipython",
    "version": 3
   },
   "file_extension": ".py",
   "mimetype": "text/x-python",
   "name": "python",
   "nbconvert_exporter": "python",
   "pygments_lexer": "ipython3",
   "version": "3.8.8"
  }
 },
 "nbformat": 4,
 "nbformat_minor": 5
}
