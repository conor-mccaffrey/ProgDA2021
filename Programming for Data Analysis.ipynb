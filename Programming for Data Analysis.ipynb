{
 "cells": [
  {
   "cell_type": "markdown",
   "id": "18f1f5c0",
   "metadata": {},
   "source": [
    "# <center>Participant Representation in Cancer Clinical Trials (Lung Cancer)  </center>\n",
    "\n",
    "***\n",
    "\n",
    "![Numpy](Images/Numpy.png)\n",
    "![RD](Images/RD.png)\n",
    "\n",
    "<i>Images adapted from references 1,2 respectively</i>\n",
    "\n",
    "## Conor McCaffrey\n",
    "### Programming for Data Analysis 2021\n",
    "***"
   ]
  },
  {
   "cell_type": "markdown",
   "id": "65351e4c",
   "metadata": {},
   "source": [
    "### Assignment Objectives:\n",
    "\n",
    "![Objective](Images/Objective.png)\n",
    "\n",
    "<i>Figure adapted from Official Assignment</i>\n"
   ]
  },
  {
   "cell_type": "markdown",
   "id": "f7852e65",
   "metadata": {},
   "source": [
    "***\n",
    "\n",
    "\n",
    "### Justification for my chosen Title\n",
    "\n",
    "For this project, I have decided to merge both my personal interests and professional career to date. I currently am employed in the Pharmaceutical sector and have a keen interest in Analytics (hence the reason for enrolling in this H.Dip!). In light of this, I want to explore something that may seem a bit 'left-field' and for which I am not sure there will even be much data available but I believe it is the knowledge gained as opposed to the actual end-result that will have the most benefit for me in this project and my career. I want to explore the participation of different demographic groups in a company's Research and Development (hereafter denoted as '<b>R&D</b>') Clinical Trials.\n",
    "\n",
    "I can already see one potentially big caveat in our analysis that would in itself probably make for a very interesting 'stand-alone' project:\n",
    "- Patricipation rates in Cancer clinical trials of patients with 'later-stage' (cancer that has spread) cancer.\n",
    "\n",
    "This would, in itself, make for an interesting project but I want to keep this investigation focussed solely demographic participation in Clinical Trials.\n",
    "\n",
    "Some points I would like to hopefully investigate in the generation of the data set are:\n",
    "- Race/ethnicity demographic of Clincal Trial participants\n",
    "- Gender demographic of Clinical Trial participants\n",
    "- Profit margins for companies with effective anti-cancer treaments\n",
    "- Average age of Clinical Trial participants\n",
    "- Different treatment areas that account for majority of drug spend (i.e. Oncology, Cardiovascular, Metabolic, Neurodegenerative conditions). This would be as an aside to our dataset but still informative and perhaps provide rationale for choosing to explore Oncology (Cancer) treatment.\n",
    "- Prevalence of adverse events in Clinical Trails \n",
    "\n",
    "These areas will be the main focus of the 'parameters' I choose for generating this dataset. I can see this is going to be a wide-ranging project but I believe the research involved will be interesting and informative. \n",
    "***"
   ]
  },
  {
   "cell_type": "markdown",
   "id": "f37365bf",
   "metadata": {},
   "source": [
    "### Definitions of terms that will be used in Project\n",
    "\n",
    "Before we begin, it will be important to familiarise ourselves with some important terms that will be incorporated in our dataset generation: <br>\n",
    "<b>* N.B * </b> This will be updated as the project progresses.\n",
    "\n",
    "- <i><b>Profit</b></i> is defined as the surplus revenue generated within a business once all operating costs are accoutned for, such as expenses, costs and taxes associated with producing the product (3,4).\n",
    "<br>\n",
    "\n",
    "- <i><b>Revenue</b></i> (also referred to as Sales/Income) can be defined as the 'value of all sales and services' in a company or relating to a product (5). The is the initial figure for a company before all expenses are then deducted.\n",
    "<br>\n",
    "\n",
    "- <i><b>R&D</b></i> is considered work performed, outside of normal product production, in order to lead to eventual profit/knowledge gained for a company.\n",
    "<br>\n",
    "\n",
    "- <i><b>Corporation Tax</b></i> is a tex levied on a company's profits (23). \n",
    "<br>\n",
    "\n",
    "- <i><b>Biosimilars</b></i> are drugs that are highly similar to a pre-approved drug on the market. Biosimilars are generally approved for use on the basis that there are no clinical differences between the product and a pre-approved drug already available for purchase (25).\n",
    "<br>\n",
    "\n",
    "- <i><b>Control Group</b></i>. A control group within a clinical trial is a group that do not receive the product under investigation. Instead, the participants in this group receive standard care or perhaps a placebo (a substance of no therapeutic value). The effectiveness of the new product is then determined by comparison with this control group.\n",
    "***"
   ]
  },
  {
   "cell_type": "markdown",
   "id": "b863c281",
   "metadata": {},
   "source": [
    "### Importation of Required Packages"
   ]
  },
  {
   "cell_type": "code",
   "execution_count": 1,
   "id": "79770431",
   "metadata": {},
   "outputs": [],
   "source": [
    "#This  line-orientated magic command, as outlined in lectures, lets us display plots inline\n",
    "%matplotlib inline \n",
    "\n",
    "import numpy as np\n",
    "import pandas as pd\n",
    "import matplotlib.pyplot as plt\n",
    "import seaborn as sns\n",
    "import scipy.stats as stats"
   ]
  },
  {
   "cell_type": "markdown",
   "id": "46051302",
   "metadata": {},
   "source": [
    "### What is a Synthetic Dataset?"
   ]
  },
  {
   "cell_type": "markdown",
   "id": "2a206ca1",
   "metadata": {},
   "source": [
    "As part of the requirements for this project, we must generate a synthetic dataset that closely resembles our research as much as possible. So, the obvious question is: <u>What is a synthetic dataset?</u>. At it's most basic, synthetic data is data generated algorithmically, as opposed to generated by collection of real-life data (6). One of the main uses for the generation of synthetic datasets is in Machine Learning (ML) (6). Advantages of incorporating the use of synthetic datasets come in the relatively cheap production costs and also the safety regarding data privacy (7). Despite the relatively recent emergence of synthetic datasets, there are already numerous companies which specialise solely in the generation of synthetic datasets such as [iData](https://intelligent-ds.com/idataquality/idata-data-quality-management/), [Sarus Technologies](https://sarus.tech/) and [BetterData](https://www.betterdata.ai/). As can be seen from the below graph, the generation of synthetic data is only going to increase over time (7).\n",
    "\n",
    "![Synthetic Datasets](Images/synthetic.png)\n",
    "<br>\n",
    "<i>Graph adapted from Reference 7</i>\n",
    "\n",
    "The use of synthetic datasets in Industry can include:\n",
    "- Financial Institutions using datasets mimicking credit/debit card transactions to train in identifying fraudulant activity (8)\n",
    "- DevOps teams using synthetic datasets to test software (8)\n",
    "- Medical companies such as Roche using synthetic datasets for clincial research (9)\n",
    "- Amazon incorporating the use of synthetic data in training Amazon Go, a new type of 'shopkeeper-less' store (10)\n",
    "\n",
    "Considerations in the generation of synthetic data must include an assessment whether the synthetic data can closely resemble 'real-data' for it's intended purpose. Otherwise, you are wasting your time generating any type of dataset for your intended purpose. \n",
    "***"
   ]
  },
  {
   "cell_type": "markdown",
   "id": "97a79699",
   "metadata": {},
   "source": [
    "### Treatment areas of Interest and their role in daily consumer life."
   ]
  },
  {
   "cell_type": "markdown",
   "id": "0aaa8a57",
   "metadata": {},
   "source": [
    "An interesting aspect of this project will be type of Pharmaceutical companies listed in our tables for most profit. From this table, we might be able to divulge which specific treatment areas seem to generate the most profit for companies. Immediately, some areas come to mind: oncology treatments, 'ultra-rare' disease treatments. For example, 'Zolgensma', developed by Novartis, is a one-time treatment for spinal muscular atrophy (degeneration of muscle) that costs €1,877,746 (11). This product is a direct competitor to 'Spinzara', produced by Biogen, which also is currently the tenth most expensive treatment with an annual cost of €331,367 (11). The difference between the treatments is that 'Spinzara' is a multiple-dose treatment as opposed to 'Zolgensma' which is a single-dose treatment. This gives you a range of drug costs for these high-end treatments. \n",
    "\n",
    "<br>\n",
    "\n",
    "<b>Graph representing projected cancer-related deaths up to 2040</b>\n",
    "![Cancer deaths projection](Images/cancer.png)\n",
    "<br>\n",
    "<i>Figure adapted from Reference 17</i>\n",
    "\n",
    "Different treatment areas can also be examined to see how they can contribute to a company's profit margin. According to [The cost of cancer in Europe 2018](https://www.sciencedirect.com/science/article/pii/S0959804920300265/), almost €32 billion was spent in Europe on cancer-related drug treatments in 2018. In 2020, almost €246 billion was spent in the USA on cancer related care (12). Neurological disorders also account for a large proportion of health spending. According to a 2019 [EU-commissioned report](https://www.europarl.europa.eu/RegData/etudes/IDAN/2019/631045/IPOL_IDA(2019)631045_EN.pdf), almost €800 billion annually is spent on direct- and indirect-care for neurological disorders in the EU (13). Roughly the same figure is spent in the USA on neurological disorder care (14).These are huge amounts of money being spent on the incidence of treatments that are each increasing globally (15,16). Naturally, with such huge amounts of money being spent on treatments for these types of diseases, vasts sums of money are spent on developing effective treatments.\n",
    "<br>\n",
    "\n",
    "Specifically in Ireland, the [Review of High-Tech Drug Expenditure](https://assets.gov.ie/193851/9490e808-1774-440d-843a-28c3a9dc195c.pdf) is an invaluable resource (26). The below graph outlines the spend from 2012-2020 by the Irish Government on certain treatment areas. Similar to the theme conveyed above, we can see a dramatically increasing annual spend on anti-cancer treatments. Expenditure on cancer treatments has increased 15% annually over this period despite a patient growth in this area of 5% (26). This appears to suggests the increasing spend on anti-cancer treatments is to cover higher costs, as opposed to higher patient numbers. It is also worth noting the graudal increase in spend for Multiple Sclerosis treatment, a neurological disorder affecting the nerves (26,27). \n",
    "\n",
    "![Irish Spending](Images/snip.png)\n",
    "<br>\n",
    "<i>Adapted from Reference 26</i>"
   ]
  },
  {
   "cell_type": "markdown",
   "id": "c969edf1",
   "metadata": {},
   "source": [
    "### What is R&D?"
   ]
  },
  {
   "cell_type": "markdown",
   "id": "09187917",
   "metadata": {},
   "source": [
    "Research and Development (R&D) is considered to be the work carried out by a company in order to develop new products which can eventually add to the overall net profit of a company (18). The main reason for a company to undertake R&D is to develop new products, add to profit and therefore remain dominant/competitive in a certain field. If a company does not engage in effective R&D, it may fall behind competitors or need to depend on mergers/acquisitions to grow and add to profit (18). The basic premise of the R&D department is to develop new products and ensure they generate income for their company (19). This is done through product testing, clinical trials and use of data to determine if a product meets a certain need/niche within the market. R&D work can consist of detailed studies/projects determining the efficacy of a certain product/process. An essential parameter here is to ensure the product satisfies all market and regulatory requirements regarding safety (19). Another function of the R&D department is a sanity check, ensuring an existing product still meets a certain market requirement and still outperforms competitor equivalents. If this is not the case, the R&D department would be responsible for making the required product alteration to improve product performence. This may also lead to changes in the manufacture of the product (19)."
   ]
  },
  {
   "cell_type": "markdown",
   "id": "43a17b70",
   "metadata": {},
   "source": [
    "#### Types of R&D\n",
    "Briefly, there are two types of R&D research work:\n",
    "- <b> Basic Research</b>, which is high-level research with the overall aim to gain a more thorough understanding of a concept/process (18). Due to the wide-ranging scope of this research, high levels of profits may not be realised from this work. However, work carried out under basic research may then lead to more applied research.\n",
    "- <b>Applied Research</b>, which is a more focussed type of research with a discernible goal, such as generating profits, improving a certain product or improving a certain manufacturing process (19).\n",
    "\n",
    "The development phase of R&D can consist of improving a certain process within a company (perhaps making it more 'lean' i.e stripping away unnecessary steps to save time or money) or designing a new production system for a new product (19). The development phase can garner knowledge gained from carrying out either basic or applied (or both) research.\n",
    "\n",
    "![ResearchandDev](Images/RD1.png)\n",
    "<br>\n",
    "<i>Image adapted from Reference 20</i>"
   ]
  },
  {
   "cell_type": "markdown",
   "id": "acf200ab",
   "metadata": {},
   "source": [
    "#### Discrete Advantages of R&D"
   ]
  },
  {
   "cell_type": "markdown",
   "id": "cfe0baf5",
   "metadata": {},
   "source": [
    "It is quite clear that an effective R&D department can generate large returns for a company and lead to the formation of new products and leaner manufacturing processes. However, there are also other advantages to carrying out R&D projects. In Ireland, specifically, there a tax credit to be gained for companies that perform R&D studies in Ireland and the European Economic Area (21). There is a 25% tax credit available for companies that engage in R&D projects which is used to reduce a company's payable Corporation Tax (22). Another advantage is the goodwill factor of publishing pertinent information to the public and also collaborating with academic institutions in order to raise awareness of a company's brand. This last point is quite prominent within the scientific field through the use of 'placements' for students who will work with a company (on a research project, perhaps exploring a certain product) for a defined period of time. \n",
    "\n",
    "This section has highlighted the importance of R&D work for a company. To summarise, a main goal of the R&D department is to develop new products. These new products are then assessed in Clinical Trials for efficacy. It is worth noting that for some of the most commonly used drugs, there exists what are known as <i>biosimilars</i>. Biosimilars are produced by smaller companies and mimic the mode-of-action of an existing pre-approved drug (24). These biosimilars generally sell at a fraction of the original drug's price.\n",
    "***"
   ]
  },
  {
   "cell_type": "markdown",
   "id": "bd32357e",
   "metadata": {},
   "source": [
    "#### Revenue of Pharmaceutical Companies\n",
    "Before we start declaring variables for our dataset, I want to explore if any company within the top 10 (Revenue-wise) focuses primarily on Oncology treatment. I would have much preferred to have taken profit as a variable however it appears to be difficult to find reliable sources that accurately quantify a company's profits. Regardless, Revenue generated by a company will still give us a good indication of a company's performence. Sources used to generate this data include [Drug Discovery Trends Top 50](https://www.drugdiscoverytrends.com/pharma-50-the-50-largest-pharmaceutical-companies-in-the-world/) and [Fierce Pharmas Top 20](https://www.fiercepharma.com/special-report/top-20-pharma-companies-by-2020-revenue), both reputable sources within the life sciences industry (28,29). From analysing the results, we immediately see the figures are not in the millions, but rather the billions. Some of the sources convey slightly conflicting numbers for Revenue but the ballpark figures are the same.\n",
    "\n",
    "To start us off, let's have a look at the Revenue generated by the Top 10 Pharma companies in the world."
   ]
  },
  {
   "cell_type": "code",
   "execution_count": 2,
   "id": "b20e86b3",
   "metadata": {},
   "outputs": [
    {
     "data": {
      "text/html": [
       "<div>\n",
       "<style scoped>\n",
       "    .dataframe tbody tr th:only-of-type {\n",
       "        vertical-align: middle;\n",
       "    }\n",
       "\n",
       "    .dataframe tbody tr th {\n",
       "        vertical-align: top;\n",
       "    }\n",
       "\n",
       "    .dataframe thead th {\n",
       "        text-align: right;\n",
       "    }\n",
       "</style>\n",
       "<table border=\"1\" class=\"dataframe\">\n",
       "  <thead>\n",
       "    <tr style=\"text-align: right;\">\n",
       "      <th></th>\n",
       "      <th>Company</th>\n",
       "      <th>Revenue in Billions $US</th>\n",
       "    </tr>\n",
       "  </thead>\n",
       "  <tbody>\n",
       "    <tr>\n",
       "      <th>0</th>\n",
       "      <td>Roche</td>\n",
       "      <td>49.50</td>\n",
       "    </tr>\n",
       "    <tr>\n",
       "      <th>1</th>\n",
       "      <td>Novartis</td>\n",
       "      <td>48.70</td>\n",
       "    </tr>\n",
       "    <tr>\n",
       "      <th>2</th>\n",
       "      <td>Merck</td>\n",
       "      <td>47.99</td>\n",
       "    </tr>\n",
       "    <tr>\n",
       "      <th>3</th>\n",
       "      <td>AbbVie</td>\n",
       "      <td>45.80</td>\n",
       "    </tr>\n",
       "    <tr>\n",
       "      <th>4</th>\n",
       "      <td>Janssen (J&amp;J)</td>\n",
       "      <td>45.57</td>\n",
       "    </tr>\n",
       "    <tr>\n",
       "      <th>5</th>\n",
       "      <td>GSK</td>\n",
       "      <td>45.53</td>\n",
       "    </tr>\n",
       "    <tr>\n",
       "      <th>6</th>\n",
       "      <td>BMS</td>\n",
       "      <td>42.42</td>\n",
       "    </tr>\n",
       "    <tr>\n",
       "      <th>7</th>\n",
       "      <td>Pfizer</td>\n",
       "      <td>41.90</td>\n",
       "    </tr>\n",
       "    <tr>\n",
       "      <th>8</th>\n",
       "      <td>Sanofi</td>\n",
       "      <td>41.10</td>\n",
       "    </tr>\n",
       "    <tr>\n",
       "      <th>9</th>\n",
       "      <td>Takeda</td>\n",
       "      <td>29.90</td>\n",
       "    </tr>\n",
       "  </tbody>\n",
       "</table>\n",
       "</div>"
      ],
      "text/plain": [
       "         Company  Revenue in Billions $US\n",
       "0          Roche                    49.50\n",
       "1       Novartis                    48.70\n",
       "2          Merck                    47.99\n",
       "3         AbbVie                    45.80\n",
       "4  Janssen (J&J)                    45.57\n",
       "5            GSK                    45.53\n",
       "6            BMS                    42.42\n",
       "7         Pfizer                    41.90\n",
       "8         Sanofi                    41.10\n",
       "9         Takeda                    29.90"
      ]
     },
     "execution_count": 2,
     "metadata": {},
     "output_type": "execute_result"
    }
   ],
   "source": [
    "# Lets plot the revenue generated by Top 10 Pharma companies worldwide\n",
    "\n",
    "# Let's create our Pandas dataframe first\n",
    "Company = [['Roche', 49.5], ['Novartis',48.7], ['Merck', 47.99], ['AbbVie',45.80], \n",
    "         ['Janssen (J&J)', 45.57], ['GSK', 45.53], ['BMS', 42.42], ['Pfizer', 41.9],\n",
    "           ['Sanofi',41.1],['Takeda', 29.9]]\n",
    "\n",
    "df_Top10 =pd.DataFrame(Company, columns = ['Company', 'Revenue in Billions $US']) \n",
    "df_Top10"
   ]
  },
  {
   "cell_type": "code",
   "execution_count": 3,
   "id": "efce7a83",
   "metadata": {},
   "outputs": [
    {
     "data": {
      "image/png": "[encoded data removed]",
      "text/plain": [
       "<Figure size 1080x576 with 1 Axes>"
      ]
     },
     "metadata": {
      "needs_background": "light"
     },
     "output_type": "display_data"
    }
   ],
   "source": [
    "# Now let's plot\n",
    "plt.figure(figsize=(15,8))\n",
    "sns.barplot(x=df_Top10['Company'], y=df_Top10['Revenue in Billions $US'], data=df_Top10,\n",
    "            color = 'blue',  palette='Blues_d') # adapted from reference 30\n",
    "plt.xlabel('Company', fontsize = 16)\n",
    "plt.ylabel('Revenue (in $US Billions)', fontsize = 16)\n",
    "plt.xticks(fontsize = 13)\n",
    "plt.suptitle('Revenue of Top 10 Pharma Companies', fontsize = 15, fontweight = 'bold');"
   ]
  },
  {
   "cell_type": "markdown",
   "id": "1d465e4b",
   "metadata": {},
   "source": [
    "I merely want to demonstrate the levels of revenue we are dealing with here. We can see that Roche's revenue is almost €44.4 billion, while our 'lowest' Revenue level lies with Takeda, at a 'mere' €26.6 billion. It is interesting however to see the drop off between Sanofi and Takeda, it appears there may be a leading 9 companies and then Takeda is the beginning of a new cluster of companies, perhaps in a 'mid-range' level of Revenue annually. From analysing reference 28, I can see this is the case. Our values range from €44.4 billion (Roche) down as far as €5.3 billion (Eisai) (28). Let's explore which (if any) of these companies primarily focus on Oncology treatments. As a side note, GitHub has issues rendering the dollar symbol correctly from Jupyter so I converted values to €'s for the sake of the text. "
   ]
  },
  {
   "cell_type": "code",
   "execution_count": 4,
   "id": "7a7e2631",
   "metadata": {},
   "outputs": [
    {
     "data": {
      "text/html": [
       "<div>\n",
       "<style scoped>\n",
       "    .dataframe tbody tr th:only-of-type {\n",
       "        vertical-align: middle;\n",
       "    }\n",
       "\n",
       "    .dataframe tbody tr th {\n",
       "        vertical-align: top;\n",
       "    }\n",
       "\n",
       "    .dataframe thead th {\n",
       "        text-align: right;\n",
       "    }\n",
       "</style>\n",
       "<table border=\"1\" class=\"dataframe\">\n",
       "  <thead>\n",
       "    <tr style=\"text-align: right;\">\n",
       "      <th></th>\n",
       "      <th>Company</th>\n",
       "      <th>Area of Focus</th>\n",
       "    </tr>\n",
       "  </thead>\n",
       "  <tbody>\n",
       "    <tr>\n",
       "      <th>0</th>\n",
       "      <td>Roche</td>\n",
       "      <td>Oncology</td>\n",
       "    </tr>\n",
       "    <tr>\n",
       "      <th>1</th>\n",
       "      <td>Novartis</td>\n",
       "      <td>Cardiovascular/Immunology</td>\n",
       "    </tr>\n",
       "    <tr>\n",
       "      <th>2</th>\n",
       "      <td>Merck</td>\n",
       "      <td>Immunology/Oncology</td>\n",
       "    </tr>\n",
       "    <tr>\n",
       "      <th>3</th>\n",
       "      <td>AbbVie</td>\n",
       "      <td>Oncology/Neuroscience</td>\n",
       "    </tr>\n",
       "    <tr>\n",
       "      <th>4</th>\n",
       "      <td>Janssen (J&amp;J)</td>\n",
       "      <td>Oncology</td>\n",
       "    </tr>\n",
       "    <tr>\n",
       "      <th>5</th>\n",
       "      <td>GSK</td>\n",
       "      <td>Vaccines/HIV</td>\n",
       "    </tr>\n",
       "    <tr>\n",
       "      <th>6</th>\n",
       "      <td>BMS</td>\n",
       "      <td>Oncology</td>\n",
       "    </tr>\n",
       "    <tr>\n",
       "      <th>7</th>\n",
       "      <td>Pfizer</td>\n",
       "      <td>Oncology</td>\n",
       "    </tr>\n",
       "    <tr>\n",
       "      <th>8</th>\n",
       "      <td>Sanofi</td>\n",
       "      <td>Immunlogy</td>\n",
       "    </tr>\n",
       "    <tr>\n",
       "      <th>9</th>\n",
       "      <td>Takeda</td>\n",
       "      <td>Oncology/Rare Disease</td>\n",
       "    </tr>\n",
       "  </tbody>\n",
       "</table>\n",
       "</div>"
      ],
      "text/plain": [
       "         Company              Area of Focus\n",
       "0          Roche                   Oncology\n",
       "1       Novartis  Cardiovascular/Immunology\n",
       "2          Merck        Immunology/Oncology\n",
       "3         AbbVie      Oncology/Neuroscience\n",
       "4  Janssen (J&J)                   Oncology\n",
       "5            GSK               Vaccines/HIV\n",
       "6            BMS                   Oncology\n",
       "7         Pfizer                   Oncology\n",
       "8         Sanofi                  Immunlogy\n",
       "9         Takeda      Oncology/Rare Disease"
      ]
     },
     "execution_count": 4,
     "metadata": {},
     "output_type": "execute_result"
    }
   ],
   "source": [
    "# Lets construct a dataframe outlining if a company produces Oncology treatments \n",
    "# or as a main area of focus.\n",
    "# Information adapted from reference 31\n",
    "\n",
    "# Let's create our Pandas dataframe first\n",
    "AreaofInterest = [['Roche', 'Oncology'], ['Novartis','Cardiovascular/Immunology'], ['Merck', 'Immunology/Oncology'], \n",
    "           ['AbbVie','Oncology/Neuroscience'], ['Janssen (J&J)', 'Oncology'], ['GSK', 'Vaccines/HIV'], ['BMS', 'Oncology'], \n",
    "           ['Pfizer', 'Oncology'], ['Sanofi','Immunlogy'],['Takeda', 'Oncology/Rare Disease']]\n",
    "\n",
    "df_AOI =pd.DataFrame(AreaofInterest, columns = ['Company', 'Area of Focus']) \n",
    "df_AOI"
   ]
  },
  {
   "cell_type": "markdown",
   "id": "0f88c1d8",
   "metadata": {},
   "source": [
    "We can see that 7 out of the top 10 Pharmaceutical Companies (based on Revenue) focus primarily on Oncological treatments. Some companies, such as GSK, have dedicated facilities towards Oncology but I have not listed it as a 'main-focus' because several other sectors are mentioned ahead of it on their information pages. Companies of this size are involved in every field of research, but some so more than others. "
   ]
  },
  {
   "cell_type": "markdown",
   "id": "49ff90b1",
   "metadata": {},
   "source": [
    "### Brief Overview of the process of a Clinical Trial\n",
    "\n"
   ]
  },
  {
   "cell_type": "markdown",
   "id": "dea29f2e",
   "metadata": {},
   "source": [
    "A clinical trial is a study/trial conducted by a Pharamcutical Company (can also be carried out by healthcare institutions) to determine how a product interacts within the human body (32). These trials answer some essential questions such as (33):\n",
    "- Does the treatment work?\n",
    "- What are the side effects?\n",
    "- How safe, overall, is the treatment?\n",
    "- How cost-effective is the treatment?\n",
    "- How effective is the treatment at treating a condition?\n",
    "\n",
    "These questions are answered within Clinical Trials. A study plan, or protocol, is developed prior to commencing a Clinical Trial in where the organisers will design each aspect of the trial such as dosage requirements, amount of participants, length of the study and whether a 'control group' is necessary, among other parameters (32,33). There are 4 distinct phases within a Clinical Trial: \n",
    "1. <b>Phase I</b>: Small number of participants, drug safety is assessed here i.e how the drug reacts in the human body (33).\n",
    "2. <b>Phase II</b>: Once initial safety is confirmed, participant number increases and dosage amount may increase. Again, a big aspect here is drug safety and drug efficacy (32).\n",
    "3. <b>Phase III</b>: Large patient groups. Here, the main question is how effective a treatment is (after it has been confirmed to be safe and some effect has been noted in previous Phases). Adverse reactions are closely monitored here. If the results are postiive, the study is published and approval sought from a Regulatory Agency such as the HPRA (34). \n",
    "4. <b> Phase IV</b> This phase is also known as 'Post-Marketing Surveillance Trials'. This is essentially monitoring the use of the drug and any side-effects in a huge number of patients (32). The product is also closely compared to other similar products. The idea here is to monitor the long-term effectiveness of a drug. \n",
    "\n",
    "\n",
    "![Clinical Trials](Images/Clinical-Trials-Diagrampng.png)\n",
    "<br>\n",
    " <i>Figure adapted from Reference 35</i>"
   ]
  },
  {
   "cell_type": "markdown",
   "id": "9cc0c607",
   "metadata": {},
   "source": [
    "In extreme cases, a Regulatory Agency may put a 'hold' on a certain drug product during a Clinical Trial (32). This is not common, and not a good sign. Various reasons may exist for halting a study, but usually it is to do with either patient safety (in relation to the drug causing extreme adverse reactions) or the trial setup being misleading/vague (32). Within the past few days (as of Dec 14), the U.S ood and Drug Administration (FDA) have put a hold on Merck's HIV treatment 'islatravir' due to a drop in T-cell count in patients. 'T-cells' help the body fight infection. "
   ]
  },
  {
   "cell_type": "markdown",
   "id": "166b10a3",
   "metadata": {},
   "source": [
    "### Parameters for our Synthetic Dataset"
   ]
  },
  {
   "cell_type": "markdown",
   "id": "ca2e1ede",
   "metadata": {},
   "source": [
    "#### Factors to consider for generating our Dataset\n",
    "I want to generate our dataset on the following variables:\n",
    "\n",
    "- <u>Age of participants</u> in a Clinical Trial\n",
    "\n",
    "\n",
    "- <u>Race/ethnicity of participants</u> in a Clinical Trial\n",
    "\n",
    "\n",
    "- <u>Gender of participants</u> in a Clinical Trial\n",
    "\n",
    "\n",
    "- <u>Occurence of Adverse effects</u> in a Clinical Trial\n",
    "\n",
    "\n",
    "- <u>Socio/Economic Status</u> of participants in a Clinical Trial\n",
    "<br>\n"
   ]
  },
  {
   "cell_type": "markdown",
   "id": "f97361b6",
   "metadata": {},
   "source": [
    "Let's look in detail at each of the variables. In 2020, over 4 million people died of lung cancer and breast cancer worldwide (37). I believe this highlights the importance of generating datasets relaitng to cancer research."
   ]
  },
  {
   "cell_type": "markdown",
   "id": "656b2bd5",
   "metadata": {},
   "source": [
    "##### Age of Paticipants in a Cancer Clinical Trial"
   ]
  },
  {
   "cell_type": "markdown",
   "id": "05b1311d",
   "metadata": {},
   "source": [
    "Age is an extremely important factor in clinical trial representation. While some trials are focussed on a subset of individuals above a certain age (38), the majority of clinical trials focus on individuals between 18-75 years of age (39). In the case of our dataset, this variable will be a numerical variable and a positive integer. The minimum value shall be zero (despite the fact the majority of participants are 18 or older) and there shall be no upper limit as I have seen a publication that references the participation of a 97-year old (41)!  Our first task here is to identify the distribution of ages of participants in cancer trials, and then for us to replicate this result using `numpy.random`."
   ]
  },
  {
   "cell_type": "markdown",
   "id": "78a138de",
   "metadata": {},
   "source": [
    "The below graph indicates age distributions of participants in cancer clinical trials. We can see for lung cancer that the vast majority of participants are in the 18-64 age bracket, confirming our upper limit decision for age (40). This fact is repeated to breast cancer clinical trials and for colorectal clinical trials to an even greater extent. \n",
    "\n",
    "<b><center>Age of Participants in Cancer clinical trials between 2008 and 2013</center></b>\n",
    "\n",
    "![Participants](Images/part.png)\n",
    "<br>\n",
    "<i>Figure adapted from reference 40</i>\n",
    "\n",
    "However, we are looking for data that is a little more specific than this. A recent review of cancer trials has shed some light on this topic. According to <i>Meyer et. al. (2021)</i>, the mean age of cancer clinical trial respondents was 54 in 2017 and 53 in 2009 (41). This tells us that the mean age has not varied much recently. This ties in with some other publications we have found. Prior research, conducted by <i>Murthy et. al. (2004)</i> found that 68% of trial participants fell within the 30-64 age bracket, while 24% of participants fell within the 65-74 age bracket in a study of 75,215 participants (42). The same result was evident in a recent summary carried out by <i>Saphner et. al. (2021)</i>, in where it was calculated that patients older than 65 were less likely than patients younger than 65 to engage in clinical trials ( 38.3% vs. 61.7%, p < 0.001) (43).\n",
    "\n",
    "\n",
    "\n"
   ]
  },
  {
   "cell_type": "markdown",
   "id": "b1d78f12",
   "metadata": {},
   "source": [
    "Let's try and replicate these findings using `numpy.random`. Based on what we have seen thus far, let's go with a triangular distribution peaking around 54. I initally assumed normal distribution would be the way to go here, however I was getting results below 0 on occasions and over 100 which made me wonder how best to display age data. After extensive research, I came across 'triangular' distribution which lets you set ranges and a peak (44). My decision was based on the discussion held in [Stack Exchange](https://stats.stackexchange.com/questions/129417/if-my-histogram-shows-a-bell-shaped-curve-can-i-say-my-data-is-normally-distrib), in where age distribution is discussed (45)."
   ]
  },
  {
   "cell_type": "code",
   "execution_count": 9,
   "id": "42c61ec2",
   "metadata": {},
   "outputs": [
    {
     "name": "stdout",
     "output_type": "stream",
     "text": [
      "[33.7 39.7 64.5 57.8 44.  40.6 54.1 30.7 57.6 76.3 35.2 77.2 57.3 22.3\n",
      " 46.7 70.9 58.9 40.2 60.8 33.2 20.6 28.5 41.1 47.8 36.5 65.7 31.2 25.7\n",
      " 21.8 54.1 68.4 54.3 75.2 60.3 68.9 75.  51.8 75.9 49.3 36.9 47.2 57.2\n",
      " 40.5 72.4 35.8 41.  35.9 41.9  5.9 55.5 37.5 18.9 55.  29.8 38.9 46.6\n",
      " 27.6 33.1 48.3 48.4 35.7 38.5 37.3 36.1 48.7 32.6 49.4 35.1 67.3 30.1\n",
      " 69.  30.  61.7 54.7 32.4 62.3 35.3 21.1 55.  51.3 55.8 29.7 35.2 58.2\n",
      " 20.5 70.  46.  55.  39.4 30.1  7.8 32.5 69.6 80.7 46.7 43.3 37.1 79.6\n",
      " 17.6 44.9 29.2 34.7 63.5 32.  52.  42.6 49.9 40.7 37.5 37.5 21.1 48.7\n",
      " 70.7 77.  12.4 73.8 24.9 61.6 71.8 29.1 40.5 43.2 41.4 50.3  7.5 45.7\n",
      " 70.2 21.3 48.8 48.6 63.6 79.3 59.4 36.9 57.5 41.5 62.7 57.8 81.5 69.3\n",
      " 15.7 38.  69.  54.2 41.3 17.2 62.4  3.7 21.9 85.4 63.2 69.5 48.4 29.2\n",
      " 51.2 45.8 28.7 29.  35.9 76.5 83.5 59.2 60.2 60.7 50.4 29.9 70.2 70.4\n",
      " 59.5 75.4 82.  49.7 62.1 55.  24.3 39.6 18.9 71.  11.2 51.3 29.9 27.3\n",
      " 29.  70.1 49.3 41.1 88.4 51.7 38.8 42.8 58.8 24.8 62.2 70.7 48.3 46.4\n",
      " 27.  45.7 62.5 45.2 55.1 15.4 33.2 32.  82.2 15.5 32.9 13.2 56.  56.7\n",
      " 41.4 14.1 46.3 29.4 45.9 42.9 33.3 67.5 58.6 48.1 44.4 23.7 54.3 49.8\n",
      " 72.6 80.  65.3 69.3 49.4 43.  48.5 51.1 65.8 27.7 54.2 72.6 33.4 37.8\n",
      " 67.5 56.6 79.5 56.1 77.3 66.4 57.7 30.9 32.7 69.1 40.7 58.3 46.3 47.5\n",
      "  8.1 66.1 39.3 40.9 19.4 55.3 63.4 50.1 48.5 63.  22.4 51.5 61.6 42.6\n",
      " 70.1 47.4 24.4 81.4 47.4 61.9 20.2 65.3 27.8 25.3 37.1 45.8 48.8 45.9\n",
      " 13.8 54.1 61.2 81.7 52.1 75.2 77.6 32.7 18.7 29.3 61.4 36.1 24.  76.5\n",
      " 58.2 78.4 40.4 31.1 26.4 76.5 28.8 64.8 32.6 69.  17.4 43.4 44.5 81.3\n",
      " 71.9 43.6 45.8 59.8 56.  71.6 58.3 50.3 72.2 40.5 42.6 41.7 49.1 13.8\n",
      " 47.2 39.6 34.9 35.2 64.5 43.6 82.1 45.1 58.9 39.  66.4 32.7 37.  38.1\n",
      " 25.7 61.7 46.1 25.4 51.3 49.  49.8 59.6 18.7 49.2 16.6 81.2 57.  29.2\n",
      " 73.9 29.7 41.9 16.  42.8 60.7 25.  63.3 45.9 64.8 29.6 72.3 60.4 16.1\n",
      " 48.5 18.6 60.2 42.4 63.1 70.6 29.8 65.4 43.7 43.5 56.7 80.9 58.1 33.3\n",
      "  2.4 23.9 38.3 19.  18.7 76.9 27.7 40.7 79.5 51.2 58.6 37.8 57.3 28.7\n",
      " 41.4 72.7 60.6 47.7 47.5 61.3 44.3 46.2 52.7 52.4 47.6 54.4 27.6 61.1\n",
      " 28.7 65.2 53.  75.7 45.4 56.9 19.6 38.8 28.7 57.4 24.9 49.5 35.5 29.1\n",
      " 65.5 34.9 20.4 44.  32.5 59.7 55.  77.2 68.2 39.  68.9 35.5 68.3 27.2\n",
      " 74.9 52.6 47.5 44.6 43.2 28.2 55.6 42.  70.4 25.2 48.  53.5 60.5 56.8\n",
      " 45.9 60.7 59.5 43.4 45.9 41.9 63.3 27.  65.7 53.7 42.8 76.4 78.4 80.\n",
      " 22.8 49.1 74.1  7.5 38.6 47.6 37.2 52.9 51.3 67.7 34.6 62.  49.2 79.5\n",
      " 68.7 10.8 44.4 35.7 49.  86.5 53.3 19.  61.5 31.8 47.7 55.8 73.3 41.1\n",
      " 57.2 13.9 18.2 45.8 53.7 37.6 61.3 39.9 36.7 58.8 59.4 81.3 26.  22.3\n",
      " 66.8 37.1 72.7 52.9 54.3  5.7 52.7 69.6 85.5 43.4 29.1 72.4 45.2 47.2\n",
      " 48.  51.8 17.9  9.5 62.7 55.7 44.1 56.7 59.7 38.1 44.  35.2 26.5 53.8\n",
      " 61.  54.6 35.7 56.1 45.  46.9  8.8 63.4 71.9 38.1 42.3 49.1 44.3 42.7\n",
      " 61.5 56.7 39.9 55.8 58.2 46.6 36.1 69.   6.2 60.  65.3 32.5 52.9 82.4\n",
      " 38.7 54.9 45.2 46.6 61.9 51.7 37.2 61.2 52.4 39.1 54.1 61.3 18.4 28.9\n",
      " 41.8 35.3 52.7 16.2 73.8 60.9 45.5 27.8 18.2 61.1 52.7 45.2 39.5 17.\n",
      " 62.2 32.5 36.5 34.1 52.7 38.  23.6 69.8 29.6 32.9 61.2 47.5]\n"
     ]
    },
    {
     "data": {
      "image/png": "[encoded data removed]",
      "text/plain": [
       "<Figure size 1080x576 with 1 Axes>"
      ]
     },
     "metadata": {},
     "output_type": "display_data"
    }
   ],
   "source": [
    "# Generate random integers in triangular distribution for 300 patients\n",
    "plt.figure(figsize=(15,8))\n",
    "age = np.random.default_rng(12345).triangular(1, 54, 90, size= 600)\n",
    "age = age.round(1) # let's round our ages to one decimal place (adapted from reference 46)\n",
    "print(age)\n",
    "\n",
    "# Now let's plot\n",
    "sns.histplot(age, bins=30,\n",
    "               color='green', kde=True)\n",
    "plt.xlabel('Age', fontweight = 'bold')\n",
    "plt.ylabel('Frequency', fontweight = 'bold')\n",
    "plt.suptitle('Age of Participants in Clinical Trial Dataset', fontsize = 20);\n"
   ]
  },
  {
   "cell_type": "markdown",
   "id": "249726ee",
   "metadata": {},
   "source": [
    "I think this plot works quite well for our trial dateset. We have a triangular distribution with a peak around 54 and our range set to 0-90 years of age. We have went with 600 patients in our trial dataset to represent what would generally be the number of participants in a Phase IV trial. It would be remiss to not highlight the fact that we also see a drop-off in participants of a higher age group due to trial requirements. The majority of clinical trials have certain criteria that participants must meet in order to be eligible to enroll (47). These reasons could include prior medication, that may potentially interact with the product being investigated or existing cardiac issues (47). So, we know that participation rates drop off as age increases, however this can also be due to the exclusion of older-age applicants. While this doesn't affect the generation of our dataset, it is important to keep in mind."
   ]
  },
  {
   "cell_type": "code",
   "execution_count": null,
   "id": "e3d66430",
   "metadata": {},
   "outputs": [],
   "source": []
  },
  {
   "cell_type": "code",
   "execution_count": null,
   "id": "0de50a4f",
   "metadata": {},
   "outputs": [],
   "source": []
  },
  {
   "cell_type": "code",
   "execution_count": null,
   "id": "abeec2a9",
   "metadata": {},
   "outputs": [],
   "source": []
  },
  {
   "cell_type": "code",
   "execution_count": null,
   "id": "bdbd91c0",
   "metadata": {},
   "outputs": [],
   "source": []
  },
  {
   "cell_type": "markdown",
   "id": "a6d476e1",
   "metadata": {},
   "source": [
    "<b> Let's define a global style for plots if not defined locally in code </b>"
   ]
  },
  {
   "cell_type": "code",
   "execution_count": 6,
   "id": "4ed4bf24",
   "metadata": {},
   "outputs": [],
   "source": [
    "# Default plot style\n",
    "plt.style.use('seaborn')\n",
    "plt.rcParams['figure.figsize'] = (14,8) # setting global size"
   ]
  },
  {
   "cell_type": "code",
   "execution_count": 7,
   "id": "44bc3102",
   "metadata": {},
   "outputs": [
    {
     "data": {
      "text/plain": [
       "(array([24.,  0., 23.,  0.,  0., 40.,  0., 34.,  0., 29.]),\n",
       " array([0. , 0.4, 0.8, 1.2, 1.6, 2. , 2.4, 2.8, 3.2, 3.6, 4. ]),\n",
       " <BarContainer object of 10 artists>)"
      ]
     },
     "execution_count": 7,
     "metadata": {},
     "output_type": "execute_result"
    },
    {
     "data": {
      "image/png": "[encoded data removed]",
      "text/plain": [
       "<Figure size 1008x576 with 1 Axes>"
      ]
     },
     "metadata": {},
     "output_type": "display_data"
    }
   ],
   "source": [
    "rng = np.random.default_rng()\n",
    "arr = rng.integers(0,5, size=150)  # Create some data\n",
    "plt.hist(arr)"
   ]
  },
  {
   "cell_type": "code",
   "execution_count": null,
   "id": "fd2bc10b",
   "metadata": {},
   "outputs": [],
   "source": []
  },
  {
   "cell_type": "code",
   "execution_count": null,
   "id": "22c8b9aa",
   "metadata": {},
   "outputs": [],
   "source": []
  }
 ],
 "metadata": {
  "kernelspec": {
   "display_name": "Python 3",
   "language": "python",
   "name": "python3"
  },
  "language_info": {
   "codemirror_mode": {
    "name": "ipython",
    "version": 3
   },
   "file_extension": ".py",
   "mimetype": "text/x-python",
   "name": "python",
   "nbconvert_exporter": "python",
   "pygments_lexer": "ipython3",
   "version": "3.8.8"
  }
 },
 "nbformat": 4,
 "nbformat_minor": 5
}
